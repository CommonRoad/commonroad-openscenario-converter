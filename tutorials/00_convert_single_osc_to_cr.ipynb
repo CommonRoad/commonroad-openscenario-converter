{
 "cells": [
  {
   "cell_type": "markdown",
   "source": [
    "# Tutorial: Conversion of single OpenSCENARIO file to the CommonRoad format\n",
    "\n",
    "This tutorial demonstrates how to use the converter to translate single OpenSCENARIO format to the CommonRoad scenarios.\n",
    "\n",
    "Please make sure that you have correctly installed the package by following the README.md"
   ],
   "metadata": {
    "collapsed": false
   }
  },
  {
   "cell_type": "code",
   "execution_count": 9,
   "outputs": [
    {
     "name": "stdout",
     "output_type": "stream",
     "text": [
      "The autoreload extension is already loaded. To reload it, use:\n",
      "  %reload_ext autoreload\n",
      " BRANCH: tags/v2.29.3^0\n",
      "esmini BUILD VERSION: 2.29.3.build.3137\n",
      "Generated seed 2\n",
      "Loading /home/yuanfei/commonroad2/openscenario2cr/scenarios/from_esmini/xosc/./pedestrian.xosc (v1.1)\n",
      "0 variables\n",
      "Loaded OpenDRIVE: /home/yuanfei/commonroad2/openscenario2cr/scenarios/from_esmini/xosc/./../xodr/fabriksgatan.xodr\n",
      "Expr ${250/3.6} = 250/3.6 = 69.4444444444\n",
      "Expr ${250/3.6} = 250/3.6 = 69.4444444444\n",
      "Route::AddWaypoint Added waypoint 0: 0, 1, 63.00\n",
      "Route::AddWaypoint Added intermediate waypoint 1 roadId 9 laneId -1\n",
      "Route::AddWaypoint Added waypoint 2: 2, 1, 0.00\n",
      "Route::AddWaypoint Added waypoint 0: 0, 1, 63.00\n",
      "Route::AddWaypoint Added intermediate waypoint 1 roadId 9 laneId -1\n",
      "Route::AddWaypoint Added waypoint 2: 2, 1, 0.00\n",
      "4 parameters:\n",
      "   owner = NPC\n",
      "   PedestrianSpeed = 1.5\n",
      "   HostSpeed = 10\n",
      "   HostVehicle = car_white\n",
      "0.000: Init Ego RoutingAction standbyState -> startTransition -> runningState\n",
      "0.000: Starting teleport Action\n",
      "0.000: Ego New position:\n",
      "0.000: Pos(42.98, -71.25, 0.00) Rot(1.78, 0.00, 0.00) roadId 0 laneId 1 offset 0.00 t 1.75\n",
      "0.000: Init Ego TeleportAction standbyState -> startTransition -> runningState\n",
      "0.000: Init Ego LongitudinalAction standbyState -> startTransition -> runningState\n",
      "0.000: Starting teleport Action\n",
      "0.000: pedestrian_adult New position:\n",
      "0.000: Pos(35.69, -23.63, 0.00) Rot(1.80, 0.00, 0.00) roadId 0 laneId 3 offset 0.50 t 5.30\n",
      "0.000: Init pedestrian_adult TeleportAction standbyState -> startTransition -> runningState\n",
      "0.000: Init Ego RoutingAction runningState -> endTransition -> completeState\n",
      "0.000: Init Ego TeleportAction runningState -> endTransition -> completeState\n",
      "0.000: Init Ego LongitudinalAction runningState -> endTransition -> completeState\n",
      "0.000: Init pedestrian_adult TeleportAction runningState -> endTransition -> completeState\n",
      "Closing\n",
      "esmini GIT REV: a95bded\n",
      "esmini GIT TAG: v2.29.3\n",
      "esmini GIT BRANCH: tags/v2.29.3^0\n",
      "esmini BUILD VERSION: 2.29.3.build.3137\n",
      "Player arguments:  esmini(lib) --osc /home/yuanfei/commonroad2/openscenario2cr/scenarios/from_esmini/xosc/pedestrian.xosc --headless\n",
      "esmini GIT REV: a95bded\n",
      "esmini GIT TAG: v2.29.3\n",
      "esmini GIT BRANCH: tags/v2.29.3^0\n",
      "esmini BUILD VERSION: 2.29.3.build.3137\n",
      "Generated seed 2\n",
      "Loading /home/yuanfei/commonroad2/openscenario2cr/scenarios/from_esmini/xosc/./pedestrian.xosc (v1.1)\n",
      "0 variables\n",
      "Loaded OpenDRIVE: /home/yuanfei/commonroad2/openscenario2cr/scenarios/from_esmini/xosc/./../xodr/fabriksgatan.xodr\n",
      "Expr ${250/3.6} = 250/3.6 = 69.4444444444\n",
      "Expr ${250/3.6} = 250/3.6 = 69.4444444444\n",
      "Route::AddWaypoint Added waypoint 0: 0, 1, 63.00\n",
      "Route::AddWaypoint Added intermediate waypoint 1 roadId 9 laneId -1\n",
      "Route::AddWaypoint Added waypoint 2: 2, 1, 0.00\n",
      "Route::AddWaypoint Added waypoint 0: 0, 1, 63.00\n",
      "Route::AddWaypoint Added intermediate waypoint 1 roadId 9 laneId -1\n",
      "Route::AddWaypoint Added waypoint 2: 2, 1, 0.00\n",
      "4 parameters:\n",
      "   owner = NPC\n",
      "   PedestrianSpeed = 1.5\n",
      "   HostSpeed = 10\n",
      "   HostVehicle = car_white\n",
      "0.000: Init Ego RoutingAction standbyState -> startTransition -> runningState\n",
      "0.000: Starting teleport Action\n",
      "0.000: Ego New position:\n",
      "0.000: Pos(42.98, -71.25, 0.00) Rot(1.78, 0.00, 0.00) roadId 0 laneId 1 offset 0.00 t 1.75\n",
      "0.000: Init Ego TeleportAction standbyState -> startTransition -> runningState\n",
      "0.000: Init Ego LongitudinalAction standbyState -> startTransition -> runningState\n",
      "0.000: Starting teleport Action\n",
      "0.000: pedestrian_adult New position:\n",
      "0.000: Pos(35.69, -23.63, 0.00) Rot(1.80, 0.00, 0.00) roadId 0 laneId 3 offset 0.50 t 5.30\n",
      "0.000: Init pedestrian_adult TeleportAction standbyState -> startTransition -> runningState\n",
      "0.000: Init Ego RoutingAction runningState -> endTransition -> completeState\n",
      "0.000: Init Ego TeleportAction runningState -> endTransition -> completeState\n",
      "0.000: Init Ego LongitudinalAction runningState -> endTransition -> completeState\n",
      "0.000: Init pedestrian_adult TeleportAction runningState -> endTransition -> completeState\n",
      "Closing\n",
      "esmini GIT REV: a95bded\n",
      "esmini GIT TAG: v2.29.3\n",
      "esmini GIT BRANCH: tags/v2.29.3^0\n",
      "esmini BUILD VERSION: 2.29.3.build.3137\n",
      "Player arguments:  esmini(lib) --osc /home/yuanfei/commonroadReplace file /home/yuanfei/commonroad2/openscenario2cr/output/pedestrian/OSC_pedestrian_1_T-1.xml\n"
     ]
    }
   ],
   "source": [
    "%matplotlib inline\n",
    "%load_ext autoreload\n",
    "%autoreload 2\n",
    "\n",
    "import sys\n",
    "sys.path.append(\"../\")\n",
    "\n",
    "import warnings\n",
    "warnings.filterwarnings('ignore')\n",
    "\n",
    "from osc_cr_converter.utility.configuration import ConverterParams\n",
    "from osc_cr_converter.converter.osc2cr import Osc2CrConverter\n",
    "\n",
    "scenario_path = '../scenarios/from_esmini/xosc/pedestrian.xosc'\n",
    "config = ConverterParams()\n",
    "converter = Osc2CrConverter(config)\n",
    "scenario = converter.run_conversion(scenario_path)"
   ],
   "metadata": {
    "collapsed": false,
    "ExecuteTime": {
     "end_time": "2023-05-08T13:38:51.544450202Z",
     "start_time": "2023-05-08T13:38:48.250683877Z"
    }
   }
  },
  {
   "cell_type": "code",
   "execution_count": 5,
   "outputs": [
    {
     "name": "stdout",
     "output_type": "stream",
     "text": [
      "ZAM_OpenDrive-1\n"
     ]
    }
   ],
   "source": [
    "print(scenario.scenario_id)"
   ],
   "metadata": {
    "collapsed": false,
    "ExecuteTime": {
     "end_time": "2023-05-08T13:23:05.189161275Z",
     "start_time": "2023-05-08T13:23:05.146982210Z"
    }
   }
  },
  {
   "cell_type": "code",
   "execution_count": null,
   "outputs": [],
   "source": [],
   "metadata": {
    "collapsed": false
   }
  }
 ],
 "metadata": {
  "kernelspec": {
   "name": "commonroad-py39",
   "language": "python",
   "display_name": "Python commonroad-py39"
  },
  "language_info": {
   "codemirror_mode": {
    "name": "ipython",
    "version": 2
   },
   "file_extension": ".py",
   "mimetype": "text/x-python",
   "name": "python",
   "nbconvert_exporter": "python",
   "pygments_lexer": "ipython2",
   "version": "2.7.6"
  }
 },
 "nbformat": 4,
 "nbformat_minor": 0
}
