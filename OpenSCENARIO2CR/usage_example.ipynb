{
 "cells": [
  {
   "cell_type": "code",
   "execution_count": null,
   "metadata": {
    "collapsed": true
   },
   "outputs": [],
   "source": [
    "import re\n",
    "\n",
    "import matplotlib.pyplot as plt\n",
    "from commonroad.common.util import Interval\n",
    "from commonroad.scenario.scenario import Tag\n",
    "from commonroad.visualization.mp_renderer import MPRenderer\n",
    "\n",
    "from OpenSCENARIO2CR.ConversionAnalyzer.AnalyzerErrorResult import AnalyzerErrorResult\n",
    "from OpenSCENARIO2CR.ConversionAnalyzer.EAnalyzer import EAnalyzer\n",
    "from OpenSCENARIO2CR.ConversionAnalyzer.SpotAnalyzer import SpotAnalyzer\n",
    "from OpenSCENARIO2CR.OpenSCENARIOWrapper.Esmini.EsminiWrapperProvider import EsminiWrapperProvider\n",
    "from OpenSCENARIO2CR.OpenSCENARIOWrapper.Esmini.StoryBoardElement import EStoryBoardElementType\n",
    "from OpenSCENARIO2CR.Osc2CrConverter import Osc2CrConverter, EFailureReason\n",
    "from OpenSCENARIO2CR.Osc2CrConverterResult import Osc2CrConverterResult\n",
    "from OpenSCENARIO2CR.util.AbsRel import AbsRel\n",
    "from OpenSCENARIO2CR.util.PlanningProblemBuilder import PlanningProblemSetBuilder"
   ]
  },
  {
   "cell_type": "code",
   "execution_count": null,
   "outputs": [],
   "source": [
    "scenario_path = \"\"\n",
    "run_viewer = False\n",
    "print_plots = False\n",
    "plots_step = 5\n",
    "plot_limit = 20  # If non-null the renderer follows the ego vehicle\n",
    "following_obstacle_index = 0"
   ],
   "metadata": {
    "collapsed": false
   }
  },
  {
   "cell_type": "code",
   "execution_count": null,
   "outputs": [],
   "source": [
    "# Setup EsminiWrapper\n",
    "esmini_wrapper = EsminiWrapperProvider(preferred_version=\"v2.26.5\").provide_esmini_wrapper()\n",
    "esmini_wrapper.max_time = 120.0\n",
    "esmini_wrapper.grace_time = 1.0\n",
    "esmini_wrapper.ignored_level = EStoryBoardElementType.ACT\n",
    "esmini_wrapper.log_to_console = False\n",
    "esmini_wrapper.log_to_file = False\n",
    "esmini_wrapper.random_seed = 0"
   ],
   "metadata": {
    "collapsed": false
   }
  },
  {
   "cell_type": "code",
   "execution_count": null,
   "outputs": [],
   "source": [
    "if run_viewer:\n",
    "    wrapper = EsminiWrapperProvider().provide_esmini_wrapper()\n",
    "    wrapper.grace_time = None\n",
    "    wrapper.max_time = 60.0\n",
    "    wrapper.ignored_level = EStoryBoardElementType.ACT\n",
    "    wrapper.view_scenario(scenario_path)"
   ],
   "metadata": {
    "collapsed": false
   }
  },
  {
   "cell_type": "code",
   "execution_count": null,
   "outputs": [],
   "source": [
    "pps_builder = PlanningProblemSetBuilder()\n",
    "pps_builder.goal_state_time_step = AbsRel(Interval(-10, 0), False)\n",
    "pps_builder.goal_state_position_length = 50\n",
    "pps_builder.goal_state_position_width = 10\n",
    "pps_builder.goal_state_position_use_ego_rotation = True\n",
    "pps_builder.goal_state_orientation = None\n",
    "# pps_builder.goal_state_orientation = AbsRel(AngleInterval(-0.8, 0.8), False)\n",
    "pps_builder.goal_state_velocity = None\n",
    "# pps_builder.goal_state_velocity = AbsRel(Interval(-10, 10), False)"
   ],
   "metadata": {
    "collapsed": false
   }
  },
  {
   "cell_type": "code",
   "execution_count": null,
   "outputs": [],
   "source": [
    "converter = Osc2CrConverter(\n",
    "    author=\"ADD AUTHOR HERE\",\n",
    "    affiliation=\"ADD AFFILIATION HERE\",\n",
    "    source=\"ADD SOURCE HERE\",\n",
    "    tags={Tag.SIMULATED},\n",
    ")\n",
    "\n",
    "converter.sim_wrapper = esmini_wrapper\n",
    "converter.pps_builder = pps_builder\n",
    "\n",
    "converter.dt_cr = 0.1\n",
    "converter.keep_ego_vehicle = True\n",
    "converter.trim_scenario = False\n",
    "converter.use_implicit_odr_file = True\n",
    "converter.analyzers = [\n",
    "    EAnalyzer.SPOT_ANALYZER,\n",
    "    EAnalyzer.DRIVABILITY_CHECKER,\n",
    "    EAnalyzer.STL_MONITOR,\n",
    "]\n",
    "\n",
    "converter.dt_sim = 0.01\n",
    "converter.odr_file_override = None\n",
    "converter.ego_filter = re.compile(r\".*ego.*\", re.IGNORECASE)"
   ],
   "metadata": {
    "collapsed": false
   }
  },
  {
   "cell_type": "code",
   "execution_count": null,
   "outputs": [],
   "source": [
    "result = converter.run_conversion(scenario_path)"
   ],
   "metadata": {
    "collapsed": false
   }
  },
  {
   "cell_type": "code",
   "execution_count": null,
   "outputs": [],
   "source": [
    "if isinstance(result, EFailureReason):\n",
    "    print(f\"Scenario failed due to {result}\")\n",
    "    assert False\n",
    "result: Osc2CrConverterResult = result\n",
    "for o_name,  analysis in result.analysis[EAnalyzer.SPOT_ANALYZER].items():\n",
    "    if isinstance(analysis, AnalyzerErrorResult):\n",
    "        print(f\"{o_name}: {analysis.exception_text}\\n{analysis.traceback_text}\\n\\n\\n\")"
   ],
   "metadata": {
    "collapsed": false
   }
  }
 ],
 "metadata": {
  "kernelspec": {
   "display_name": "Python 3",
   "language": "python",
   "name": "python3"
  },
  "language_info": {
   "codemirror_mode": {
    "name": "ipython",
    "version": 2
   },
   "file_extension": ".py",
   "mimetype": "text/x-python",
   "name": "python",
   "nbconvert_exporter": "python",
   "pygments_lexer": "ipython2",
   "version": "2.7.6"
  }
 },
 "nbformat": 4,
 "nbformat_minor": 0
}
