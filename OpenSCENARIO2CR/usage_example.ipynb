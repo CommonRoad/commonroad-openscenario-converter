{
 "cells": [
  {
   "cell_type": "code",
   "execution_count": null,
   "metadata": {
    "collapsed": true
   },
   "outputs": [],
   "source": [
    "import re\n",
    "from typing import Optional\n",
    "\n",
    "import matplotlib.pyplot as plt\n",
    "from commonroad.common.util import Interval\n",
    "from commonroad.scenario.scenario import Tag\n",
    "from commonroad.visualization.mp_renderer import MPRenderer\n",
    "\n",
    "from OpenSCENARIO2CR.ConversionAnalyzer.EAnalyzer import EAnalyzer\n",
    "from OpenSCENARIO2CR.ConversionAnalyzer.SpotAnalyzer import SpotAnalyzer\n",
    "from OpenSCENARIO2CR.OpenSCENARIOWrapper.Esmini.EsminiWrapperProvider import EsminiWrapperProvider\n",
    "from OpenSCENARIO2CR.OpenSCENARIOWrapper.Esmini.StoryBoardElement import EStoryBoardElementType\n",
    "from OpenSCENARIO2CR.Osc2CrConverter import Osc2CrConverter\n",
    "from OpenSCENARIO2CR.Osc2CrConverterResult import Osc2CrConverterResult\n",
    "from OpenSCENARIO2CR.util.AbsRel import AbsRel\n",
    "from OpenSCENARIO2CR.util.PPSBuilder import PPSBuilder"
   ]
  },
  {
   "cell_type": "code",
   "execution_count": null,
   "outputs": [],
   "source": [
    "scenario_path = \"/path/to/esmini/resources/xosc/acc-test.xosc\"\n",
    "run_viewer = False\n",
    "render_to_gif = False\n",
    "draw_plots = True"
   ],
   "metadata": {
    "collapsed": false
   }
  },
  {
   "cell_type": "code",
   "execution_count": null,
   "outputs": [],
   "source": [
    "# Setup EsminiWrapper\n",
    "esmini_wrapper = EsminiWrapperProvider().provide_esmini_wrapper()\n",
    "esmini_wrapper.min_time = 13\n",
    "esmini_wrapper.max_time = 120.0\n",
    "esmini_wrapper.grace_time = 1.0\n",
    "esmini_wrapper.ignored_level = EStoryBoardElementType.ACT\n",
    "esmini_wrapper.log_to_console = False\n",
    "esmini_wrapper.log_to_file = False\n",
    "esmini_wrapper.random_seed = 0"
   ],
   "metadata": {
    "collapsed": false
   }
  },
  {
   "cell_type": "code",
   "execution_count": null,
   "outputs": [],
   "source": [
    "if run_viewer:\n",
    "    wrapper = EsminiWrapperProvider().provide_esmini_wrapper()\n",
    "    wrapper.grace_time = None\n",
    "    wrapper.max_time = 60.0\n",
    "    wrapper.ignored_level = EStoryBoardElementType.ACT\n",
    "    wrapper.view_scenario(scenario_path)\n",
    "    raise Exception"
   ],
   "metadata": {
    "collapsed": false
   }
  },
  {
   "cell_type": "code",
   "execution_count": null,
   "outputs": [],
   "source": [
    "if render_to_gif:\n",
    "    esmini_wrapper.render_scenario_to_gif(scenario_path, \"scenario.gif\")"
   ],
   "metadata": {
    "collapsed": false
   }
  },
  {
   "cell_type": "code",
   "execution_count": null,
   "outputs": [],
   "source": [
    "pps_builder = PPSBuilder()\n",
    "pps_builder.time_interval = AbsRel.relative(Interval(-10, 0))\n",
    "pps_builder.position_length_factor = AbsRel.absolute(50)\n",
    "pps_builder.position_width_factor = AbsRel.absolute(10)\n",
    "pps_builder.position_rotation = AbsRel.relative(0)\n",
    "pps_builder.position_center_x = AbsRel.relative(0)\n",
    "pps_builder.position_center_y = AbsRel.relative(0)\n",
    "pps_builder.velocity_interval = AbsRel.relative(Interval(-5, 5))\n",
    "pps_builder.orientation_interval = None"
   ],
   "metadata": {
    "collapsed": false
   }
  },
  {
   "cell_type": "code",
   "execution_count": null,
   "outputs": [],
   "source": [
    "converter = Osc2CrConverter(\n",
    "    author=\"ADD AUTHOR HERE\",\n",
    "    affiliation=\"ADD AFFILIATION HERE\",\n",
    "    source=\"ADD SOURCE HERE\",\n",
    "    tags={Tag.SIMULATED},\n",
    ")\n",
    "\n",
    "converter.sim_wrapper = esmini_wrapper\n",
    "converter.pps_builder = pps_builder\n",
    "\n",
    "converter.dt_cr = 0.1\n",
    "converter.keep_ego_vehicle = True\n",
    "converter.trim_scenario = False\n",
    "converter.use_implicit_odr_file = True\n",
    "converter.analyzers = {\n",
    "    EAnalyzer.SPOT: SpotAnalyzer(stride=1),\n",
    "    EAnalyzer.DRIVABILITY: None,  # Will be initialized with default parameters\n",
    "    EAnalyzer.STL: None,  # Will be initialized with default parameters\n",
    "}\n",
    "# If you only want to run with default parameters for analyzers you can also use:\n",
    "# converter.analyzers = [EAnalyzer.SPOT_ANALYZER, EAnalyzer.DRIVABILITY_CHECKER, EAnalyzer.STL_MONITOR]\n",
    "\n",
    "converter.dt_sim = 0.01\n",
    "converter.odr_file_override = None\n",
    "converter.ego_filter = re.compile(r\".*ego.*\", re.IGNORECASE)"
   ],
   "metadata": {
    "collapsed": false
   }
  },
  {
   "cell_type": "code",
   "execution_count": null,
   "outputs": [],
   "source": [
    "result = converter.run_conversion(scenario_path)"
   ],
   "metadata": {
    "collapsed": false
   }
  },
  {
   "cell_type": "code",
   "execution_count": null,
   "outputs": [],
   "source": [
    "assert isinstance(result, Osc2CrConverterResult)\n",
    "\n",
    "scenario = result.scenario\n",
    "pps = result.planning_problem_set\n",
    "analysis = result.analysis\n",
    "stats = result.statistics"
   ],
   "metadata": {
    "collapsed": false
   }
  },
  {
   "cell_type": "code",
   "execution_count": null,
   "outputs": [],
   "source": [
    "def draw_obstacle_in_color(renderer, obstacle, color, trajectory_color: Optional = None, time: int = 0):\n",
    "    assert renderer is not None\n",
    "    assert obstacle is not None\n",
    "    assert color is not None\n",
    "    renderer.draw_dynamic_obstacle(\n",
    "        obstacle,\n",
    "        call_stack=(),\n",
    "        draw_params={\n",
    "            \"time_begin\": time,\n",
    "            \"trajectory\": {\n",
    "                \"draw_trajectory\": trajectory_color is not None,\n",
    "                \"draw_continuous\": True,\n",
    "                \"line_width\": 1.5,\n",
    "                \"facecolor\": \"#000000\" if trajectory_color is None else trajectory_color,\n",
    "            },\n",
    "            \"dynamic_obstacle\": {\n",
    "                \"draw_shape\": True,\n",
    "                \"vehicle_shape\": {\n",
    "                    \"occupancy\": {\n",
    "                        \"shape\": {\n",
    "                            \"rectangle\": {\n",
    "                                \"facecolor\": color,\n",
    "                                \"edgecolor\": \"black\",\n",
    "                            },\n",
    "                        }\n",
    "                    },\n",
    "                },\n",
    "            },\n",
    "        }\n",
    "    )"
   ],
   "metadata": {
    "collapsed": false
   }
  },
  {
   "cell_type": "code",
   "execution_count": null,
   "outputs": [],
   "source": [
    "if draw_plots:\n",
    "    lim_y = 10\n",
    "    lim_x = lim_y * 3\n",
    "    x_offset = 15\n",
    "    x_size = 5\n",
    "    y_size = 4\n",
    "\n",
    "    highlight_color = \"#0065BD\"\n",
    "    highlight_color_darker = \"#005293\"\n",
    "\n",
    "    normal_color = \"#E37222\"\n",
    "    normal_color_darker = \"#994d17\"\n",
    "\n",
    "    time_steps_with_spot = [45, 75]\n",
    "    time_steps_no_spot = [60]\n",
    "\n",
    "    rnd = MPRenderer(figsize=(2 * x_size, 0.7 * y_size), plot_limits=[-10, 260, -30, 30], )\n",
    "    scenario.draw(rnd, draw_params={\n",
    "        \"trajectory\": {\"draw_trajectory\": False},\n",
    "        \"dynamic_obstacle\": {\"draw_shape\": False,},\n",
    "        \"time_begin\": 0\n",
    "    })\n",
    "    draw_obstacle_in_color(rnd, scenario.dynamic_obstacles[0], highlight_color, highlight_color_darker, time=0)\n",
    "    for i in range(1, len(scenario.dynamic_obstacles)):\n",
    "        draw_obstacle_in_color(rnd, scenario.dynamic_obstacles[i], \"#E37222\", \"#994d17\", time=0)\n",
    "    pps.draw(rnd)\n",
    "    rnd.render()\n",
    "    plt.tight_layout()\n",
    "    plt.savefig(\"overview.png\")\n",
    "    plt.show()\n",
    "\n",
    "    for t in time_steps_no_spot:\n",
    "        rnd = MPRenderer(\n",
    "            figsize=(x_size, 0.5 * y_size),\n",
    "            draw_params={\"focus_obstacle_id\": scenario.dynamic_obstacles[0].obstacle_id},\n",
    "            plot_limits=[-lim_x + x_offset, lim_x + x_offset, -lim_y, lim_y],\n",
    "        )\n",
    "        scenario.draw(rnd, draw_params={\n",
    "            \"trajectory\": {\"draw_trajectory\": False},\n",
    "            \"dynamic_obstacle\": {\"draw_shape\": False,},\n",
    "            \"time_begin\": t\n",
    "        })\n",
    "        draw_obstacle_in_color(rnd, scenario.dynamic_obstacles[0], highlight_color, highlight_color_darker, time=t)\n",
    "        for i in range(1, len(scenario.dynamic_obstacles)):\n",
    "            draw_obstacle_in_color(rnd, scenario.dynamic_obstacles[i], \"#E37222\", \"#994d17\", time=t)\n",
    "        pps.draw(rnd)\n",
    "        rnd.render()\n",
    "        plt.tight_layout()\n",
    "        plt.savefig(f\"step-{t}.png\")\n",
    "        plt.show()\n",
    "    for t in time_steps_with_spot:\n",
    "        fig, axs = plt.subplots(2, 1, tight_layout=True, figsize=(x_size, y_size))\n",
    "        assert isinstance(fig, plt.Figure)\n",
    "\n",
    "        rnd = MPRenderer(\n",
    "            ax=axs[0],\n",
    "            draw_params={\"focus_obstacle_id\": scenario.dynamic_obstacles[0].obstacle_id},\n",
    "            plot_limits=[-lim_x + x_offset, lim_x + x_offset, -lim_y, lim_y],\n",
    "        )\n",
    "        scenario.draw(rnd, draw_params={\n",
    "            \"trajectory\": {\"draw_trajectory\": False},\n",
    "            \"dynamic_obstacle\": {\"draw_shape\": False,},\n",
    "            \"time_begin\": t\n",
    "        })\n",
    "        draw_obstacle_in_color(rnd, scenario.dynamic_obstacles[0], highlight_color, highlight_color_darker, time=t)\n",
    "        for i in range(1, len(scenario.dynamic_obstacles)):\n",
    "            draw_obstacle_in_color(rnd, scenario.dynamic_obstacles[i], \"#E37222\", \"#994d17\", time=t)\n",
    "        pps.draw(rnd)\n",
    "        rnd.render()\n",
    "\n",
    "        res = analysis[EAnalyzer.SPOT][1][stats.ego_vehicle]\n",
    "        restore = {}\n",
    "        for o_id, o_prediction in res.predictions[t].items():\n",
    "            if o_id == scenario.dynamic_obstacles[0].obstacle_id:\n",
    "                continue\n",
    "            restore[o_id] = scenario.obstacle_by_id(o_id).prediction\n",
    "            scenario.obstacle_by_id(o_id).prediction = o_prediction\n",
    "\n",
    "        try:\n",
    "            rnd = MPRenderer(\n",
    "                ax=axs[1],\n",
    "                draw_params={\"focus_obstacle_id\": scenario.dynamic_obstacles[0].obstacle_id},\n",
    "                plot_limits=[-lim_x + x_offset, lim_x + x_offset, -lim_y, lim_y],\n",
    "            )\n",
    "            scenario.draw(rnd, draw_params={\n",
    "                \"trajectory\": {\"draw_trajectory\": False},\n",
    "                \"dynamic_obstacle\": {\"draw_shape\": False,},\n",
    "                \"time_begin\": t\n",
    "            })\n",
    "            draw_obstacle_in_color(rnd, scenario.dynamic_obstacles[0], highlight_color, highlight_color_darker, time=t)\n",
    "            for o_id, o_prediction in restore.items():\n",
    "                scenario.obstacle_by_id(o_id).prediction = o_prediction\n",
    "                draw_obstacle_in_color(rnd, scenario.obstacle_by_id(o_id), \"#E37222\", None, time=t)\n",
    "\n",
    "            pps.draw(rnd)\n",
    "            rnd.render()\n",
    "\n",
    "            fig.savefig(f\"step-{t}.png\")\n",
    "            fig.show()\n",
    "        finally:\n",
    "            for o_id, o_prediction in restore.items():\n",
    "                scenario.obstacle_by_id(o_id).prediction = o_prediction"
   ],
   "metadata": {
    "collapsed": false
   }
  }
 ],
 "metadata": {
  "kernelspec": {
   "display_name": "Python 3",
   "language": "python",
   "name": "python3"
  },
  "language_info": {
   "codemirror_mode": {
    "name": "ipython",
    "version": 2
   },
   "file_extension": ".py",
   "mimetype": "text/x-python",
   "name": "python",
   "nbconvert_exporter": "python",
   "pygments_lexer": "ipython2",
   "version": "2.7.6"
  }
 },
 "nbformat": 4,
 "nbformat_minor": 0
}
