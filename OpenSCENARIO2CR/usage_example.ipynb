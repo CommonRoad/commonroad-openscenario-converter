{
 "cells": [
  {
   "cell_type": "code",
   "execution_count": null,
   "metadata": {
    "collapsed": true
   },
   "outputs": [],
   "source": [
    "import re\n",
    "\n",
    "import matplotlib.pyplot as plt\n",
    "from commonroad.common.util import Interval\n",
    "from commonroad.scenario.scenario import Tag\n",
    "from commonroad.visualization.mp_renderer import MPRenderer\n",
    "\n",
    "from OpenSCENARIO2CR.ConversionAnalyzer.EAnalyzer import EAnalyzer\n",
    "from OpenSCENARIO2CR.ConversionAnalyzer.SpotAnalyzer import SpotAnalyzerResult, SpotAnalyzer\n",
    "from OpenSCENARIO2CR.OpenSCENARIOWrapper.Esmini.EsminiWrapperProvider import EsminiWrapperProvider\n",
    "from OpenSCENARIO2CR.OpenSCENARIOWrapper.Esmini.StoryBoardElement import EStoryBoardElementType\n",
    "from OpenSCENARIO2CR.Osc2CrConverter import Osc2CrConverter\n",
    "from OpenSCENARIO2CR.Osc2CrConverterResult import Osc2CrConverterResult\n",
    "from OpenSCENARIO2CR.util.AbsRel import AbsRel\n",
    "from OpenSCENARIO2CR.util.PlanningProblemBuilder import PPSBuilder"
   ]
  },
  {
   "cell_type": "code",
   "execution_count": null,
   "outputs": [],
   "source": [
    "scenario_path = \"\"\n",
    "run_viewer = False\n",
    "plots_step = 5\n",
    "plot_limit = 20  # If non-null the renderer follows the ego vehicle\n",
    "following_obstacle_index = 0"
   ],
   "metadata": {
    "collapsed": false
   }
  },
  {
   "cell_type": "code",
   "execution_count": null,
   "outputs": [],
   "source": [
    "# Setup EsminiWrapper\n",
    "esmini_wrapper = EsminiWrapperProvider().provide_esmini_wrapper()\n",
    "esmini_wrapper.min_time = 15\n",
    "esmini_wrapper.max_time = 120.0\n",
    "esmini_wrapper.grace_time = 1.0\n",
    "esmini_wrapper.ignored_level = EStoryBoardElementType.ACT\n",
    "esmini_wrapper.log_to_console = False\n",
    "esmini_wrapper.log_to_file = False\n",
    "esmini_wrapper.random_seed = 0"
   ],
   "metadata": {
    "collapsed": false
   }
  },
  {
   "cell_type": "code",
   "execution_count": null,
   "outputs": [],
   "source": [
    "if run_viewer:\n",
    "    wrapper = EsminiWrapperProvider().provide_esmini_wrapper()\n",
    "    wrapper.grace_time = None\n",
    "    wrapper.max_time = 60.0\n",
    "    wrapper.ignored_level = EStoryBoardElementType.ACT\n",
    "    wrapper.view_scenario(scenario_path)"
   ],
   "metadata": {
    "collapsed": false
   }
  },
  {
   "cell_type": "code",
   "execution_count": null,
   "outputs": [],
   "source": [
    "pps_builder = PPSBuilder()\n",
    "pps_builder.goal_state_time_step = AbsRel(Interval(-10, 0), False)\n",
    "pps_builder.goal_state_position_length = 50\n",
    "pps_builder.goal_state_position_width = 10\n",
    "pps_builder.goal_state_position_use_ego_rotation = True\n",
    "pps_builder.goal_state_orientation = None\n",
    "pps_builder.goal_state_velocity = None\n",
    "# If you want to also include orientation and velocity in the GoalRegion provide some AbsRel objects\n",
    "# pps_builder.goal_state_orientation = AbsRel(AngleInterval(-0.8, 0.8), is_absolute=False)\n",
    "# pps_builder.goal_state_velocity = AbsRel(Interval(-10, 10), is_absolute=False)"
   ],
   "metadata": {
    "collapsed": false
   }
  },
  {
   "cell_type": "code",
   "execution_count": null,
   "outputs": [],
   "source": [
    "\n",
    "converter = Osc2CrConverter(\n",
    "    author=\"ADD AUTHOR HERE\",\n",
    "    affiliation=\"ADD AFFILIATION HERE\",\n",
    "    source=\"ADD SOURCE HERE\",\n",
    "    tags={Tag.SIMULATED},\n",
    ")\n",
    "\n",
    "converter.sim_wrapper = esmini_wrapper\n",
    "converter.pps_builder = pps_builder\n",
    "\n",
    "converter.dt_cr = 0.1\n",
    "converter.keep_ego_vehicle = True\n",
    "converter.trim_scenario = False\n",
    "converter.use_implicit_odr_file = True\n",
    "converter.analyzers = {\n",
    "    EAnalyzer.SPOT: SpotAnalyzer(stride=1),\n",
    "    EAnalyzer.DRIVABILITY: None,  # Will be initialized with default parameters\n",
    "    EAnalyzer.STL: None,  # Will be initialized with default parameters\n",
    "}\n",
    "# If you only want to run with default parameters for analyzers you can also use:\n",
    "# converter.analyzers = [EAnalyzer.SPOT_ANALYZER, EAnalyzer.DRIVABILITY_CHECKER, EAnalyzer.STL_MONITOR]\n",
    "\n",
    "converter.dt_sim = 0.01\n",
    "converter.odr_file_override = None\n",
    "converter.ego_filter = re.compile(r\".*ego.*\", re.IGNORECASE)"
   ],
   "metadata": {
    "collapsed": false
   }
  },
  {
   "cell_type": "code",
   "execution_count": null,
   "outputs": [],
   "source": [
    "result = converter.run_conversion(scenario_path)"
   ],
   "metadata": {
    "collapsed": false
   }
  },
  {
   "cell_type": "code",
   "execution_count": null,
   "outputs": [],
   "source": [
    "assert isinstance(result, Osc2CrConverterResult)"
   ],
   "metadata": {
    "collapsed": false
   }
  },
  {
   "cell_type": "code",
   "execution_count": null,
   "outputs": [],
   "source": [
    "\n",
    "count = 0\n",
    "\n",
    "scenario = result.scenario\n",
    "pps = result.planning_problem_set\n",
    "analysis = result.analysis\n",
    "stats = result.statistics\n",
    "\n",
    "lim_y = 30\n",
    "lim_x = lim_y * 3\n",
    "size = 10\n",
    "\n",
    "rnd = MPRenderer(figsize=(size, size), plot_limits=[-15, 495, -60, 110])\n",
    "scenario.draw(rnd, draw_params={\n",
    "    \"trajectory\": {\n",
    "        \"draw_continuous\": True,\n",
    "        \"line_width\": 1,\n",
    "        \"unique_colors\": True,\n",
    "    }\n",
    "})\n",
    "pps.draw(rnd)\n",
    "rnd.render()\n",
    "plt.savefig(\"overview.png\")\n",
    "plt.show()\n",
    "\n",
    "times = [70, 85, 110]\n",
    "\n",
    "for t in times:\n",
    "    rnd = MPRenderer(\n",
    "        figsize=(size, size),\n",
    "        draw_params={\"focus_obstacle_id\": scenario.dynamic_obstacles[0].obstacle_id},\n",
    "        plot_limits=[-lim_x, lim_x, -lim_y, lim_y],\n",
    "    )\n",
    "    scenario.draw(rnd, draw_params={\n",
    "        \"trajectory\": {\n",
    "            \"draw_continuous\": True,\n",
    "            \"line_width\": 1,\n",
    "            \"unique_colors\": True,\n",
    "        },\n",
    "        \"time_begin\": t\n",
    "    })\n",
    "    pps.draw(rnd)\n",
    "    rnd.render()\n",
    "    plt.savefig(f\"step-{t:2d}.png\")\n",
    "    plt.show()\n",
    "\n",
    "run_and_break = False\n",
    "if run_and_break:\n",
    "    if EAnalyzer.SPOT in analysis:\n",
    "        res = analysis[EAnalyzer.SPOT][stats.ego_vehicle]\n",
    "        assert isinstance(res, SpotAnalyzerResult)\n",
    "        for o_id, o_prediction in res.predictions.items():\n",
    "            scenario.obstacle_by_id(o_id).prediction = o_prediction\n",
    "        scenario.obstacle_by_id(49).prediction = None\n",
    "\n",
    "    rnd = MPRenderer(figsize=(size, size), plot_limits=[-5, 55, -10, 10], )\n",
    "    scenario.draw(rnd, draw_params={\n",
    "        \"trajectory\": {\n",
    "            \"draw_continuous\": True,\n",
    "            \"line_width\": 1,\n",
    "            \"unique_colors\": True,\n",
    "        }\n",
    "    })\n",
    "    pps.draw(rnd)\n",
    "    rnd.render()\n",
    "    plt.savefig(f\"spot.png\")\n",
    "    plt.show()\n",
    "\n",
    "\n"
   ],
   "metadata": {
    "collapsed": false
   }
  }
 ],
 "metadata": {
  "kernelspec": {
   "display_name": "Python 3",
   "language": "python",
   "name": "python3"
  },
  "language_info": {
   "codemirror_mode": {
    "name": "ipython",
    "version": 2
   },
   "file_extension": ".py",
   "mimetype": "text/x-python",
   "name": "python",
   "nbconvert_exporter": "python",
   "pygments_lexer": "ipython2",
   "version": "2.7.6"
  }
 },
 "nbformat": 4,
 "nbformat_minor": 0
}
