{
 "cells": [
  {
   "cell_type": "code",
   "execution_count": null,
   "metadata": {
    "collapsed": true,
    "pycharm": {
     "name": "#%%\n"
    }
   },
   "outputs": [],
   "source": [
    "import re\n",
    "\n",
    "import matplotlib.pyplot as plt\n",
    "from commonroad.common.util import Interval\n",
    "from commonroad.visualization.mp_renderer import MPRenderer\n",
    "\n",
    "from OpenSCENARIO2CR.AbsRel import AbsRel\n",
    "from OpenSCENARIO2CR.ConversionStatistics import EAnalyzer\n",
    "from OpenSCENARIO2CR.EsminiWrapper.EsminiWrapperProvider import EsminiWrapperProvider\n",
    "from OpenSCENARIO2CR.EsminiWrapper.StoryBoardElement import EStoryBoardElementType\n",
    "from OpenSCENARIO2CR.Osc2CrConverter import Osc2CrConverter, EFailureReason"
   ]
  },
  {
   "cell_type": "code",
   "execution_count": null,
   "outputs": [],
   "source": [
    "scenario_path = \"\"\n",
    "run_viewer = False\n",
    "print_plots = False\n",
    "plots_step = 5\n",
    "plot_limit = 20  # If non-null the renderer follows the ego vehicle\n",
    "following_obstacle_index = 0"
   ],
   "metadata": {
    "collapsed": false,
    "pycharm": {
     "name": "#%%\n"
    }
   }
  },
  {
   "cell_type": "code",
   "execution_count": null,
   "outputs": [],
   "source": [
    "if run_viewer:\n",
    "    wrapper = EsminiWrapperProvider().provide_esmini_wrapper()\n",
    "    wrapper.grace_time = None\n",
    "    wrapper.max_time = 60.0\n",
    "    wrapper.ignored_level = EStoryBoardElementType.ACT\n",
    "    wrapper.view_scenario(scenario_path)"
   ],
   "metadata": {
    "collapsed": false,
    "pycharm": {
     "name": "#%%\n"
    }
   }
  },
  {
   "cell_type": "code",
   "execution_count": null,
   "outputs": [],
   "source": [
    "# Setup Converter\n",
    "converter = Osc2CrConverter(\n",
    "    delta_t=0.1,\n",
    "    max_time=120.0,\n",
    "    grace_time=1.0,\n",
    "    ignored_level=EStoryBoardElementType.ACT,\n",
    "    log_to_console=True,\n",
    "    log_to_file=\"/home/michael/log.txt\",\n",
    "    goal_state_time_step=AbsRel(interval=Interval(-5, 5), is_absolute=False),\n",
    "    goal_state_position_length=50,\n",
    "    goal_state_position_width=10,\n",
    "    ego_filter=re.compile(r\".*[Ee]go.*\"),\n",
    "    keep_ego_vehicle=True,\n",
    "    do_trim_scenario=False,\n",
    "    analyzers=[EAnalyzer.STL_MONITOR, EAnalyzer.DRIVABILITY_CHECKER]\n",
    ")\n",
    "\n",
    "result = converter.run_conversion(scenario_path)\n",
    "if isinstance(result, EFailureReason):\n",
    "    print(f\"Scenario failed due to {result}\")"
   ],
   "metadata": {
    "collapsed": false,
    "pycharm": {
     "name": "#%%\n"
    }
   }
  },
  {
   "cell_type": "code",
   "execution_count": null,
   "outputs": [],
   "source": [
    "# plot every second time_stamp of the scenario\n",
    "if print_plots and not isinstance(result, EFailureReason):\n",
    "    scenario, planning_problem_set, statistics = result\n",
    "    for i in range(0, max([obst.prediction.final_time_step for obst in scenario.dynamic_obstacles]) + 1, plots_step):\n",
    "        plt.figure(figsize=(5, 5))\n",
    "\n",
    "        if plot_limit is None:\n",
    "            rnd = MPRenderer()\n",
    "        else:\n",
    "            rnd = MPRenderer(plot_limits=[-plot_limit, plot_limit, -plot_limit, plot_limit],\n",
    "                             draw_params={\"focus_obstacle_id\": scenario.obstacles[following_obstacle_index].obstacle_id})\n",
    "        # plot the scenario at different time step\n",
    "        scenario.draw(rnd, draw_params={'time_begin': i})\n",
    "        # plot the planning problem set\n",
    "        planning_problem_set.draw(rnd)\n",
    "        rnd.render()"
   ],
   "metadata": {
    "collapsed": false,
    "pycharm": {
     "name": "#%%\n"
    }
   }
  }
 ],
 "metadata": {
  "kernelspec": {
   "display_name": "Python 3",
   "language": "python",
   "name": "python3"
  },
  "language_info": {
   "codemirror_mode": {
    "name": "ipython",
    "version": 2
   },
   "file_extension": ".py",
   "mimetype": "text/x-python",
   "name": "python",
   "nbconvert_exporter": "python",
   "pygments_lexer": "ipython2",
   "version": "2.7.6"
  }
 },
 "nbformat": 4,
 "nbformat_minor": 0
}