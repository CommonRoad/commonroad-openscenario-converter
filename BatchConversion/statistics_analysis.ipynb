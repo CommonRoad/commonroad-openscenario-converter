{
 "cells": [
  {
   "cell_type": "code",
   "execution_count": null,
   "metadata": {},
   "outputs": [],
   "source": [
    "import pickle\n",
    "from os import path\n",
    "\n",
    "#@formatter:off\n",
    "from AnalysisFunctions import analyze_statistics, print_exception_tracebacks_for_analyzer, \\\n",
    "    print_exception_tracebacks, plot_sim_times, plot_exec_times, plot_num_obstacles\n",
    "#@formatter:on\n",
    "from OpenSCENARIO2CR.ConversionAnalyzer.EAnalyzer import EAnalyzer\n",
    "from OpenSCENARIO2CR.util.Serializable import Serializable\n",
    "\n",
    "#@formatter:off\n",
    "%matplotlib inline\n",
    "#@formatter:on"
   ]
  },
  {
   "cell_type": "code",
   "execution_count": null,
   "outputs": [],
   "source": [
    "stats_dir = \"results/2022-10-20_11:21:20\""
   ],
   "metadata": {
    "collapsed": false
   }
  },
  {
   "cell_type": "code",
   "execution_count": null,
   "metadata": {},
   "outputs": [],
   "source": [
    "with open(path.join(stats_dir, \"statistics.pickle\"), \"rb\") as stats_file:\n",
    "    # We don't need the scenario files for this analysis, just slows us down\n",
    "    Serializable.import_extra_files = False\n",
    "    all_results = pickle.load(stats_file)"
   ]
  },
  {
   "cell_type": "markdown",
   "source": [
    "# General Statistics"
   ],
   "metadata": {
    "collapsed": false
   }
  },
  {
   "cell_type": "code",
   "execution_count": null,
   "metadata": {
    "scrolled": true
   },
   "outputs": [],
   "source": [
    "analyze_statistics(all_results)"
   ]
  },
  {
   "cell_type": "markdown",
   "source": [
    "# Exceptions and tracebacks"
   ],
   "metadata": {
    "collapsed": false
   }
  },
  {
   "cell_type": "code",
   "execution_count": null,
   "outputs": [],
   "source": [
    "from OpenSCENARIO2CR.Osc2CrConverterResult import Osc2CrConverterResult\n",
    "\n",
    "times = {}\n",
    "for res in all_results.values():\n",
    "    if res.without_exception and isinstance(res.conversion_result, Osc2CrConverterResult):\n",
    "        for e_analyzer, analyzer_res in res.conversion_result.analysis.items():\n",
    "            if analyzer_res[0] <= 180:\n",
    "                times[e_analyzer] = max(times.get(e_analyzer, 0), analyzer_res[0])\n",
    "print(times)"
   ],
   "metadata": {
    "collapsed": false
   }
  },
  {
   "cell_type": "code",
   "execution_count": null,
   "metadata": {},
   "outputs": [],
   "source": [
    "print_exception_tracebacks(all_results, compressed=True)"
   ]
  },
  {
   "cell_type": "code",
   "execution_count": null,
   "metadata": {},
   "outputs": [],
   "source": [
    "print_exception_tracebacks_for_analyzer(all_results, EAnalyzer.DRIVABILITY, compressed=True)"
   ]
  },
  {
   "cell_type": "code",
   "execution_count": null,
   "metadata": {},
   "outputs": [],
   "source": [
    "print_exception_tracebacks_for_analyzer(all_results, EAnalyzer.STL, compressed=True)"
   ]
  },
  {
   "cell_type": "code",
   "execution_count": null,
   "metadata": {},
   "outputs": [],
   "source": [
    "print_exception_tracebacks_for_analyzer(all_results, EAnalyzer.SPOT, compressed=True)"
   ]
  },
  {
   "cell_type": "markdown",
   "source": [
    "# Plots"
   ],
   "metadata": {
    "collapsed": false
   }
  },
  {
   "cell_type": "code",
   "execution_count": null,
   "outputs": [],
   "source": [
    "plot_sim_times(all_results, path=\"sim_times.png\", low_pass_filter=20, n_bins=40)"
   ],
   "metadata": {
    "collapsed": false
   }
  },
  {
   "cell_type": "code",
   "execution_count": null,
   "outputs": [],
   "source": [
    "plot_num_obstacles(all_results, path=\"num_obstacles.png\")"
   ],
   "metadata": {
    "collapsed": false
   }
  },
  {
   "cell_type": "code",
   "execution_count": null,
   "outputs": [],
   "source": [
    "plot_exec_times(all_results, EAnalyzer.DRIVABILITY, path=\"drivability_exec.png\")"
   ],
   "metadata": {
    "collapsed": false
   }
  },
  {
   "cell_type": "code",
   "execution_count": null,
   "outputs": [],
   "source": [
    "plot_exec_times(all_results, EAnalyzer.STL, path=\"stl_exec.png\")"
   ],
   "metadata": {
    "collapsed": false
   }
  },
  {
   "cell_type": "code",
   "execution_count": null,
   "outputs": [],
   "source": [
    "plot_exec_times(all_results, EAnalyzer.SPOT, path=\"spot_exec.png\")"
   ],
   "metadata": {
    "collapsed": false
   }
  }
 ],
 "metadata": {
  "kernelspec": {
   "display_name": "Python 3 (ipykernel)",
   "language": "python",
   "name": "python3"
  },
  "language_info": {
   "codemirror_mode": {
    "name": "ipython",
    "version": 3
   },
   "file_extension": ".py",
   "mimetype": "text/x-python",
   "name": "python",
   "nbconvert_exporter": "python",
   "pygments_lexer": "ipython3",
   "version": "3.9.13"
  }
 },
 "nbformat": 4,
 "nbformat_minor": 1
}
