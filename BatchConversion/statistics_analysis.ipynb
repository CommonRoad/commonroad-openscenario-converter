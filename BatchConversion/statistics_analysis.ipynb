{
 "cells": [
  {
   "cell_type": "code",
   "execution_count": null,
   "metadata": {},
   "outputs": [],
   "source": [
    "import pickle\n",
    "from os import path\n",
    "\n",
    "#@formatter:off\n",
    "from AnalysisFunctions import analyze_statistics, print_exception_tracebacks_for_analyzer, \\\n",
    "    print_exception_tracebacks, plot_sim_times, plot_exec_times, plot_num_obstacles, plot_scenarios\n",
    "#@formatter:on\n",
    "from BatchConversion.Serializable import Serializable\n",
    "from OpenSCENARIO2CR.ConversionAnalyzer.EAnalyzer import EAnalyzer\n",
    "\n",
    "#@formatter:off\n",
    "%matplotlib inline\n",
    "#@formatter:on"
   ]
  },
  {
   "cell_type": "code",
   "execution_count": null,
   "outputs": [],
   "source": [
    "stats_dir = \"results/\"\n",
    "do_plot_scenarios = False"
   ],
   "metadata": {
    "collapsed": false
   }
  },
  {
   "cell_type": "code",
   "execution_count": null,
   "metadata": {},
   "outputs": [],
   "source": [
    "with open(path.join(stats_dir, \"statistics.pickle\"), \"rb\") as stats_file:\n",
    "    # We don't need the scenario files for this analysis, just slows us down\n",
    "    Serializable.import_extra_files = False\n",
    "    all_results = pickle.load(stats_file)"
   ]
  },
  {
   "cell_type": "code",
   "execution_count": null,
   "outputs": [],
   "source": [
    "safety_pool_results = {path: res for path, res in all_results.items() if \"Safety Pool\" in path}\n",
    "openscenario_results = {path: res for path, res in all_results.items() if \"openscenario-v1.1.1\" in path}\n",
    "esmini_results = {path: res for path, res in all_results.items() if \"esmini\" in path}\n",
    "\n",
    "results_to_analyze = all_results\n",
    "\n",
    "conversions_to_analyze = {\n",
    "    scenario_path: result.get_result() for scenario_path, result in all_results.items() if result.without_exception\n",
    "}"
   ],
   "metadata": {
    "collapsed": false
   }
  },
  {
   "cell_type": "markdown",
   "source": [
    "# General Statistics"
   ],
   "metadata": {
    "collapsed": false
   }
  },
  {
   "cell_type": "code",
   "execution_count": null,
   "metadata": {
    "scrolled": true
   },
   "outputs": [],
   "source": [
    "analyze_statistics(results_to_analyze)"
   ]
  },
  {
   "cell_type": "markdown",
   "source": [
    "# Exceptions and tracebacks"
   ],
   "metadata": {
    "collapsed": false
   }
  },
  {
   "cell_type": "code",
   "execution_count": null,
   "metadata": {},
   "outputs": [],
   "source": [
    "print_exception_tracebacks(results_to_analyze, compressed=True)"
   ]
  },
  {
   "cell_type": "code",
   "execution_count": null,
   "metadata": {},
   "outputs": [],
   "source": [
    "print_exception_tracebacks_for_analyzer(results_to_analyze, EAnalyzer.DRIVABILITY, compressed=True)"
   ]
  },
  {
   "cell_type": "code",
   "execution_count": null,
   "metadata": {},
   "outputs": [],
   "source": [
    "print_exception_tracebacks_for_analyzer(results_to_analyze, EAnalyzer.STL, compressed=True)"
   ]
  },
  {
   "cell_type": "code",
   "execution_count": null,
   "metadata": {},
   "outputs": [],
   "source": [
    "print_exception_tracebacks_for_analyzer(results_to_analyze, EAnalyzer.SPOT, compressed=True)"
   ]
  },
  {
   "cell_type": "markdown",
   "source": [
    "# Plots"
   ],
   "metadata": {
    "collapsed": false
   }
  },
  {
   "cell_type": "code",
   "execution_count": null,
   "outputs": [],
   "source": [
    "plot_sim_times(results_to_analyze, path=\"sim_times.png\", n_bins=40)\n",
    "# Plot multiple sim times in one plot\n",
    "# plot_sim_times([results_to_analyze, results_to_analyze], path=\"sim_times_all.png\", label=[\"label 1\", \"label 2\"])"
   ],
   "metadata": {
    "collapsed": false
   }
  },
  {
   "cell_type": "code",
   "execution_count": null,
   "outputs": [],
   "source": [
    "plot_num_obstacles(results_to_analyze, path=\"num_obstacles.png\")"
   ],
   "metadata": {
    "collapsed": false
   }
  },
  {
   "cell_type": "code",
   "execution_count": null,
   "outputs": [],
   "source": [
    "plot_exec_times(results_to_analyze, EAnalyzer.DRIVABILITY, path=\"drivability_exec.png\")"
   ],
   "metadata": {
    "collapsed": false
   }
  },
  {
   "cell_type": "code",
   "execution_count": null,
   "outputs": [],
   "source": [
    "plot_exec_times(results_to_analyze, EAnalyzer.STL, path=\"stl_exec.png\")"
   ],
   "metadata": {
    "collapsed": false
   }
  },
  {
   "cell_type": "code",
   "execution_count": null,
   "outputs": [],
   "source": [
    "plot_exec_times(results_to_analyze, EAnalyzer.SPOT, path=\"spot_exec.png\")"
   ],
   "metadata": {
    "collapsed": false
   }
  },
  {
   "cell_type": "code",
   "execution_count": null,
   "outputs": [],
   "source": [
    "if do_plot_scenarios:\n",
    "    plot_scenarios(results_to_analyze)"
   ],
   "metadata": {
    "collapsed": false
   }
  }
 ],
 "metadata": {
  "kernelspec": {
   "display_name": "Python 3 (ipykernel)",
   "language": "python",
   "name": "python3"
  },
  "language_info": {
   "codemirror_mode": {
    "name": "ipython",
    "version": 3
   },
   "file_extension": ".py",
   "mimetype": "text/x-python",
   "name": "python",
   "nbconvert_exporter": "python",
   "pygments_lexer": "ipython3",
   "version": "3.9.13"
  }
 },
 "nbformat": 4,
 "nbformat_minor": 1
}
