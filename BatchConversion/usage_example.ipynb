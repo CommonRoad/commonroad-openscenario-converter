{
 "cells": [
  {
   "cell_type": "code",
   "execution_count": null,
   "outputs": [],
   "source": [
    "import os\n",
    "import pickle\n",
    "import re\n",
    "from datetime import datetime\n",
    "from os import path\n",
    "from typing import Dict\n",
    "\n",
    "from commonroad.common.util import Interval\n",
    "from commonroad.scenario.scenario import Tag\n",
    "\n",
    "from BatchConversion.BatchConverter import BatchConverter, BatchConversionResult\n",
    "from OpenSCENARIO2CR.ConversionAnalyzer.EAnalyzer import EAnalyzer\n",
    "from OpenSCENARIO2CR.OpenSCENARIOWrapper.Esmini.EsminiWrapperProvider import EsminiWrapperProvider\n",
    "from OpenSCENARIO2CR.OpenSCENARIOWrapper.Esmini.StoryBoardElement import EStoryBoardElementType\n",
    "from OpenSCENARIO2CR.Osc2CrConverter import Osc2CrConverter\n",
    "from OpenSCENARIO2CR.util.AbsRel import AbsRel\n",
    "from OpenSCENARIO2CR.util.PlanningProblemBuilder import PlanningProblemSetBuilder\n",
    "from OpenSCENARIO2CR.util.Serializable import Serializable\n"
   ],
   "metadata": {
    "collapsed": false
   }
  },
  {
   "cell_type": "code",
   "execution_count": null,
   "outputs": [],
   "source": [
    "esmini_wrapper = EsminiWrapperProvider().provide_esmini_wrapper()\n",
    "esmini_wrapper.max_time = 120.0\n",
    "esmini_wrapper.grace_time = 1.0\n",
    "esmini_wrapper.ignored_level = EStoryBoardElementType.ACT\n",
    "esmini_wrapper.log_to_console = False\n",
    "esmini_wrapper.log_to_file = False\n",
    "esmini_wrapper.random_seed = 0"
   ],
   "metadata": {
    "collapsed": false
   }
  },
  {
   "cell_type": "code",
   "execution_count": null,
   "outputs": [],
   "source": [
    "pps_builder = PlanningProblemSetBuilder()\n",
    "pps_builder.goal_state_time_step = AbsRel(Interval(-10, 0), False)\n",
    "pps_builder.goal_state_position_length = 50\n",
    "pps_builder.goal_state_position_width = 10\n",
    "pps_builder.goal_state_position_use_ego_rotation = True\n",
    "pps_builder.goal_state_orientation = None\n",
    "pps_builder.goal_state_velocity = None\n",
    "# If you want to also include orientation and velocity in the GoalRegion provide some AbsRel objects\n",
    "# pps_builder.goal_state_orientation = AbsRel(AngleInterval(-0.8, 0.8), is_absolute=False)\n",
    "# pps_builder.goal_state_velocity = AbsRel(Interval(-10, 10), is_absolute=False)"
   ],
   "metadata": {
    "collapsed": false
   }
  },
  {
   "cell_type": "code",
   "execution_count": null,
   "outputs": [],
   "source": [
    "\n",
    "\n",
    "converter = Osc2CrConverter(\n",
    "    author=\"ADD AUTHOR HERE\",\n",
    "    affiliation=\"ADD AFFILIATION HERE\",\n",
    "    source=\"ADD SOURCE HERE\",\n",
    "    tags={Tag.SIMULATED},\n",
    ")\n",
    "\n",
    "converter.sim_wrapper = esmini_wrapper\n",
    "converter.pps_builder = pps_builder\n",
    "\n",
    "converter.dt_cr = 0.1\n",
    "converter.keep_ego_vehicle = True\n",
    "converter.trim_scenario = False\n",
    "converter.use_implicit_odr_file = True\n",
    "converter.analyzers = [\n",
    "    EAnalyzer.SPOT_ANALYZER,\n",
    "    EAnalyzer.DRIVABILITY_CHECKER,  # Will be initialized with default parameters\n",
    "    EAnalyzer.STL_MONITOR,  # Will be initialized with default parameters\n",
    "]\n",
    "# If you don't want to run with default parameters for (some) analyzers use:\n",
    "# converter.analyzers = {\n",
    "#     EAnalyzer.SPOT_ANALYZER: SpotAnalyzer(timeout=30),\n",
    "#     EAnalyzer.DRIVABILITY_CHECKER: None,  # Will be initialized with default parameters\n",
    "#     EAnalyzer.STL_MONITOR: None,  # Will be initialized with default parameters\n",
    "# }\n",
    "\n",
    "converter.dt_sim = 0.01\n",
    "converter.odr_file_override = None\n",
    "converter.ego_filter = re.compile(r\".*ego.*\", re.IGNORECASE)\n"
   ],
   "metadata": {
    "collapsed": false
   }
  },
  {
   "cell_type": "code",
   "execution_count": null,
   "outputs": [],
   "source": [
    "# Configured see the previous cells\n",
    "batch_converter = BatchConverter(converter)\n",
    "# If the default parameters are sufficient the following line is sufficient\n",
    "# batch_converter = BatchConverter(Osc2CrConverter())"
   ],
   "metadata": {
    "collapsed": false
   }
  },
  {
   "cell_type": "code",
   "execution_count": null,
   "outputs": [],
   "source": [
    "from os.path import expanduser\n",
    "\n",
    "batch_converter.discover_files(expanduser(\"~\"), re.compile(r\".*\\.xosc\", re.IGNORECASE), recursively=True)"
   ],
   "metadata": {
    "collapsed": false
   }
  },
  {
   "cell_type": "code",
   "execution_count": null,
   "outputs": [],
   "source": [
    "time_conversion_started = datetime.now()\n",
    "results: Dict[str, BatchConversionResult] = batch_converter.run_batch_conversion(num_worker=0)\n",
    "time_conversion_finished = datetime.now()"
   ],
   "metadata": {
    "collapsed": false
   }
  },
  {
   "cell_type": "code",
   "execution_count": null,
   "outputs": [],
   "source": [
    "storage_path = \"results/{}\".format(datetime.now().isoformat(sep=\"_\", timespec=\"seconds\"))\n",
    "store = True\n",
    "store_scenario_files = True\n",
    "\n",
    "if store:\n",
    "    os.makedirs(storage_path, exist_ok=True)\n",
    "    with open(os.path.join(storage_path, \"statistics.pickle\"), \"wb\") as file:\n",
    "        Serializable.storage_dir = storage_path\n",
    "        Serializable.store_extra_files = store_scenario_files\n",
    "        pickle.dump(results, file)\n",
    "    print(f\"Finished and stored results in {path.abspath(storage_path)}\")\n"
   ],
   "metadata": {
    "collapsed": false
   }
  },
  {
   "cell_type": "code",
   "execution_count": null,
   "outputs": [],
   "source": [
    "from OpenSCENARIO2CR.ConversionAnalyzer.AnalyzerErrorResult import AnalyzerErrorResult\n",
    "\n",
    "errors: Dict[AnalyzerErrorResult, int] = {}\n",
    "for result in results.values():\n",
    "    if not result.without_exception:\n",
    "        if result.exception in errors:\n",
    "            errors[result.exception] += 1\n",
    "        else:\n",
    "            errors[result.exception] = 1\n",
    "\n",
    "for error, count in errors.items():\n",
    "    print(f\"{count}\\n{error.traceback_text}\")\n",
    "    print(\"\\n\" * 3)"
   ],
   "metadata": {
    "collapsed": false
   }
  }
 ],
 "metadata": {
  "kernelspec": {
   "display_name": "Python 3",
   "language": "python",
   "name": "python3"
  },
  "language_info": {
   "codemirror_mode": {
    "name": "ipython",
    "version": 2
   },
   "file_extension": ".py",
   "mimetype": "text/x-python",
   "name": "python",
   "nbconvert_exporter": "python",
   "pygments_lexer": "ipython2",
   "version": "2.7.6"
  }
 },
 "nbformat": 4,
 "nbformat_minor": 0
}
