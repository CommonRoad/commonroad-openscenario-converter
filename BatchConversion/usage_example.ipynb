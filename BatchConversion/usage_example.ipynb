{
 "cells": [
  {
   "cell_type": "code",
   "execution_count": null,
   "metadata": {},
   "outputs": [],
   "source": [
    "import os\n",
    "import re\n",
    "from datetime import datetime\n",
    "from os import path\n",
    "\n",
    "from commonroad.common.util import Interval\n",
    "from commonroad.scenario.scenario import Tag\n",
    "\n",
    "from BatchConversion.BatchConverter import BatchConverter\n",
    "from BatchConversion.Serializable import Serializable\n",
    "from OpenSCENARIO2CR.ConversionAnalyzer.DrivabilityAnalyzer import DrivabilityAnalyzer\n",
    "from OpenSCENARIO2CR.ConversionAnalyzer.STLAnalyzer import STLAnalyzer\n",
    "from OpenSCENARIO2CR.ConversionAnalyzer.SpotAnalyzer import SpotAnalyzer\n",
    "from OpenSCENARIO2CR.OpenSCENARIOWrapper.Esmini.EsminiWrapperProvider import EsminiWrapperProvider\n",
    "from OpenSCENARIO2CR.OpenSCENARIOWrapper.StoryBoardElement import EStoryBoardElementLevel\n",
    "from OpenSCENARIO2CR.Osc2CrConverter import Osc2CrConverter\n",
    "from OpenSCENARIO2CR.util.AbsRel import AbsRel\n",
    "from OpenSCENARIO2CR.util.PPSBuilder import PPSBuilder\n"
   ]
  },
  {
   "cell_type": "code",
   "execution_count": null,
   "metadata": {},
   "outputs": [],
   "source": [
    "esmini_wrapper = EsminiWrapperProvider().provide_esmini_wrapper()\n",
    "esmini_wrapper.min_time = 5\n",
    "esmini_wrapper.max_time = 120.0\n",
    "esmini_wrapper.grace_period = 1\n",
    "esmini_wrapper.ignored_level = EStoryBoardElementLevel.ACT\n",
    "esmini_wrapper.log_to_console = False\n",
    "esmini_wrapper.log_to_file = False\n",
    "esmini_wrapper.random_seed = 0"
   ]
  },
  {
   "cell_type": "code",
   "execution_count": null,
   "metadata": {},
   "outputs": [],
   "source": [
    "pps_builder = PPSBuilder()\n",
    "pps_builder.time_interval = AbsRel(Interval(-10, 0), AbsRel.EUsage.REL_ADD)\n",
    "pps_builder.pos_length = AbsRel(50, AbsRel.EUsage.ABS)\n",
    "pps_builder.pos_width = AbsRel(10, AbsRel.EUsage.ABS)\n",
    "pps_builder.pos_rotation = AbsRel(0, AbsRel.EUsage.REL_ADD)\n",
    "pps_builder.pos_center_x = AbsRel(0, AbsRel.EUsage.REL_ADD)\n",
    "pps_builder.pos_center_y = AbsRel(0, AbsRel.EUsage.REL_ADD)\n",
    "pps_builder.velocity_interval = AbsRel(Interval(-5, 5), AbsRel.EUsage.REL_ADD)\n",
    "pps_builder.orientation_interval = None"
   ]
  },
  {
   "cell_type": "code",
   "execution_count": null,
   "metadata": {},
   "outputs": [],
   "source": [
    "converter = Osc2CrConverter(\n",
    "    author=\"ADD AUTHOR HERE\",\n",
    "    affiliation=\"ADD AFFILIATION HERE\",\n",
    "    source=\"ADD SOURCE HERE\",\n",
    "    tags={Tag.SIMULATED},\n",
    ")\n",
    "\n",
    "converter.sim_wrapper = esmini_wrapper\n",
    "converter.pps_builder = pps_builder\n",
    "\n",
    "converter.dt_cr = 0.1\n",
    "converter.keep_ego_vehicle = True\n",
    "converter.trim_scenario = False\n",
    "converter.use_implicit_odr_file = True\n",
    "converter.analyzers = {\n",
    "    SpotAnalyzer: SpotAnalyzer(stride=1, timeout=180),\n",
    "    DrivabilityAnalyzer: DrivabilityAnalyzer(timeout=180),\n",
    "    STLAnalyzer: STLAnalyzer(timeout=180),\n",
    "}\n",
    "# If you only want to run with default parameters for analyzers you can also use:\n",
    "# converter.analyzers = [EAnalyzer.SPOT_ANALYZER, EAnalyzer.DRIVABILITY_CHECKER, EAnalyzer.STL_MONITOR]\n",
    "\n",
    "converter.dt_sim = 0.01\n",
    "converter.odr_file_override = None\n",
    "converter.ego_filter = re.compile(r\".*ego.*\", re.IGNORECASE)"
   ]
  },
  {
   "cell_type": "code",
   "execution_count": null,
   "metadata": {},
   "outputs": [],
   "source": [
    "# Configured see the previous cells\n",
    "batch_converter = BatchConverter(converter)\n",
    "# If the default parameters are sufficient the following line is sufficient\n",
    "# batch_converter = BatchConverter(Osc2CrConverter())"
   ]
  },
  {
   "cell_type": "code",
   "execution_count": null,
   "metadata": {},
   "outputs": [],
   "source": [
    "from os.path import expanduser\n",
    "\n",
    "batch_converter.discover_files(expanduser(\"~\"), re.compile(r\".*\\.xosc\", re.IGNORECASE), recursively=True)"
   ]
  },
  {
   "cell_type": "code",
   "execution_count": null,
   "metadata": {},
   "outputs": [],
   "source": [
    "storage_dir = \"results/{}\".format(datetime.now().isoformat(sep=\"_\", timespec=\"seconds\"))\n",
    "os.makedirs(storage_dir, exist_ok=True)\n",
    "Serializable.storage_dir = storage_dir\n",
    "\n",
    "batch_converter.run_batch_conversion(num_worker=0)"
   ]
  },
  {
   "cell_type": "code",
   "execution_count": null,
   "metadata": {},
   "outputs": [],
   "source": [
    "print(f\"Finished and stored results in {path.abspath(storage_dir)}\")"
   ]
  }
 ],
 "metadata": {
  "kernelspec": {
   "display_name": "Python 3 (ipykernel)",
   "language": "python",
   "name": "python3"
  },
  "language_info": {
   "codemirror_mode": {
    "name": "ipython",
    "version": 3
   },
   "file_extension": ".py",
   "mimetype": "text/x-python",
   "name": "python",
   "nbconvert_exporter": "python",
   "pygments_lexer": "ipython3",
   "version": "3.9.13"
  }
 },
 "nbformat": 4,
 "nbformat_minor": 1
}
