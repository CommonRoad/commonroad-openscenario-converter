{
 "cells": [
  {
   "cell_type": "code",
   "execution_count": null,
   "outputs": [],
   "source": [
    "import os\n",
    "import re\n",
    "from datetime import datetime\n",
    "from os import path\n",
    "from typing import List, Dict\n",
    "\n",
    "from commonroad.common.util import Interval\n",
    "\n",
    "from BatchConversion.BatchConverter import BatchConverter, BatchConversionResult\n",
    "from OpenSCENARIO2CR.ConversionAnalyzer.EAnalyzer import EAnalyzer\n",
    "from OpenSCENARIO2CR.OpenSCENARIOWrapper.Esmini.EsminiWrapperProvider import EsminiWrapperProvider\n",
    "from OpenSCENARIO2CR.OpenSCENARIOWrapper.Esmini.StoryBoardElement import EStoryBoardElementType\n",
    "from OpenSCENARIO2CR.Osc2CrConverter import Osc2CrConverter, EFailureReason\n",
    "from OpenSCENARIO2CR.util.AbsRel import AbsRel\n",
    "from OpenSCENARIO2CR.util.PlanningProblemBuilder import PlanningProblemSetBuilder"
   ],
   "metadata": {
    "collapsed": false
   }
  },
  {
   "cell_type": "code",
   "execution_count": null,
   "outputs": [],
   "source": [
    "esmini_wrapper = EsminiWrapperProvider(preferred_version=\"v2.26.5\").provide_esmini_wrapper()\n",
    "esmini_wrapper.max_time = 120.0\n",
    "esmini_wrapper.grace_time = 1.0\n",
    "esmini_wrapper.ignored_level = EStoryBoardElementType.ACT\n",
    "esmini_wrapper.log_to_console = False\n",
    "esmini_wrapper.log_to_file = False\n",
    "esmini_wrapper.random_seed = 0"
   ],
   "metadata": {
    "collapsed": false
   }
  },
  {
   "cell_type": "code",
   "execution_count": null,
   "outputs": [],
   "source": [
    "pps_builder = PlanningProblemSetBuilder()\n",
    "pps_builder.goal_state_time_step = AbsRel(Interval(-10, 0), False)\n",
    "pps_builder.goal_state_position_length = 50\n",
    "pps_builder.goal_state_position_width = 10\n",
    "pps_builder.goal_state_position_use_ego_rotation = True\n",
    "pps_builder.goal_state_orientation = None\n",
    "# pps_builder.goal_state_orientation = AbsRel(AngleInterval(-0.8, 0.8), False)\n",
    "pps_builder.goal_state_velocity = None\n",
    "# pps_builder.goal_state_velocity = AbsRel(Interval(-10, 10), False)"
   ],
   "metadata": {
    "collapsed": false
   }
  },
  {
   "cell_type": "code",
   "execution_count": null,
   "outputs": [],
   "source": [
    "converter = Osc2CrConverter()\n",
    "\n",
    "converter.sim_wrapper = esmini_wrapper\n",
    "converter.pps_builder = pps_builder\n",
    "\n",
    "converter.dt_cr = 0.1\n",
    "converter.keep_ego_vehicle = True\n",
    "converter.trim_scenario = False\n",
    "converter.use_implicit_odr_file = True\n",
    "converter.analyzers = [EAnalyzer.STL_MONITOR, EAnalyzer.DRIVABILITY_CHECKER]\n",
    "\n",
    "converter.dt_sim = 0.01\n",
    "converter.odr_file_override = None\n",
    "converter.ego_filter = re.compile(r\".*ego.*\", re.IGNORECASE)\n"
   ],
   "metadata": {
    "collapsed": false
   }
  },
  {
   "cell_type": "code",
   "execution_count": null,
   "outputs": [],
   "source": [
    "# Configured see the previous cells\n",
    "batch_converter = BatchConverter(converter)\n",
    "# If the default parameters are sufficient the following line is sufficient\n",
    "# batch_converter = BatchConverter(Osc2CrConverter())"
   ],
   "metadata": {
    "collapsed": false
   }
  },
  {
   "cell_type": "code",
   "execution_count": null,
   "outputs": [],
   "source": [
    "from os.path import expanduser\n",
    "\n",
    "batch_converter.discover_files(expanduser(\"~\"), re.compile(r\".*\\.xosc\", re.IGNORECASE), recursively=True)"
   ],
   "metadata": {
    "collapsed": false
   }
  },
  {
   "cell_type": "code",
   "execution_count": null,
   "outputs": [],
   "source": [
    "time_conversion_started = datetime.now()\n",
    "results: Dict[str, BatchConversionResult] = batch_converter.run_batch_conversion(num_worker=0)\n",
    "time_conversion_finished = datetime.now()"
   ],
   "metadata": {
    "collapsed": false
   }
  },
  {
   "cell_type": "code",
   "execution_count": null,
   "outputs": [],
   "source": [
    "from commonroad.scenario.scenario import Tag\n",
    "from commonroad.common.file_writer import CommonRoadFileWriter, OverwriteExistingFile\n",
    "import yaml\n",
    "\n",
    "storage_path = \"results/{}\".format(time_conversion_finished.isoformat(sep=\"_\", timespec=\"seconds\"))\n",
    "store = True\n",
    "\n",
    "if store:\n",
    "    if not path.exists(storage_path):\n",
    "        os.mkdir(storage_path)\n",
    "    statistics_dict = {}\n",
    "    written_scenarios: List[str] = []\n",
    "    for scenario_path, result in results.items():\n",
    "        basename = path.basename(scenario_path)\n",
    "        path_no_extension = path.join(storage_path, path.splitext(basename)[0])\n",
    "        if path_no_extension in written_scenarios:\n",
    "            i = 1\n",
    "            while True:\n",
    "                if (new_path := path_no_extension + f\"-{i}\") not in written_scenarios:\n",
    "                    path_no_extension = new_path\n",
    "                    break\n",
    "                else:\n",
    "                    i += 1\n",
    "        written_scenarios.append(path_no_extension)\n",
    "\n",
    "        if result.without_exception:\n",
    "            if isinstance(result.conversion_result, EFailureReason):\n",
    "                statistics_dict[path_no_extension] = (\"failure\", result.conversion_result.name)\n",
    "            else:\n",
    "                scenario, planning_problem_set, statistics = result.conversion_result\n",
    "                statistics_dict[path_no_extension] = (\"success\", statistics.to_dict())\n",
    "                CommonRoadFileWriter(\n",
    "                    scenario=scenario,\n",
    "                    planning_problem_set=planning_problem_set,\n",
    "                    author=\"ADD AUTHOR HERE\",\n",
    "                    affiliation=\"ADD AFFILIATION HERE\",\n",
    "                    source=\"ADD SOURCE HERE\",\n",
    "                    tags={Tag.SIMULATED},\n",
    "                ).write_to_file(path_no_extension + \".xml\", OverwriteExistingFile.ALWAYS)\n",
    "        else:\n",
    "            statistics_dict[path_no_extension] = (\"error\", result.exception.to_dict())\n",
    "\n",
    "    with open(path.join(storage_path, \"statistics.yml\"), \"w\") as file:\n",
    "        yaml.safe_dump(statistics_dict, file)\n"
   ],
   "metadata": {
    "collapsed": false
   }
  },
  {
   "cell_type": "code",
   "execution_count": null,
   "outputs": [],
   "source": [
    "from OpenSCENARIO2CR.ConversionAnalyzer.ErrorAnalysisResult import ErrorAnalysisResult\n",
    "\n",
    "errors: Dict[ErrorAnalysisResult, int] = {}\n",
    "for result in results.values():\n",
    "    if not result.without_exception:\n",
    "        if result.exception in errors:\n",
    "            errors[result.exception] += 1\n",
    "        else:\n",
    "            errors[result.exception] = 1\n",
    "\n",
    "for error, count in errors.items():\n",
    "    print(f\"{count}\\n{error.traceback_text}\")\n",
    "    print(\"\\n\" * 3)"
   ],
   "metadata": {
    "collapsed": false
   }
  },
  {
   "cell_type": "code",
   "execution_count": null,
   "outputs": [],
   "source": [
    "from OpenSCENARIO2CR.ConversionAnalyzer.ErrorAnalysisResult import ErrorAnalysisResult\n",
    "\n",
    "errors: Dict[ErrorAnalysisResult, int] = {}\n",
    "for result in results.values():\n",
    "    if result.without_exception:\n",
    "        if not isinstance(result.conversion_result, EFailureReason):\n",
    "            scenario, planning_problem_set, statistics = result.conversion_result\n",
    "            for analysis_type, analysis_result in statistics.analysis.items():\n",
    "                for vehicle_name, vehicle_result in analysis_result.items():\n",
    "                    if isinstance(vehicle_result, ErrorAnalysisResult):\n",
    "                        if vehicle_result in errors:\n",
    "                            errors[vehicle_result] += 1\n",
    "                        else:\n",
    "                            errors[vehicle_result] = 1\n",
    "\n",
    "for error, count in errors.items():\n",
    "    print(f\"{count}\\n{error.traceback_text}\")\n",
    "    print(\"\\n\" * 3)"
   ],
   "metadata": {
    "collapsed": false
   }
  }
 ],
 "metadata": {
  "kernelspec": {
   "display_name": "Python 3",
   "language": "python",
   "name": "python3"
  },
  "language_info": {
   "codemirror_mode": {
    "name": "ipython",
    "version": 2
   },
   "file_extension": ".py",
   "mimetype": "text/x-python",
   "name": "python",
   "nbconvert_exporter": "python",
   "pygments_lexer": "ipython2",
   "version": "2.7.6"
  }
 },
 "nbformat": 4,
 "nbformat_minor": 0
}
