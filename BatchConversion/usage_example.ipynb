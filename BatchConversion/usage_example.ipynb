{
 "cells": [
  {
   "cell_type": "code",
   "execution_count": 1,
   "metadata": {
    "ExecuteTime": {
     "start_time": "2023-04-17T10:44:32.775634Z",
     "end_time": "2023-04-17T10:44:37.766983Z"
    }
   },
   "outputs": [
    {
     "name": "stderr",
     "output_type": "stream",
     "text": [
      "WARNING:root:Cannot import SUMO, simulation will not be offered in Scenario Designer\n"
     ]
    }
   ],
   "source": [
    "import os\n",
    "import re\n",
    "from datetime import datetime\n",
    "from os import path\n",
    "\n",
    "from commonroad.common.util import Interval\n",
    "from commonroad.scenario.scenario import Tag\n",
    "\n",
    "from BatchConversion.BatchConverter import BatchConverter\n",
    "from BatchConversion.Serializable import Serializable\n",
    "from OpenSCENARIO2CR.ConversionAnalyzer.DrivabilityAnalyzer import DrivabilityAnalyzer\n",
    "from OpenSCENARIO2CR.ConversionAnalyzer.STLAnalyzer import STLAnalyzer\n",
    "from OpenSCENARIO2CR.ConversionAnalyzer.SpotAnalyzer import SpotAnalyzer\n",
    "from OpenSCENARIO2CR.OpenSCENARIOWrapper.Esmini.EsminiWrapperProvider import EsminiWrapperProvider\n",
    "from OpenSCENARIO2CR.OpenSCENARIOWrapper.Esmini.StoryBoardElement import EStoryBoardElementLevel\n",
    "from OpenSCENARIO2CR.Osc2CrConverter import Osc2CrConverter\n",
    "from OpenSCENARIO2CR.util.AbsRel import AbsRel\n",
    "from OpenSCENARIO2CR.util.PPSBuilder import PPSBuilder\n"
   ]
  },
  {
   "cell_type": "code",
   "execution_count": null,
   "outputs": [],
   "source": [],
   "metadata": {
    "collapsed": false
   }
  },
  {
   "cell_type": "code",
   "execution_count": 2,
   "metadata": {
    "ExecuteTime": {
     "start_time": "2023-04-17T10:44:45.061552Z",
     "end_time": "2023-04-17T10:44:45.072417Z"
    }
   },
   "outputs": [],
   "source": [
    "esmini_wrapper = EsminiWrapperProvider().provide_esmini_wrapper()\n",
    "esmini_wrapper.min_time = 5\n",
    "esmini_wrapper.max_time = 120.0\n",
    "esmini_wrapper.grace_period = 1\n",
    "esmini_wrapper.ignored_level = EStoryBoardElementLevel.ACT\n",
    "esmini_wrapper.log_to_console = False\n",
    "esmini_wrapper.log_to_file = False\n",
    "esmini_wrapper.random_seed = 0"
   ]
  },
  {
   "cell_type": "code",
   "execution_count": 3,
   "metadata": {
    "ExecuteTime": {
     "start_time": "2023-04-17T10:44:46.304554Z",
     "end_time": "2023-04-17T10:44:46.322053Z"
    }
   },
   "outputs": [],
   "source": [
    "pps_builder = PPSBuilder()\n",
    "pps_builder.time_interval = AbsRel(Interval(-10, 0), AbsRel.EUsage.REL_ADD)\n",
    "pps_builder.pos_length = AbsRel(50, AbsRel.EUsage.ABS)\n",
    "pps_builder.pos_width = AbsRel(10, AbsRel.EUsage.ABS)\n",
    "pps_builder.pos_rotation = AbsRel(0, AbsRel.EUsage.REL_ADD)\n",
    "pps_builder.pos_center_x = AbsRel(0, AbsRel.EUsage.REL_ADD)\n",
    "pps_builder.pos_center_y = AbsRel(0, AbsRel.EUsage.REL_ADD)\n",
    "pps_builder.velocity_interval = AbsRel(Interval(-5, 5), AbsRel.EUsage.REL_ADD)\n",
    "pps_builder.orientation_interval = None"
   ]
  },
  {
   "cell_type": "code",
   "execution_count": 4,
   "metadata": {
    "ExecuteTime": {
     "start_time": "2023-04-17T10:44:47.929334Z",
     "end_time": "2023-04-17T10:44:47.934815Z"
    }
   },
   "outputs": [],
   "source": [
    "converter = Osc2CrConverter(\n",
    "    author=\"ADD AUTHOR HERE\",\n",
    "    affiliation=\"ADD AFFILIATION HERE\",\n",
    "    source=\"ADD SOURCE HERE\",\n",
    "    tags={Tag.SIMULATED},\n",
    ")\n",
    "\n",
    "converter.sim_wrapper = esmini_wrapper\n",
    "converter.pps_builder = pps_builder\n",
    "\n",
    "converter.dt_cr = 0.1\n",
    "converter.keep_ego_vehicle = True\n",
    "converter.trim_scenario = False\n",
    "converter.use_implicit_odr_file = True\n",
    "converter.analyzers = {\n",
    "    SpotAnalyzer: SpotAnalyzer(stride=1, timeout=180),\n",
    "    DrivabilityAnalyzer: DrivabilityAnalyzer(timeout=180),\n",
    "    STLAnalyzer: STLAnalyzer(timeout=180),\n",
    "}\n",
    "# If you only want to run with default parameters for analyzers you can also use:\n",
    "# converter.analyzers = [EAnalyzer.SPOT_ANALYZER, EAnalyzer.DRIVABILITY_CHECKER, EAnalyzer.STL_MONITOR]\n",
    "\n",
    "converter.dt_sim = 0.01\n",
    "converter.odr_file_override = None\n",
    "converter.ego_filter = re.compile(r\".*ego.*\", re.IGNORECASE)"
   ]
  },
  {
   "cell_type": "code",
   "execution_count": 5,
   "metadata": {
    "ExecuteTime": {
     "start_time": "2023-04-17T10:44:53.801077Z",
     "end_time": "2023-04-17T10:44:53.807268Z"
    }
   },
   "outputs": [],
   "source": [
    "# Configured see the previous cells\n",
    "batch_converter = BatchConverter(converter)\n",
    "# If the default parameters are sufficient the following line is sufficient\n",
    "# batch_converter = BatchConverter(Osc2CrConverter())"
   ]
  },
  {
   "cell_type": "code",
   "execution_count": 6,
   "metadata": {
    "ExecuteTime": {
     "start_time": "2023-04-17T10:45:02.447308Z",
     "end_time": "2023-04-17T10:45:28.875955Z"
    }
   },
   "outputs": [],
   "source": [
    "from os.path import expanduser\n",
    "\n",
    "batch_converter.discover_files(expanduser(\"~\"), re.compile(r\".*\\.xosc\", re.IGNORECASE), recursively=True)"
   ]
  },
  {
   "cell_type": "code",
   "execution_count": 7,
   "metadata": {},
   "outputs": [
    {
     "name": "stderr",
     "output_type": "stream",
     "text": [
      "  0%|          | 0/676 [00:00<?, ?it/s]/home/yuanfei/commonroad2/openscenario2cr/OpenSCENARIO2CR/Osc2CrConverter.py:180: UserWarning: <OpenSCENARIO2CRConverter/_create_scenario> File /home/yuanfei/Documents/standard_download61fa668a0fbb1_18112/openscenario-v1.1.1/standard/Examples/$Road_Logics does not exist\n",
      "  warnings.warn(\n",
      "/home/yuanfei/commonroad2/openscenario2cr/OpenSCENARIO2CR/Osc2CrConverter.py:180: UserWarning: <OpenSCENARIO2CRConverter/_create_scenario> File /home/yuanfei/Documents/standard_download61fa668a0fbb1_18112/openscenario-v1.1.1/standard/Examples/$Road_Logics does not exist\n",
      "  warnings.warn(\n",
      "/home/yuanfei/commonroad2/openscenario2cr/OpenSCENARIO2CR/Osc2CrConverter.py:150: UserWarning: <Osc2CrConverter/_pre_parse_scenario> EndOfTrafficJamParameterSet.xosc contains no source file, but references another OpenSCENARIO file: \"/home/yuanfei/Documents/standard_download61fa668a0fbb1_18112/openscenario-v1.1.1/standard/Examples/EndOfTrafficJam.xosc\"\n",
      "  warnings.warn(\n"
     ]
    },
    {
     "name": "stdout",
     "output_type": "stream",
     "text": [
      "Hallo: {'file_header': {'author': 'Sebastian Maierhofer', 'affiliation': 'Technical University of Munich', 'source': 'CommonRoad Scenario Designer', 'time_step_size': 0.1}, 'plane_conversion': {'error_tolerance': 0.15, 'min_delta_s': 0.5, 'precision': 0.5}}\n",
      "Hallo: {'file_header': {'author': 'Sebastian Maierhofer', 'affiliation': 'Technical University of Munich', 'source': 'CommonRoad Scenario Designer', 'time_step_size': 0.1}, 'plane_conversion': {'error_tolerance': 0.15, 'min_delta_s': 0.5, 'precision': 0.5}}Hallo: {'file_header': {'author': 'Sebastian Maierhofer', 'affiliation': 'Technical University of Munich', 'source': 'CommonRoad Scenario Designer', 'time_step_size': 0.1}, 'plane_conversion': {'error_tolerance': 0.15, 'min_delta_s': 0.5, 'precision': 0.5}}\n",
      "\n",
      "Hallo: {'file_header': {'author': 'Sebastian Maierhofer', 'affiliation': 'Technical University of Munich', 'source': 'CommonRoad Scenario Designer', 'time_step_size': 0.1}, 'plane_conversion': {'error_tolerance': 0.15, 'min_delta_s': 0.5, 'precision': 0.5}}\n",
      "Hallo: {'file_header': {'author': 'Sebastian Maierhofer', 'affiliation': 'Technical University of Munich', 'source': 'CommonRoad Scenario Designer', 'time_step_size': 0.1}, 'plane_conversion': {'error_tolerance': 0.15, 'min_delta_s': 0.5, 'precision': 0.5}}Hallo: {'file_header': {'author': 'Sebastian Maierhofer', 'affiliation': 'Technical University of Munich', 'source': 'CommonRoad Scenario Designer', 'time_step_size': 0.1}, 'plane_conversion': {'error_tolerance': 0.15, 'min_delta_s': 0.5, 'precision': 0.5}}\n",
      "\n"
     ]
    },
    {
     "name": "stderr",
     "output_type": "stream",
     "text": [
      "/home/yuanfei/commonroad2/commonroad-scenario-designer/crdesigner/map_conversion/opendrive/opendrive_conversion/plane_elements/traffic_signals.py:45: UserWarning: OpenDRIVE/traffic_signals.py: Unknown TrafficSignIDZamunda of ID 605 of subtype 30!\n",
      "  warnings.warn(\"OpenDRIVE/traffic_signals.py: Unknown {}\"\n",
      "/home/yuanfei/commonroad2/commonroad-scenario-designer/crdesigner/map_conversion/opendrive/opendrive_conversion/plane_elements/traffic_signals.py:45: UserWarning: OpenDRIVE/traffic_signals.py: Unknown TrafficSignIDZamunda of ID 334 of subtype -1!\n",
      "  warnings.warn(\"OpenDRIVE/traffic_signals.py: Unknown {}\"\n",
      "/home/yuanfei/commonroad2/commonroad-scenario-designer/crdesigner/map_conversion/opendrive/opendrive_conversion/plane_elements/traffic_signals.py:45: UserWarning: OpenDRIVE/traffic_signals.py: Unknown TrafficSignIDZamunda of ID 605 of subtype 30!\n",
      "  warnings.warn(\"OpenDRIVE/traffic_signals.py: Unknown {}\"\n",
      "/home/yuanfei/commonroad2/commonroad-scenario-designer/crdesigner/map_conversion/opendrive/opendrive_conversion/plane_elements/traffic_signals.py:45: UserWarning: OpenDRIVE/traffic_signals.py: Unknown TrafficSignIDZamunda of ID 330 of subtype -1!\n",
      "  warnings.warn(\"OpenDRIVE/traffic_signals.py: Unknown {}\"\n",
      "/home/yuanfei/commonroad2/commonroad-scenario-designer/crdesigner/map_conversion/opendrive/opendrive_conversion/plane_elements/traffic_signals.py:45: UserWarning: OpenDRIVE/traffic_signals.py: Unknown TrafficSignIDZamunda of ID 222 of subtype -1!\n",
      "  warnings.warn(\"OpenDRIVE/traffic_signals.py: Unknown {}\"\n",
      "/home/yuanfei/commonroad2/commonroad-scenario-designer/crdesigner/map_conversion/opendrive/opendrive_conversion/plane_elements/traffic_signals.py:45: UserWarning: OpenDRIVE/traffic_signals.py: Unknown TrafficSignIDZamunda of ID 334 of subtype -1!\n",
      "  warnings.warn(\"OpenDRIVE/traffic_signals.py: Unknown {}\"\n",
      "/home/yuanfei/commonroad2/commonroad-scenario-designer/crdesigner/map_conversion/opendrive/opendrive_conversion/plane_elements/traffic_signals.py:45: UserWarning: OpenDRIVE/traffic_signals.py: Unknown TrafficSignIDZamunda of ID 605 of subtype 30!\n",
      "  warnings.warn(\"OpenDRIVE/traffic_signals.py: Unknown {}\"\n",
      "/home/yuanfei/commonroad2/commonroad-scenario-designer/crdesigner/map_conversion/opendrive/opendrive_conversion/plane_elements/traffic_signals.py:45: UserWarning: OpenDRIVE/traffic_signals.py: Unknown TrafficSignIDZamunda of ID 330 of subtype -1!\n",
      "  warnings.warn(\"OpenDRIVE/traffic_signals.py: Unknown {}\"\n",
      "/home/yuanfei/commonroad2/commonroad-scenario-designer/crdesigner/map_conversion/opendrive/opendrive_conversion/plane_elements/traffic_signals.py:45: UserWarning: OpenDRIVE/traffic_signals.py: Unknown TrafficSignIDZamunda of ID 334 of subtype -1!\n",
      "  warnings.warn(\"OpenDRIVE/traffic_signals.py: Unknown {}\"\n",
      "/home/yuanfei/commonroad2/commonroad-scenario-designer/crdesigner/map_conversion/opendrive/opendrive_conversion/plane_elements/traffic_signals.py:45: UserWarning: OpenDRIVE/traffic_signals.py: Unknown TrafficSignIDZamunda of ID 436 of subtype -1!\n",
      "  warnings.warn(\"OpenDRIVE/traffic_signals.py: Unknown {}\"\n",
      "/home/yuanfei/commonroad2/commonroad-scenario-designer/crdesigner/map_conversion/opendrive/opendrive_conversion/plane_elements/traffic_signals.py:45: UserWarning: OpenDRIVE/traffic_signals.py: Unknown TrafficSignIDZamunda of ID 330 of subtype -1!\n",
      "  warnings.warn(\"OpenDRIVE/traffic_signals.py: Unknown {}\"\n",
      "/home/yuanfei/commonroad2/commonroad-scenario-designer/crdesigner/map_conversion/opendrive/opendrive_conversion/plane_elements/traffic_signals.py:45: UserWarning: OpenDRIVE/traffic_signals.py: Unknown TrafficSignIDZamunda of ID 222 of subtype -1!\n",
      "  warnings.warn(\"OpenDRIVE/traffic_signals.py: Unknown {}\"\n",
      "/home/yuanfei/commonroad2/commonroad-scenario-designer/crdesigner/map_conversion/opendrive/opendrive_conversion/plane_elements/traffic_signals.py:45: UserWarning: OpenDRIVE/traffic_signals.py: Unknown TrafficSignIDZamunda of ID 452 of subtype -1!\n",
      "  warnings.warn(\"OpenDRIVE/traffic_signals.py: Unknown {}\"\n",
      "/home/yuanfei/commonroad2/commonroad-scenario-designer/crdesigner/map_conversion/opendrive/opendrive_conversion/plane_elements/traffic_signals.py:45: UserWarning: OpenDRIVE/traffic_signals.py: Unknown TrafficSignIDZamunda of ID 222 of subtype -1!\n",
      "  warnings.warn(\"OpenDRIVE/traffic_signals.py: Unknown {}\"\n",
      "/home/yuanfei/commonroad2/commonroad-scenario-designer/crdesigner/map_conversion/opendrive/opendrive_conversion/plane_elements/traffic_signals.py:45: UserWarning: OpenDRIVE/traffic_signals.py: Unknown TrafficSignIDZamunda of ID 451 of subtype -1!\n",
      "  warnings.warn(\"OpenDRIVE/traffic_signals.py: Unknown {}\"\n",
      "/home/yuanfei/commonroad2/commonroad-scenario-designer/crdesigner/map_conversion/opendrive/opendrive_conversion/plane_elements/traffic_signals.py:45: UserWarning: OpenDRIVE/traffic_signals.py: Unknown TrafficSignIDZamunda of ID 406 of subtype -1!\n",
      "  warnings.warn(\"OpenDRIVE/traffic_signals.py: Unknown {}\"\n",
      "/home/yuanfei/commonroad2/commonroad-scenario-designer/crdesigner/map_conversion/opendrive/opendrive_conversion/plane_elements/traffic_signals.py:45: UserWarning: OpenDRIVE/traffic_signals.py: Unknown TrafficSignIDZamunda of ID 450 of subtype -1!\n",
      "  warnings.warn(\"OpenDRIVE/traffic_signals.py: Unknown {}\"\n",
      "/home/yuanfei/commonroad2/commonroad-scenario-designer/crdesigner/map_conversion/opendrive/opendrive_conversion/plane_elements/traffic_signals.py:45: UserWarning: OpenDRIVE/traffic_signals.py: Unknown TrafficSignIDZamunda of ID 436 of subtype -1!\n",
      "  warnings.warn(\"OpenDRIVE/traffic_signals.py: Unknown {}\"\n",
      "/home/yuanfei/commonroad2/commonroad-scenario-designer/crdesigner/map_conversion/opendrive/opendrive_conversion/plane_elements/traffic_signals.py:45: UserWarning: OpenDRIVE/traffic_signals.py: Unknown TrafficSignIDZamunda of ID 436 of subtype -1!\n",
      "  warnings.warn(\"OpenDRIVE/traffic_signals.py: Unknown {}\"\n",
      "/home/yuanfei/commonroad2/commonroad-scenario-designer/crdesigner/map_conversion/opendrive/opendrive_conversion/plane_elements/traffic_signals.py:45: UserWarning: OpenDRIVE/traffic_signals.py: Unknown TrafficSignIDZamunda of ID 452 of subtype -1!\n",
      "  warnings.warn(\"OpenDRIVE/traffic_signals.py: Unknown {}\"\n",
      "/home/yuanfei/commonroad2/commonroad-scenario-designer/crdesigner/map_conversion/opendrive/opendrive_conversion/plane_elements/traffic_signals.py:45: UserWarning: OpenDRIVE/traffic_signals.py: Unknown TrafficSignIDZamunda of ID 451 of subtype -1!\n",
      "  warnings.warn(\"OpenDRIVE/traffic_signals.py: Unknown {}\"\n",
      "/home/yuanfei/commonroad2/commonroad-scenario-designer/crdesigner/map_conversion/opendrive/opendrive_conversion/plane_elements/traffic_signals.py:45: UserWarning: OpenDRIVE/traffic_signals.py: Unknown TrafficSignIDZamunda of ID 406 of subtype -1!\n",
      "  warnings.warn(\"OpenDRIVE/traffic_signals.py: Unknown {}\"\n",
      "/home/yuanfei/commonroad2/commonroad-scenario-designer/crdesigner/map_conversion/opendrive/opendrive_conversion/plane_elements/traffic_signals.py:45: UserWarning: OpenDRIVE/traffic_signals.py: Unknown TrafficSignIDZamunda of ID 450 of subtype -1!\n",
      "  warnings.warn(\"OpenDRIVE/traffic_signals.py: Unknown {}\"\n",
      "/home/yuanfei/commonroad2/commonroad-scenario-designer/crdesigner/map_conversion/opendrive/opendrive_conversion/plane_elements/traffic_signals.py:45: UserWarning: OpenDRIVE/traffic_signals.py: Unknown TrafficSignIDZamunda of ID 452 of subtype -1!\n",
      "  warnings.warn(\"OpenDRIVE/traffic_signals.py: Unknown {}\"\n",
      "/home/yuanfei/commonroad2/commonroad-scenario-designer/crdesigner/map_conversion/opendrive/opendrive_conversion/plane_elements/traffic_signals.py:45: UserWarning: OpenDRIVE/traffic_signals.py: Unknown TrafficSignIDZamunda of ID 430 of subtype -1!\n",
      "  warnings.warn(\"OpenDRIVE/traffic_signals.py: Unknown {}\"\n",
      "/home/yuanfei/commonroad2/commonroad-scenario-designer/crdesigner/map_conversion/opendrive/opendrive_conversion/plane_elements/traffic_signals.py:45: UserWarning: OpenDRIVE/traffic_signals.py: Unknown TrafficSignIDZamunda of ID 451 of subtype -1!\n",
      "  warnings.warn(\"OpenDRIVE/traffic_signals.py: Unknown {}\"\n",
      "/home/yuanfei/commonroad2/commonroad-scenario-designer/crdesigner/map_conversion/opendrive/opendrive_conversion/plane_elements/traffic_signals.py:45: UserWarning: OpenDRIVE/traffic_signals.py: Unknown TrafficSignIDZamunda of ID 430 of subtype 10!\n",
      "  warnings.warn(\"OpenDRIVE/traffic_signals.py: Unknown {}\"\n",
      "/home/yuanfei/commonroad2/commonroad-scenario-designer/crdesigner/map_conversion/opendrive/opendrive_conversion/plane_elements/traffic_signals.py:45: UserWarning: OpenDRIVE/traffic_signals.py: Unknown TrafficSignIDZamunda of ID 406 of subtype -1!\n",
      "  warnings.warn(\"OpenDRIVE/traffic_signals.py: Unknown {}\"\n",
      "/home/yuanfei/commonroad2/commonroad-scenario-designer/crdesigner/map_conversion/opendrive/opendrive_conversion/plane_elements/traffic_signals.py:45: UserWarning: OpenDRIVE/traffic_signals.py: Unknown TrafficSignIDZamunda of ID 450 of subtype -1!\n",
      "  warnings.warn(\"OpenDRIVE/traffic_signals.py: Unknown {}\"\n",
      "/home/yuanfei/commonroad2/commonroad-scenario-designer/crdesigner/map_conversion/opendrive/opendrive_conversion/plane_elements/traffic_signals.py:45: UserWarning: OpenDRIVE/traffic_signals.py: Unknown TrafficSignIDZamunda of ID 283 of subtype -1!\n",
      "  warnings.warn(\"OpenDRIVE/traffic_signals.py: Unknown {}\"\n",
      "/home/yuanfei/commonroad2/commonroad-scenario-designer/crdesigner/map_conversion/opendrive/opendrive_conversion/plane_elements/traffic_signals.py:45: UserWarning: OpenDRIVE/traffic_signals.py: Unknown TrafficSignIDZamunda of ID 531 of subtype -1!\n",
      "  warnings.warn(\"OpenDRIVE/traffic_signals.py: Unknown {}\"\n",
      "/home/yuanfei/commonroad2/commonroad-scenario-designer/crdesigner/map_conversion/opendrive/opendrive_conversion/plane_elements/traffic_signals.py:45: UserWarning: OpenDRIVE/traffic_signals.py: Unknown TrafficSignIDZamunda of ID 430 of subtype -1!\n",
      "  warnings.warn(\"OpenDRIVE/traffic_signals.py: Unknown {}\"\n",
      "/home/yuanfei/commonroad2/commonroad-scenario-designer/crdesigner/map_conversion/opendrive/opendrive_conversion/plane_elements/traffic_signals.py:45: UserWarning: OpenDRIVE/traffic_signals.py: Unknown TrafficSignIDZamunda of ID 430 of subtype -1!\n",
      "  warnings.warn(\"OpenDRIVE/traffic_signals.py: Unknown {}\"\n",
      "/home/yuanfei/commonroad2/openscenario2cr/OpenSCENARIO2CR/util/ObstacleExtraInfoFinder.py:48: UserWarning: <ObstacleExtraInfoFinder/run> CloseVehicleCrossing.xosc failed with 'offset'\n",
      "  warnings.warn(f\"<ObstacleExtraInfoFinder/run> {path.basename(self.scenario_path)} failed with {str(e)}\")\n",
      "/home/yuanfei/commonroad2/commonroad-scenario-designer/crdesigner/map_conversion/opendrive/opendrive_conversion/plane_elements/traffic_signals.py:45: UserWarning: OpenDRIVE/traffic_signals.py: Unknown TrafficSignIDZamunda of ID 430 of subtype 10!\n",
      "  warnings.warn(\"OpenDRIVE/traffic_signals.py: Unknown {}\"\n",
      "  1%|          | 4/676 [00:00<00:48, 13.97it/s]/home/yuanfei/commonroad2/commonroad-scenario-designer/crdesigner/map_conversion/opendrive/opendrive_conversion/plane_elements/traffic_signals.py:45: UserWarning: OpenDRIVE/traffic_signals.py: Unknown TrafficSignIDZamunda of ID 283 of subtype -1!\n",
      "  warnings.warn(\"OpenDRIVE/traffic_signals.py: Unknown {}\"\n",
      "/home/yuanfei/commonroad2/commonroad-scenario-designer/crdesigner/map_conversion/opendrive/opendrive_conversion/plane_elements/traffic_signals.py:45: UserWarning: OpenDRIVE/traffic_signals.py: Unknown TrafficSignIDZamunda of ID 430 of subtype 10!\n",
      "  warnings.warn(\"OpenDRIVE/traffic_signals.py: Unknown {}\"\n",
      "/home/yuanfei/commonroad2/commonroad-scenario-designer/crdesigner/map_conversion/opendrive/opendrive_conversion/plane_elements/traffic_signals.py:45: UserWarning: OpenDRIVE/traffic_signals.py: Unknown TrafficSignIDZamunda of ID 531 of subtype -1!\n",
      "  warnings.warn(\"OpenDRIVE/traffic_signals.py: Unknown {}\"\n"
     ]
    },
    {
     "name": "stdout",
     "output_type": "stream",
     "text": [
      "Hallo: {'file_header': {'author': 'Sebastian Maierhofer', 'affiliation': 'Technical University of Munich', 'source': 'CommonRoad Scenario Designer', 'time_step_size': 0.1}, 'plane_conversion': {'error_tolerance': 0.15, 'min_delta_s': 0.5, 'precision': 0.5}}\n"
     ]
    },
    {
     "name": "stderr",
     "output_type": "stream",
     "text": [
      "/home/yuanfei/commonroad2/commonroad-scenario-designer/crdesigner/map_conversion/opendrive/opendrive_conversion/plane_elements/traffic_signals.py:45: UserWarning: OpenDRIVE/traffic_signals.py: Unknown TrafficSignIDZamunda of ID 283 of subtype -1!\n",
      "  warnings.warn(\"OpenDRIVE/traffic_signals.py: Unknown {}\"\n",
      "/home/yuanfei/commonroad2/commonroad-scenario-designer/crdesigner/map_conversion/opendrive/opendrive_conversion/plane_elements/traffic_signals.py:45: UserWarning: OpenDRIVE/traffic_signals.py: Unknown TrafficSignIDZamunda of ID 531 of subtype -1!\n",
      "  warnings.warn(\"OpenDRIVE/traffic_signals.py: Unknown {}\"\n",
      "/home/yuanfei/commonroad2/openscenario2cr/OpenSCENARIO2CR/util/ObstacleExtraInfoFinder.py:48: UserWarning: <ObstacleExtraInfoFinder/run> EndOfTrafficJam.xosc failed with 'NoneType' object has no attribute 'findall'\n",
      "  warnings.warn(f\"<ObstacleExtraInfoFinder/run> {path.basename(self.scenario_path)} failed with {str(e)}\")\n"
     ]
    },
    {
     "name": "stdout",
     "output_type": "stream",
     "text": [
      "Hallo: {'file_header': {'author': 'Sebastian Maierhofer', 'affiliation': 'Technical University of Munich', 'source': 'CommonRoad Scenario Designer', 'time_step_size': 0.1}, 'plane_conversion': {'error_tolerance': 0.15, 'min_delta_s': 0.5, 'precision': 0.5}}\n"
     ]
    },
    {
     "name": "stderr",
     "output_type": "stream",
     "text": [
      "/home/yuanfei/commonroad2/commonroad-scenario-designer/crdesigner/map_conversion/opendrive/opendrive_conversion/plane_elements/traffic_signals.py:45: UserWarning: OpenDRIVE/traffic_signals.py: Unknown TrafficSignIDZamunda of ID 605 of subtype 30!\n",
      "  warnings.warn(\"OpenDRIVE/traffic_signals.py: Unknown {}\"\n",
      "/home/yuanfei/commonroad2/commonroad-scenario-designer/crdesigner/map_conversion/opendrive/opendrive_conversion/plane_elements/traffic_signals.py:45: UserWarning: OpenDRIVE/traffic_signals.py: Unknown TrafficSignIDZamunda of ID 334 of subtype -1!\n",
      "  warnings.warn(\"OpenDRIVE/traffic_signals.py: Unknown {}\"\n",
      "/home/yuanfei/commonroad2/commonroad-scenario-designer/crdesigner/map_conversion/opendrive/opendrive_conversion/plane_elements/traffic_signals.py:45: UserWarning: OpenDRIVE/traffic_signals.py: Unknown TrafficSignIDZamunda of ID 330 of subtype -1!\n",
      "  warnings.warn(\"OpenDRIVE/traffic_signals.py: Unknown {}\"\n",
      "/home/yuanfei/commonroad2/commonroad-scenario-designer/crdesigner/map_conversion/opendrive/opendrive_conversion/plane_elements/traffic_signals.py:45: UserWarning: OpenDRIVE/traffic_signals.py: Unknown TrafficSignIDZamunda of ID 222 of subtype -1!\n",
      "  warnings.warn(\"OpenDRIVE/traffic_signals.py: Unknown {}\"\n",
      "/home/yuanfei/commonroad2/commonroad-scenario-designer/crdesigner/map_conversion/opendrive/opendrive_conversion/plane_elements/traffic_signals.py:45: UserWarning: OpenDRIVE/traffic_signals.py: Unknown TrafficSignIDZamunda of ID 436 of subtype -1!\n",
      "  warnings.warn(\"OpenDRIVE/traffic_signals.py: Unknown {}\"\n",
      "/home/yuanfei/commonroad2/commonroad-scenario-designer/crdesigner/map_conversion/opendrive/opendrive_conversion/plane_elements/traffic_signals.py:45: UserWarning: OpenDRIVE/traffic_signals.py: Unknown TrafficSignIDZamunda of ID 452 of subtype -1!\n",
      "  warnings.warn(\"OpenDRIVE/traffic_signals.py: Unknown {}\"\n",
      "/home/yuanfei/commonroad2/commonroad-scenario-designer/crdesigner/map_conversion/opendrive/opendrive_conversion/plane_elements/traffic_signals.py:45: UserWarning: OpenDRIVE/traffic_signals.py: Unknown TrafficSignIDZamunda of ID 451 of subtype -1!\n",
      "  warnings.warn(\"OpenDRIVE/traffic_signals.py: Unknown {}\"\n",
      "/home/yuanfei/commonroad2/commonroad-scenario-designer/crdesigner/map_conversion/opendrive/opendrive_conversion/plane_elements/traffic_signals.py:45: UserWarning: OpenDRIVE/traffic_signals.py: Unknown TrafficSignIDZamunda of ID 406 of subtype -1!\n",
      "  warnings.warn(\"OpenDRIVE/traffic_signals.py: Unknown {}\"\n",
      "/home/yuanfei/commonroad2/commonroad-scenario-designer/crdesigner/map_conversion/opendrive/opendrive_conversion/plane_elements/traffic_signals.py:45: UserWarning: OpenDRIVE/traffic_signals.py: Unknown TrafficSignIDZamunda of ID 450 of subtype -1!\n",
      "  warnings.warn(\"OpenDRIVE/traffic_signals.py: Unknown {}\"\n",
      "/home/yuanfei/commonroad2/commonroad-scenario-designer/crdesigner/map_conversion/opendrive/opendrive_conversion/plane_elements/traffic_signals.py:45: UserWarning: OpenDRIVE/traffic_signals.py: Unknown TrafficSignIDZamunda of ID 430 of subtype -1!\n",
      "  warnings.warn(\"OpenDRIVE/traffic_signals.py: Unknown {}\"\n",
      "/home/yuanfei/commonroad2/commonroad-scenario-designer/crdesigner/map_conversion/opendrive/opendrive_conversion/plane_elements/traffic_signals.py:45: UserWarning: OpenDRIVE/traffic_signals.py: Unknown TrafficSignIDZamunda of ID 430 of subtype 10!\n",
      "  warnings.warn(\"OpenDRIVE/traffic_signals.py: Unknown {}\"\n",
      "/home/yuanfei/commonroad2/commonroad-scenario-designer/crdesigner/map_conversion/opendrive/opendrive_conversion/plane_elements/traffic_signals.py:45: UserWarning: OpenDRIVE/traffic_signals.py: Unknown TrafficSignIDZamunda of ID 283 of subtype -1!\n",
      "  warnings.warn(\"OpenDRIVE/traffic_signals.py: Unknown {}\"\n",
      "/home/yuanfei/commonroad2/commonroad-scenario-designer/crdesigner/map_conversion/opendrive/opendrive_conversion/plane_elements/traffic_signals.py:45: UserWarning: OpenDRIVE/traffic_signals.py: Unknown TrafficSignIDZamunda of ID 531 of subtype -1!\n",
      "  warnings.warn(\"OpenDRIVE/traffic_signals.py: Unknown {}\"\n",
      "/home/yuanfei/commonroad2/openscenario2cr/OpenSCENARIO2CR/Osc2CrConverter.py:180: UserWarning: <OpenSCENARIO2CRConverter/_create_scenario> File /home/yuanfei/Documents/standard_download61fa668a0fbb1_18112/openscenario-v1.1.1/standard/Examples/$Road_Logics does not exist\n",
      "  warnings.warn(\n",
      "/home/yuanfei/commonroad2/openscenario2cr/OpenSCENARIO2CR/util/ObstacleExtraInfoFinder.py:48: UserWarning: <ObstacleExtraInfoFinder/run> EndofTrafficJamNeighboringLaneOccupied.xosc failed with 'NoneType' object has no attribute 'findall'\n",
      "  warnings.warn(f\"<ObstacleExtraInfoFinder/run> {path.basename(self.scenario_path)} failed with {str(e)}\")\n",
      "/home/yuanfei/commonroad2/openscenario2cr/OpenSCENARIO2CR/Osc2CrConverter.py:150: UserWarning: <Osc2CrConverter/_pre_parse_scenario> SlowPrecedingVehicleDeterministicParameterSet.xosc contains no source file, but references another OpenSCENARIO file: \"/home/yuanfei/Documents/standard_download61fa668a0fbb1_18112/openscenario-v1.1.1/standard/Examples/SlowPrecedingVehicle.xosc\"\n",
      "  warnings.warn(\n",
      "/home/yuanfei/commonroad2/openscenario2cr/OpenSCENARIO2CR/Osc2CrConverter.py:150: UserWarning: <Osc2CrConverter/_pre_parse_scenario> SlowPrecedingVehicleStochasticParameterSet.xosc contains no source file, but references another OpenSCENARIO file: \"/home/yuanfei/Documents/standard_download61fa668a0fbb1_18112/openscenario-v1.1.1/standard/Examples/SlowPrecedingVehicle.xosc\"\n",
      "  warnings.warn(\n"
     ]
    },
    {
     "name": "stdout",
     "output_type": "stream",
     "text": [
      "Hallo: {'file_header': {'author': 'Sebastian Maierhofer', 'affiliation': 'Technical University of Munich', 'source': 'CommonRoad Scenario Designer', 'time_step_size': 0.1}, 'plane_conversion': {'error_tolerance': 0.15, 'min_delta_s': 0.5, 'precision': 0.5}}\n"
     ]
    },
    {
     "name": "stderr",
     "output_type": "stream",
     "text": [
      "/home/yuanfei/commonroad2/openscenario2cr/OpenSCENARIO2CR/util/ObstacleExtraInfoFinder.py:48: UserWarning: <ObstacleExtraInfoFinder/run> CutIn.xosc failed with 'offset'\n",
      "  warnings.warn(f\"<ObstacleExtraInfoFinder/run> {path.basename(self.scenario_path)} failed with {str(e)}\")\n"
     ]
    },
    {
     "name": "stdout",
     "output_type": "stream",
     "text": [
      "Hallo: {'file_header': {'author': 'Sebastian Maierhofer', 'affiliation': 'Technical University of Munich', 'source': 'CommonRoad Scenario Designer', 'time_step_size': 0.1}, 'plane_conversion': {'error_tolerance': 0.15, 'min_delta_s': 0.5, 'precision': 0.5}}\n"
     ]
    },
    {
     "name": "stderr",
     "output_type": "stream",
     "text": [
      "/home/yuanfei/commonroad2/commonroad-scenario-designer/crdesigner/map_conversion/opendrive/opendrive_conversion/plane_elements/traffic_signals.py:45: UserWarning: OpenDRIVE/traffic_signals.py: Unknown TrafficSignIDZamunda of ID 605 of subtype 30!\n",
      "  warnings.warn(\"OpenDRIVE/traffic_signals.py: Unknown {}\"\n",
      "/home/yuanfei/commonroad2/commonroad-scenario-designer/crdesigner/map_conversion/opendrive/opendrive_conversion/plane_elements/traffic_signals.py:45: UserWarning: OpenDRIVE/traffic_signals.py: Unknown TrafficSignIDZamunda of ID 334 of subtype -1!\n",
      "  warnings.warn(\"OpenDRIVE/traffic_signals.py: Unknown {}\"\n",
      "/home/yuanfei/commonroad2/commonroad-scenario-designer/crdesigner/map_conversion/opendrive/opendrive_conversion/plane_elements/traffic_signals.py:45: UserWarning: OpenDRIVE/traffic_signals.py: Unknown TrafficSignIDZamunda of ID 330 of subtype -1!\n",
      "  warnings.warn(\"OpenDRIVE/traffic_signals.py: Unknown {}\"\n",
      "/home/yuanfei/commonroad2/commonroad-scenario-designer/crdesigner/map_conversion/opendrive/opendrive_conversion/plane_elements/traffic_signals.py:45: UserWarning: OpenDRIVE/traffic_signals.py: Unknown TrafficSignIDZamunda of ID 222 of subtype -1!\n",
      "  warnings.warn(\"OpenDRIVE/traffic_signals.py: Unknown {}\"\n",
      "/home/yuanfei/commonroad2/commonroad-scenario-designer/crdesigner/map_conversion/opendrive/opendrive_conversion/plane_elements/traffic_signals.py:45: UserWarning: OpenDRIVE/traffic_signals.py: Unknown TrafficSignIDZamunda of ID 436 of subtype -1!\n",
      "  warnings.warn(\"OpenDRIVE/traffic_signals.py: Unknown {}\"\n",
      "/home/yuanfei/commonroad2/commonroad-scenario-designer/crdesigner/map_conversion/opendrive/opendrive_conversion/plane_elements/traffic_signals.py:45: UserWarning: OpenDRIVE/traffic_signals.py: Unknown TrafficSignIDZamunda of ID 452 of subtype -1!\n",
      "  warnings.warn(\"OpenDRIVE/traffic_signals.py: Unknown {}\"\n",
      "/home/yuanfei/commonroad2/commonroad-scenario-designer/crdesigner/map_conversion/opendrive/opendrive_conversion/plane_elements/traffic_signals.py:45: UserWarning: OpenDRIVE/traffic_signals.py: Unknown TrafficSignIDZamunda of ID 451 of subtype -1!\n",
      "  warnings.warn(\"OpenDRIVE/traffic_signals.py: Unknown {}\"\n",
      "/home/yuanfei/commonroad2/commonroad-scenario-designer/crdesigner/map_conversion/opendrive/opendrive_conversion/plane_elements/traffic_signals.py:45: UserWarning: OpenDRIVE/traffic_signals.py: Unknown TrafficSignIDZamunda of ID 406 of subtype -1!\n",
      "  warnings.warn(\"OpenDRIVE/traffic_signals.py: Unknown {}\"\n",
      "/home/yuanfei/commonroad2/commonroad-scenario-designer/crdesigner/map_conversion/opendrive/opendrive_conversion/plane_elements/traffic_signals.py:45: UserWarning: OpenDRIVE/traffic_signals.py: Unknown TrafficSignIDZamunda of ID 450 of subtype -1!\n",
      "  warnings.warn(\"OpenDRIVE/traffic_signals.py: Unknown {}\"\n",
      "/home/yuanfei/commonroad2/commonroad-scenario-designer/crdesigner/map_conversion/opendrive/opendrive_conversion/plane_elements/traffic_signals.py:45: UserWarning: OpenDRIVE/traffic_signals.py: Unknown TrafficSignIDZamunda of ID 430 of subtype -1!\n",
      "  warnings.warn(\"OpenDRIVE/traffic_signals.py: Unknown {}\"\n",
      "/home/yuanfei/commonroad2/commonroad-scenario-designer/crdesigner/map_conversion/opendrive/opendrive_conversion/plane_elements/traffic_signals.py:45: UserWarning: OpenDRIVE/traffic_signals.py: Unknown TrafficSignIDZamunda of ID 430 of subtype 10!\n",
      "  warnings.warn(\"OpenDRIVE/traffic_signals.py: Unknown {}\"\n",
      "/home/yuanfei/commonroad2/commonroad-scenario-designer/crdesigner/map_conversion/opendrive/opendrive_conversion/plane_elements/traffic_signals.py:45: UserWarning: OpenDRIVE/traffic_signals.py: Unknown TrafficSignIDZamunda of ID 283 of subtype -1!\n",
      "  warnings.warn(\"OpenDRIVE/traffic_signals.py: Unknown {}\"\n",
      "/home/yuanfei/commonroad2/commonroad-scenario-designer/crdesigner/map_conversion/opendrive/opendrive_conversion/plane_elements/traffic_signals.py:45: UserWarning: OpenDRIVE/traffic_signals.py: Unknown TrafficSignIDZamunda of ID 531 of subtype -1!\n",
      "  warnings.warn(\"OpenDRIVE/traffic_signals.py: Unknown {}\"\n",
      "/home/yuanfei/commonroad2/openscenario2cr/OpenSCENARIO2CR/util/ObstacleExtraInfoFinder.py:48: UserWarning: <ObstacleExtraInfoFinder/run> SlowPrecedingVehicle.xosc failed with 'offset'\n",
      "  warnings.warn(f\"<ObstacleExtraInfoFinder/run> {path.basename(self.scenario_path)} failed with {str(e)}\")\n",
      "/home/yuanfei/commonroad2/openscenario2cr/OpenSCENARIO2CR/Osc2CrConverter.py:180: UserWarning: <OpenSCENARIO2CRConverter/_create_scenario> File /home/yuanfei/Downloads/ALKS_Lateral_Detection_Range.xodr does not exist\n",
      "  warnings.warn(\n",
      "  1%|          | 6/676 [00:18<43:34,  3.90s/it]/home/yuanfei/commonroad2/openscenario2cr/OpenSCENARIO2CR/util/ObstacleExtraInfoFinder.py:48: UserWarning: <ObstacleExtraInfoFinder/run> FastOvertakeWithReInitialization.xosc failed with 'offset'\n",
      "  warnings.warn(f\"<ObstacleExtraInfoFinder/run> {path.basename(self.scenario_path)} failed with {str(e)}\")\n",
      "  1%|▏         | 10/676 [00:20<22:47,  2.05s/it]/home/yuanfei/commonroad2/openscenario2cr/OpenSCENARIO2CR/OpenSCENARIOWrapper/Esmini/EsminiWrapper.py:203: UserWarning: <EsminiWrapper/simulate_scenario> Failed to initialize scenario engine\n",
      "  warnings.warn(\"<EsminiWrapper/simulate_scenario> Failed to initialize scenario engine\")\n",
      "/home/yuanfei/commonroad2/openscenario2cr/OpenSCENARIO2CR/util/ObstacleExtraInfoFinder.py:48: UserWarning: <ObstacleExtraInfoFinder/run> 16fa7c7b-b82e-4f6d-88b8-1c78418662b7.xosc failed with 'author'\n",
      "  warnings.warn(f\"<ObstacleExtraInfoFinder/run> {path.basename(self.scenario_path)} failed with {str(e)}\")\n",
      "/home/yuanfei/commonroad2/openscenario2cr/OpenSCENARIO2CR/util/ObstacleExtraInfoFinder.py:48: UserWarning: <ObstacleExtraInfoFinder/run> 1ab776de-ce18-4065-8b6d-caf2e3ec3fed.xosc failed with 'author'\n",
      "  warnings.warn(f\"<ObstacleExtraInfoFinder/run> {path.basename(self.scenario_path)} failed with {str(e)}\")\n",
      "/home/yuanfei/commonroad2/openscenario2cr/OpenSCENARIO2CR/util/ObstacleExtraInfoFinder.py:48: UserWarning: <ObstacleExtraInfoFinder/run> 7d6268b2-d5b2-4746-927a-39076cbdaa5a.xosc failed with 'author'\n",
      "  warnings.warn(f\"<ObstacleExtraInfoFinder/run> {path.basename(self.scenario_path)} failed with {str(e)}\")\n",
      "/home/yuanfei/commonroad2/openscenario2cr/OpenSCENARIO2CR/util/ObstacleExtraInfoFinder.py:48: UserWarning: <ObstacleExtraInfoFinder/run> bff1c6bb-b898-4f09-b818-ed00029363e1.xosc failed with 'author'\n",
      "  warnings.warn(f\"<ObstacleExtraInfoFinder/run> {path.basename(self.scenario_path)} failed with {str(e)}\")\n",
      "  2%|▏         | 14/676 [00:23<16:08,  1.46s/it]/home/yuanfei/commonroad2/openscenario2cr/OpenSCENARIO2CR/util/ObstacleExtraInfoFinder.py:48: UserWarning: <ObstacleExtraInfoFinder/run> e235a04d-756f-4b75-87eb-7cd48c73aca7.xosc failed with 'author'\n",
      "  warnings.warn(f\"<ObstacleExtraInfoFinder/run> {path.basename(self.scenario_path)} failed with {str(e)}\")\n",
      "/home/yuanfei/commonroad2/openscenario2cr/OpenSCENARIO2CR/util/ObstacleExtraInfoFinder.py:48: UserWarning: <ObstacleExtraInfoFinder/run> 00518542-e426-4879-ab0b-77e27b61fc58.xosc failed with 'author'\n",
      "  warnings.warn(f\"<ObstacleExtraInfoFinder/run> {path.basename(self.scenario_path)} failed with {str(e)}\")\n",
      "/home/yuanfei/commonroad2/openscenario2cr/OpenSCENARIO2CR/util/ObstacleExtraInfoFinder.py:48: UserWarning: <ObstacleExtraInfoFinder/run> 4d15dfdf-c15b-4a20-aa66-ec3a22db2982.xosc failed with 'author'\n",
      "  warnings.warn(f\"<ObstacleExtraInfoFinder/run> {path.basename(self.scenario_path)} failed with {str(e)}\")\n",
      "  3%|▎         | 19/676 [00:25<10:38,  1.03it/s]/home/yuanfei/commonroad2/openscenario2cr/OpenSCENARIO2CR/util/ObstacleExtraInfoFinder.py:48: UserWarning: <ObstacleExtraInfoFinder/run> 89c3331f-f351-4fad-86e0-e4a6baecb9ef.xosc failed with 'author'\n",
      "  warnings.warn(f\"<ObstacleExtraInfoFinder/run> {path.basename(self.scenario_path)} failed with {str(e)}\")\n",
      "/home/yuanfei/commonroad2/openscenario2cr/OpenSCENARIO2CR/util/ObstacleExtraInfoFinder.py:48: UserWarning: <ObstacleExtraInfoFinder/run> 7e9ee3e3-793b-4a09-8481-ef74b4b51ab2.xosc failed with 'author'\n",
      "  warnings.warn(f\"<ObstacleExtraInfoFinder/run> {path.basename(self.scenario_path)} failed with {str(e)}\")\n",
      "  4%|▍         | 28/676 [00:25<05:13,  2.06it/s]/home/yuanfei/commonroad2/openscenario2cr/OpenSCENARIO2CR/util/ObstacleExtraInfoFinder.py:48: UserWarning: <ObstacleExtraInfoFinder/run> 930bff3e-2171-4617-a191-4a0f59722d3c.xosc failed with 'author'\n",
      "  warnings.warn(f\"<ObstacleExtraInfoFinder/run> {path.basename(self.scenario_path)} failed with {str(e)}\")\n",
      "  4%|▍         | 30/676 [00:26<04:52,  2.21it/s]/home/yuanfei/commonroad2/openscenario2cr/OpenSCENARIO2CR/util/ObstacleExtraInfoFinder.py:48: UserWarning: <ObstacleExtraInfoFinder/run> 9cd3ffa4-7bfe-438a-b28c-0f6b3b4c3e61.xosc failed with 'author'\n",
      "  warnings.warn(f\"<ObstacleExtraInfoFinder/run> {path.basename(self.scenario_path)} failed with {str(e)}\")\n",
      "  5%|▍         | 31/676 [00:26<04:36,  2.33it/s]/home/yuanfei/commonroad2/openscenario2cr/OpenSCENARIO2CR/util/ObstacleExtraInfoFinder.py:48: UserWarning: <ObstacleExtraInfoFinder/run> a5327c50-203e-4e59-822c-78d6a0e0617f.xosc failed with 'author'\n",
      "  warnings.warn(f\"<ObstacleExtraInfoFinder/run> {path.basename(self.scenario_path)} failed with {str(e)}\")\n",
      "  5%|▍         | 32/676 [00:26<04:19,  2.48it/s]/home/yuanfei/commonroad2/openscenario2cr/OpenSCENARIO2CR/util/ObstacleExtraInfoFinder.py:48: UserWarning: <ObstacleExtraInfoFinder/run> b88b450c-4072-4ead-a93e-fd51bbda4ec3.xosc failed with 'author'\n",
      "  warnings.warn(f\"<ObstacleExtraInfoFinder/run> {path.basename(self.scenario_path)} failed with {str(e)}\")\n",
      "  5%|▍         | 33/676 [00:26<03:59,  2.68it/s]/home/yuanfei/commonroad2/openscenario2cr/OpenSCENARIO2CR/util/ObstacleExtraInfoFinder.py:48: UserWarning: <ObstacleExtraInfoFinder/run> c36c876b-9e5c-4729-9aa0-7dadb766c7b5.xosc failed with 'author'\n",
      "  warnings.warn(f\"<ObstacleExtraInfoFinder/run> {path.basename(self.scenario_path)} failed with {str(e)}\")\n",
      "  5%|▌         | 34/676 [00:27<03:40,  2.91it/s]/home/yuanfei/commonroad2/openscenario2cr/OpenSCENARIO2CR/util/ObstacleExtraInfoFinder.py:48: UserWarning: <ObstacleExtraInfoFinder/run> ccf96fcf-4b33-4dbb-87a2-c7c531435a65.xosc failed with 'author'\n",
      "  warnings.warn(f\"<ObstacleExtraInfoFinder/run> {path.basename(self.scenario_path)} failed with {str(e)}\")\n",
      "  5%|▌         | 35/676 [00:27<03:18,  3.23it/s]/home/yuanfei/commonroad2/openscenario2cr/OpenSCENARIO2CR/util/ObstacleExtraInfoFinder.py:48: UserWarning: <ObstacleExtraInfoFinder/run> deac8f5b-8dc5-406c-addc-ee48f8b844da.xosc failed with 'author'\n",
      "  warnings.warn(f\"<ObstacleExtraInfoFinder/run> {path.basename(self.scenario_path)} failed with {str(e)}\")\n",
      "  5%|▌         | 36/676 [00:27<02:57,  3.60it/s]/home/yuanfei/commonroad2/openscenario2cr/OpenSCENARIO2CR/util/ObstacleExtraInfoFinder.py:48: UserWarning: <ObstacleExtraInfoFinder/run> e02c7b20-9fd9-4afd-9077-007f52b3cee7.xosc failed with 'author'\n",
      "  warnings.warn(f\"<ObstacleExtraInfoFinder/run> {path.basename(self.scenario_path)} failed with {str(e)}\")\n",
      "  5%|▌         | 37/676 [00:27<02:51,  3.73it/s]/home/yuanfei/commonroad2/openscenario2cr/OpenSCENARIO2CR/util/ObstacleExtraInfoFinder.py:48: UserWarning: <ObstacleExtraInfoFinder/run> e338ff8a-9d83-4368-b7ea-e370efb7af7d.xosc failed with 'author'\n",
      "  warnings.warn(f\"<ObstacleExtraInfoFinder/run> {path.basename(self.scenario_path)} failed with {str(e)}\")\n",
      "  6%|▌         | 38/676 [00:27<02:35,  4.09it/s]/home/yuanfei/commonroad2/openscenario2cr/OpenSCENARIO2CR/util/ObstacleExtraInfoFinder.py:48: UserWarning: <ObstacleExtraInfoFinder/run> ec9eab33-3544-4ef3-8789-3271e1395205.xosc failed with 'author'\n",
      "  warnings.warn(f\"<ObstacleExtraInfoFinder/run> {path.basename(self.scenario_path)} failed with {str(e)}\")\n",
      "  6%|▌         | 39/676 [00:28<02:23,  4.42it/s]/home/yuanfei/commonroad2/openscenario2cr/OpenSCENARIO2CR/util/ObstacleExtraInfoFinder.py:48: UserWarning: <ObstacleExtraInfoFinder/run> 2501a487-06de-48b0-bc03-28df2c75e4c0.xosc failed with 'author'\n",
      "  warnings.warn(f\"<ObstacleExtraInfoFinder/run> {path.basename(self.scenario_path)} failed with {str(e)}\")\n",
      "/home/yuanfei/commonroad2/openscenario2cr/OpenSCENARIO2CR/util/ObstacleExtraInfoFinder.py:48: UserWarning: <ObstacleExtraInfoFinder/run> 71c249bb-49b6-46fb-8150-1c3a7f75423e.xosc failed with 'author'\n",
      "  warnings.warn(f\"<ObstacleExtraInfoFinder/run> {path.basename(self.scenario_path)} failed with {str(e)}\")\n",
      "/home/yuanfei/commonroad2/openscenario2cr/OpenSCENARIO2CR/util/ObstacleExtraInfoFinder.py:48: UserWarning: <ObstacleExtraInfoFinder/run> 79b49bdc-eed7-4692-9f62-f38b41cd0f8d.xosc failed with 'author'\n",
      "  warnings.warn(f\"<ObstacleExtraInfoFinder/run> {path.basename(self.scenario_path)} failed with {str(e)}\")\n",
      "/home/yuanfei/commonroad2/openscenario2cr/OpenSCENARIO2CR/util/ObstacleExtraInfoFinder.py:48: UserWarning: <ObstacleExtraInfoFinder/run> af73218e-f715-47c0-89eb-1240f5f0f8ae.xosc failed with 'author'\n",
      "  warnings.warn(f\"<ObstacleExtraInfoFinder/run> {path.basename(self.scenario_path)} failed with {str(e)}\")\n",
      "  6%|▋         | 43/676 [00:28<01:06,  9.47it/s]/home/yuanfei/commonroad2/openscenario2cr/OpenSCENARIO2CR/util/ObstacleExtraInfoFinder.py:48: UserWarning: <ObstacleExtraInfoFinder/run> ce39a952-27ca-48c3-a676-767f7426d61d.xosc failed with 'author'\n",
      "  warnings.warn(f\"<ObstacleExtraInfoFinder/run> {path.basename(self.scenario_path)} failed with {str(e)}\")\n",
      "/home/yuanfei/commonroad2/openscenario2cr/OpenSCENARIO2CR/util/ObstacleExtraInfoFinder.py:48: UserWarning: <ObstacleExtraInfoFinder/run> 2ab032ad-6362-4ca6-b0f7-a57512162479.xosc failed with 'author'\n",
      "  warnings.warn(f\"<ObstacleExtraInfoFinder/run> {path.basename(self.scenario_path)} failed with {str(e)}\")\n",
      "  7%|▋         | 45/676 [00:28<01:02, 10.08it/s]/home/yuanfei/commonroad2/openscenario2cr/OpenSCENARIO2CR/util/ObstacleExtraInfoFinder.py:48: UserWarning: <ObstacleExtraInfoFinder/run> 58764e18-9f15-432c-a192-31cb9442d3ee.xosc failed with 'author'\n",
      "  warnings.warn(f\"<ObstacleExtraInfoFinder/run> {path.basename(self.scenario_path)} failed with {str(e)}\")\n",
      "/home/yuanfei/commonroad2/openscenario2cr/OpenSCENARIO2CR/util/ObstacleExtraInfoFinder.py:48: UserWarning: <ObstacleExtraInfoFinder/run> 5a810fa7-9f6e-444c-9848-7fa59cac46c3.xosc failed with 'author'\n",
      "  warnings.warn(f\"<ObstacleExtraInfoFinder/run> {path.basename(self.scenario_path)} failed with {str(e)}\")\n",
      "/home/yuanfei/commonroad2/openscenario2cr/OpenSCENARIO2CR/util/ObstacleExtraInfoFinder.py:48: UserWarning: <ObstacleExtraInfoFinder/run> 5eec2c98-0ae7-4dec-bde6-20a90b2f31ef.xosc failed with 'author'\n",
      "  warnings.warn(f\"<ObstacleExtraInfoFinder/run> {path.basename(self.scenario_path)} failed with {str(e)}\")\n",
      "/home/yuanfei/commonroad2/openscenario2cr/OpenSCENARIO2CR/util/ObstacleExtraInfoFinder.py:48: UserWarning: <ObstacleExtraInfoFinder/run> e9176bfd-8d4f-427b-8bf8-b3a234d8a9e7.xosc failed with 'author'\n",
      "  warnings.warn(f\"<ObstacleExtraInfoFinder/run> {path.basename(self.scenario_path)} failed with {str(e)}\")\n",
      "  7%|▋         | 49/676 [00:28<00:40, 15.31it/s]/home/yuanfei/commonroad2/openscenario2cr/OpenSCENARIO2CR/util/ObstacleExtraInfoFinder.py:48: UserWarning: <ObstacleExtraInfoFinder/run> 1da2c27b-d2e5-469f-81f1-8830c527ba89.xosc failed with 'author'\n",
      "  warnings.warn(f\"<ObstacleExtraInfoFinder/run> {path.basename(self.scenario_path)} failed with {str(e)}\")\n",
      "/home/yuanfei/commonroad2/openscenario2cr/OpenSCENARIO2CR/util/ObstacleExtraInfoFinder.py:48: UserWarning: <ObstacleExtraInfoFinder/run> 5f5e4e22-0545-48c2-81cf-f44821b13397.xosc failed with 'author'\n",
      "  warnings.warn(f\"<ObstacleExtraInfoFinder/run> {path.basename(self.scenario_path)} failed with {str(e)}\")\n",
      "/home/yuanfei/commonroad2/openscenario2cr/OpenSCENARIO2CR/util/ObstacleExtraInfoFinder.py:48: UserWarning: <ObstacleExtraInfoFinder/run> 66ffacf6-3b54-4aac-a97a-2edabb4570b7.xosc failed with 'author'\n",
      "  warnings.warn(f\"<ObstacleExtraInfoFinder/run> {path.basename(self.scenario_path)} failed with {str(e)}\")\n",
      "/home/yuanfei/commonroad2/openscenario2cr/OpenSCENARIO2CR/util/ObstacleExtraInfoFinder.py:48: UserWarning: <ObstacleExtraInfoFinder/run> c42815ed-cb9d-4bff-ab24-b16683b3d42d.xosc failed with 'author'\n",
      "  warnings.warn(f\"<ObstacleExtraInfoFinder/run> {path.basename(self.scenario_path)} failed with {str(e)}\")\n",
      "/home/yuanfei/commonroad2/openscenario2cr/OpenSCENARIO2CR/util/ObstacleExtraInfoFinder.py:48: UserWarning: <ObstacleExtraInfoFinder/run> e6b5b1f4-cc52-4509-8bf4-458659339336.xosc failed with 'author'\n",
      "  warnings.warn(f\"<ObstacleExtraInfoFinder/run> {path.basename(self.scenario_path)} failed with {str(e)}\")\n",
      "  8%|▊         | 54/676 [00:28<00:28, 22.09it/s]"
     ]
    },
    {
     "name": "stdout",
     "output_type": "stream",
     "text": [
      "Hallo: {'file_header': {'author': 'Sebastian Maierhofer', 'affiliation': 'Technical University of Munich', 'source': 'CommonRoad Scenario Designer', 'time_step_size': 0.1}, 'plane_conversion': {'error_tolerance': 0.15, 'min_delta_s': 0.5, 'precision': 0.5}}\n",
      "Hallo: {'file_header': {'author': 'Sebastian Maierhofer', 'affiliation': 'Technical University of Munich', 'source': 'CommonRoad Scenario Designer', 'time_step_size': 0.1}, 'plane_conversion': {'error_tolerance': 0.15, 'min_delta_s': 0.5, 'precision': 0.5}}"
     ]
    },
    {
     "name": "stderr",
     "output_type": "stream",
     "text": [
      "/home/yuanfei/commonroad2/openscenario2cr/OpenSCENARIO2CR/util/ObstacleExtraInfoFinder.py:48: UserWarning: <ObstacleExtraInfoFinder/run> 94a7f830-8b7c-47f5-b2be-cc0bc10f0c20.xosc failed with 'author'\n",
      "  warnings.warn(f\"<ObstacleExtraInfoFinder/run> {path.basename(self.scenario_path)} failed with {str(e)}\")\n"
     ]
    },
    {
     "name": "stdout",
     "output_type": "stream",
     "text": [
      "\n",
      "Hallo: {'file_header': {'author': 'Sebastian Maierhofer', 'affiliation': 'Technical University of Munich', 'source': 'CommonRoad Scenario Designer', 'time_step_size': 0.1}, 'plane_conversion': {'error_tolerance': 0.15, 'min_delta_s': 0.5, 'precision': 0.5}}\n"
     ]
    },
    {
     "name": "stderr",
     "output_type": "stream",
     "text": [
      "/home/yuanfei/commonroad2/openscenario2cr/OpenSCENARIO2CR/util/ObstacleExtraInfoFinder.py:48: UserWarning: <ObstacleExtraInfoFinder/run> 6e28b0cd-b273-47a7-9082-db8f99dfb693.xosc failed with 'author'\n",
      "  warnings.warn(f\"<ObstacleExtraInfoFinder/run> {path.basename(self.scenario_path)} failed with {str(e)}\")\n"
     ]
    },
    {
     "name": "stdout",
     "output_type": "stream",
     "text": [
      "Hallo: {'file_header': {'author': 'Sebastian Maierhofer', 'affiliation': 'Technical University of Munich', 'source': 'CommonRoad Scenario Designer', 'time_step_size': 0.1}, 'plane_conversion': {'error_tolerance': 0.15, 'min_delta_s': 0.5, 'precision': 0.5}}\n"
     ]
    },
    {
     "name": "stderr",
     "output_type": "stream",
     "text": [
      "/home/yuanfei/commonroad2/openscenario2cr/OpenSCENARIO2CR/util/ObstacleExtraInfoFinder.py:48: UserWarning: <ObstacleExtraInfoFinder/run> 7ea93a5d-d335-45b0-a00d-9408e70ed0f8.xosc failed with 'author'\n",
      "  warnings.warn(f\"<ObstacleExtraInfoFinder/run> {path.basename(self.scenario_path)} failed with {str(e)}\")\n",
      "  8%|▊         | 57/676 [00:28<00:29, 21.03it/s]"
     ]
    },
    {
     "name": "stdout",
     "output_type": "stream",
     "text": [
      "Hallo: {'file_header': {'author': 'Sebastian Maierhofer', 'affiliation': 'Technical University of Munich', 'source': 'CommonRoad Scenario Designer', 'time_step_size': 0.1}, 'plane_conversion': {'error_tolerance': 0.15, 'min_delta_s': 0.5, 'precision': 0.5}}\n"
     ]
    },
    {
     "name": "stderr",
     "output_type": "stream",
     "text": [
      "/home/yuanfei/commonroad2/openscenario2cr/OpenSCENARIO2CR/util/ObstacleExtraInfoFinder.py:48: UserWarning: <ObstacleExtraInfoFinder/run> c04efc85-00db-4883-88fd-428d84aef9f3.xosc failed with 'author'\n",
      "  warnings.warn(f\"<ObstacleExtraInfoFinder/run> {path.basename(self.scenario_path)} failed with {str(e)}\")\n"
     ]
    },
    {
     "name": "stdout",
     "output_type": "stream",
     "text": [
      "Hallo: {'file_header': {'author': 'Sebastian Maierhofer', 'affiliation': 'Technical University of Munich', 'source': 'CommonRoad Scenario Designer', 'time_step_size': 0.1}, 'plane_conversion': {'error_tolerance': 0.15, 'min_delta_s': 0.5, 'precision': 0.5}}\n"
     ]
    },
    {
     "name": "stderr",
     "output_type": "stream",
     "text": [
      "/home/yuanfei/commonroad2/openscenario2cr/OpenSCENARIO2CR/util/ObstacleExtraInfoFinder.py:48: UserWarning: <ObstacleExtraInfoFinder/run> d9c03eec-82e1-41fe-9d24-b597348e3adc.xosc failed with 'author'\n",
      "  warnings.warn(f\"<ObstacleExtraInfoFinder/run> {path.basename(self.scenario_path)} failed with {str(e)}\")\n"
     ]
    },
    {
     "name": "stdout",
     "output_type": "stream",
     "text": [
      "Hallo: {'file_header': {'author': 'Sebastian Maierhofer', 'affiliation': 'Technical University of Munich', 'source': 'CommonRoad Scenario Designer', 'time_step_size': 0.1}, 'plane_conversion': {'error_tolerance': 0.15, 'min_delta_s': 0.5, 'precision': 0.5}}\n"
     ]
    },
    {
     "name": "stderr",
     "output_type": "stream",
     "text": [
      "/home/yuanfei/commonroad2/openscenario2cr/OpenSCENARIO2CR/util/ObstacleExtraInfoFinder.py:48: UserWarning: <ObstacleExtraInfoFinder/run> e8be6590-c54f-4aec-bfa4-6ff8407ef92b.xosc failed with 'author'\n",
      "  warnings.warn(f\"<ObstacleExtraInfoFinder/run> {path.basename(self.scenario_path)} failed with {str(e)}\")\n",
      "  9%|▉         | 60/676 [00:29<00:41, 14.99it/s]"
     ]
    },
    {
     "name": "stdout",
     "output_type": "stream",
     "text": [
      "Hallo: {'file_header': {'author': 'Sebastian Maierhofer', 'affiliation': 'Technical University of Munich', 'source': 'CommonRoad Scenario Designer', 'time_step_size': 0.1}, 'plane_conversion': {'error_tolerance': 0.15, 'min_delta_s': 0.5, 'precision': 0.5}}\n"
     ]
    },
    {
     "name": "stderr",
     "output_type": "stream",
     "text": [
      "/home/yuanfei/commonroad2/openscenario2cr/OpenSCENARIO2CR/util/ObstacleExtraInfoFinder.py:48: UserWarning: <ObstacleExtraInfoFinder/run> VehiclePropertyTest.xosc failed with 'maxAcceleration'\n",
      "  warnings.warn(f\"<ObstacleExtraInfoFinder/run> {path.basename(self.scenario_path)} failed with {str(e)}\")\n"
     ]
    },
    {
     "name": "stdout",
     "output_type": "stream",
     "text": [
      "Hallo: {'file_header': {'author': 'Sebastian Maierhofer', 'affiliation': 'Technical University of Munich', 'source': 'CommonRoad Scenario Designer', 'time_step_size': 0.1}, 'plane_conversion': {'error_tolerance': 0.15, 'min_delta_s': 0.5, 'precision': 0.5}}\n",
      "Hallo: {'file_header': {'author': 'Sebastian Maierhofer', 'affiliation': 'Technical University of Munich', 'source': 'CommonRoad Scenario Designer', 'time_step_size': 0.1}, 'plane_conversion': {'error_tolerance': 0.15, 'min_delta_s': 0.5, 'precision': 0.5}}\n"
     ]
    },
    {
     "name": "stderr",
     "output_type": "stream",
     "text": [
      "/home/yuanfei/commonroad2/openscenario2cr/OpenSCENARIO2CR/util/ObstacleExtraInfoFinder.py:48: UserWarning: <ObstacleExtraInfoFinder/run> add_delete_entity.xosc failed with 'offset'\n",
      "  warnings.warn(f\"<ObstacleExtraInfoFinder/run> {path.basename(self.scenario_path)} failed with {str(e)}\")\n"
     ]
    },
    {
     "name": "stdout",
     "output_type": "stream",
     "text": [
      "Hallo: {'file_header': {'author': 'Sebastian Maierhofer', 'affiliation': 'Technical University of Munich', 'source': 'CommonRoad Scenario Designer', 'time_step_size': 0.1}, 'plane_conversion': {'error_tolerance': 0.15, 'min_delta_s': 0.5, 'precision': 0.5}}\n"
     ]
    },
    {
     "name": "stderr",
     "output_type": "stream",
     "text": [
      "  9%|▉         | 63/676 [00:29<00:43, 14.22it/s]"
     ]
    },
    {
     "name": "stdout",
     "output_type": "stream",
     "text": [
      "Hallo: {'file_header': {'author': 'Sebastian Maierhofer', 'affiliation': 'Technical University of Munich', 'source': 'CommonRoad Scenario Designer', 'time_step_size': 0.1}, 'plane_conversion': {'error_tolerance': 0.15, 'min_delta_s': 0.5, 'precision': 0.5}}\n"
     ]
    },
    {
     "name": "stderr",
     "output_type": "stream",
     "text": [
      "/home/yuanfei/commonroad2/openscenario2cr/OpenSCENARIO2CR/util/ObstacleExtraInfoFinder.py:48: UserWarning: <ObstacleExtraInfoFinder/run> alks_r157_quick_stop_test.xosc failed with 'NoneType' object has no attribute 'findall'\n",
      "  warnings.warn(f\"<ObstacleExtraInfoFinder/run> {path.basename(self.scenario_path)} failed with {str(e)}\")\n"
     ]
    },
    {
     "name": "stdout",
     "output_type": "stream",
     "text": [
      "Hallo: {'file_header': {'author': 'Sebastian Maierhofer', 'affiliation': 'Technical University of Munich', 'source': 'CommonRoad Scenario Designer', 'time_step_size': 0.1}, 'plane_conversion': {'error_tolerance': 0.15, 'min_delta_s': 0.5, 'precision': 0.5}}\n"
     ]
    },
    {
     "name": "stderr",
     "output_type": "stream",
     "text": [
      "/home/yuanfei/commonroad2/openscenario2cr/OpenSCENARIO2CR/util/ObstacleExtraInfoFinder.py:48: UserWarning: <ObstacleExtraInfoFinder/run> alks_r157_test.xosc failed with 'NoneType' object has no attribute 'findall'\n",
      "  warnings.warn(f\"<ObstacleExtraInfoFinder/run> {path.basename(self.scenario_path)} failed with {str(e)}\")\n",
      " 10%|▉         | 67/676 [00:29<00:55, 11.03it/s]"
     ]
    },
    {
     "name": "stdout",
     "output_type": "stream",
     "text": [
      "Hallo: {'file_header': {'author': 'Sebastian Maierhofer', 'affiliation': 'Technical University of Munich', 'source': 'CommonRoad Scenario Designer', 'time_step_size': 0.1}, 'plane_conversion': {'error_tolerance': 0.15, 'min_delta_s': 0.5, 'precision': 0.5}}\n"
     ]
    },
    {
     "name": "stderr",
     "output_type": "stream",
     "text": [
      "/home/yuanfei/commonroad2/commonroad-scenario-designer/crdesigner/map_conversion/opendrive/opendrive_conversion/plane_elements/traffic_signals.py:45: UserWarning: OpenDRIVE/traffic_signals.py: Unknown TrafficSignIDZamunda of ID -1 of subtype -1!\n",
      "  warnings.warn(\"OpenDRIVE/traffic_signals.py: Unknown {}\"\n",
      "/home/yuanfei/commonroad2/openscenario2cr/OpenSCENARIO2CR/util/ObstacleExtraInfoFinder.py:48: UserWarning: <ObstacleExtraInfoFinder/run> direct_junction.xosc failed with 'NoneType' object has no attribute 'attrib'\n",
      "  warnings.warn(f\"<ObstacleExtraInfoFinder/run> {path.basename(self.scenario_path)} failed with {str(e)}\")\n",
      " 10%|█         | 69/676 [00:30<01:06,  9.12it/s]"
     ]
    },
    {
     "name": "stdout",
     "output_type": "stream",
     "text": [
      "Hallo: {'file_header': {'author': 'Sebastian Maierhofer', 'affiliation': 'Technical University of Munich', 'source': 'CommonRoad Scenario Designer', 'time_step_size': 0.1}, 'plane_conversion': {'error_tolerance': 0.15, 'min_delta_s': 0.5, 'precision': 0.5}}Hallo: {'file_header': {'author': 'Sebastian Maierhofer', 'affiliation': 'Technical University of Munich', 'source': 'CommonRoad Scenario Designer', 'time_step_size': 0.1}, 'plane_conversion': {'error_tolerance': 0.15, 'min_delta_s': 0.5, 'precision': 0.5}}\n",
      "\n",
      "Hallo: {'file_header': {'author': 'Sebastian Maierhofer', 'affiliation': 'Technical University of Munich', 'source': 'CommonRoad Scenario Designer', 'time_step_size': 0.1}, 'plane_conversion': {'error_tolerance': 0.15, 'min_delta_s': 0.5, 'precision': 0.5}}\n"
     ]
    },
    {
     "name": "stderr",
     "output_type": "stream",
     "text": [
      "/home/yuanfei/commonroad2/openscenario2cr/OpenSCENARIO2CR/util/ObstacleExtraInfoFinder.py:48: UserWarning: <ObstacleExtraInfoFinder/run> elevations.xosc failed with 'NoneType' object has no attribute 'tag'\n",
      "  warnings.warn(f\"<ObstacleExtraInfoFinder/run> {path.basename(self.scenario_path)} failed with {str(e)}\")\n",
      " 11%|█         | 72/676 [00:30<01:01,  9.90it/s]"
     ]
    },
    {
     "name": "stdout",
     "output_type": "stream",
     "text": [
      "Hallo: {'file_header': {'author': 'Sebastian Maierhofer', 'affiliation': 'Technical University of Munich', 'source': 'CommonRoad Scenario Designer', 'time_step_size': 0.1}, 'plane_conversion': {'error_tolerance': 0.15, 'min_delta_s': 0.5, 'precision': 0.5}}Hallo: {'file_header': {'author': 'Sebastian Maierhofer', 'affiliation': 'Technical University of Munich', 'source': 'CommonRoad Scenario Designer', 'time_step_size': 0.1}, 'plane_conversion': {'error_tolerance': 0.15, 'min_delta_s': 0.5, 'precision': 0.5}}\n",
      "\n"
     ]
    },
    {
     "name": "stderr",
     "output_type": "stream",
     "text": [
      "/home/yuanfei/commonroad2/commonroad-scenario-designer/crdesigner/map_conversion/opendrive/opendrive_conversion/plane_elements/traffic_signals.py:45: UserWarning: OpenDRIVE/traffic_signals.py: Unknown TrafficSignIDZamunda of ID -1 of subtype -1!\n",
      "  warnings.warn(\"OpenDRIVE/traffic_signals.py: Unknown {}\"\n",
      "/home/yuanfei/commonroad2/openscenario2cr/OpenSCENARIO2CR/util/ObstacleExtraInfoFinder.py:48: UserWarning: <ObstacleExtraInfoFinder/run> four_roads.xosc failed with 'ds'\n",
      "  warnings.warn(f\"<ObstacleExtraInfoFinder/run> {path.basename(self.scenario_path)} failed with {str(e)}\")\n"
     ]
    },
    {
     "name": "stdout",
     "output_type": "stream",
     "text": [
      "Hallo: {'file_header': {'author': 'Sebastian Maierhofer', 'affiliation': 'Technical University of Munich', 'source': 'CommonRoad Scenario Designer', 'time_step_size': 0.1}, 'plane_conversion': {'error_tolerance': 0.15, 'min_delta_s': 0.5, 'precision': 0.5}}\n"
     ]
    },
    {
     "name": "stderr",
     "output_type": "stream",
     "text": [
      "/home/yuanfei/commonroad2/openscenario2cr/OpenSCENARIO2CR/util/ObstacleExtraInfoFinder.py:48: UserWarning: <ObstacleExtraInfoFinder/run> follow_route_blocked_by_collision_risk.xosc failed with not well-formed (invalid token): line 186, column 20\n",
      "  warnings.warn(f\"<ObstacleExtraInfoFinder/run> {path.basename(self.scenario_path)} failed with {str(e)}\")\n"
     ]
    },
    {
     "name": "stdout",
     "output_type": "stream",
     "text": [
      "Hallo: {'file_header': {'author': 'Sebastian Maierhofer', 'affiliation': 'Technical University of Munich', 'source': 'CommonRoad Scenario Designer', 'time_step_size': 0.1}, 'plane_conversion': {'error_tolerance': 0.15, 'min_delta_s': 0.5, 'precision': 0.5}}\n"
     ]
    },
    {
     "name": "stderr",
     "output_type": "stream",
     "text": [
      "/home/yuanfei/commonroad2/openscenario2cr/OpenSCENARIO2CR/util/ObstacleExtraInfoFinder.py:48: UserWarning: <ObstacleExtraInfoFinder/run> follow_route_collision_risk.xosc failed with not well-formed (invalid token): line 186, column 20\n",
      "  warnings.warn(f\"<ObstacleExtraInfoFinder/run> {path.basename(self.scenario_path)} failed with {str(e)}\")\n",
      " 11%|█         | 74/676 [00:31<01:39,  6.04it/s]"
     ]
    },
    {
     "name": "stdout",
     "output_type": "stream",
     "text": [
      "Hallo: {'file_header': {'author': 'Sebastian Maierhofer', 'affiliation': 'Technical University of Munich', 'source': 'CommonRoad Scenario Designer', 'time_step_size': 0.1}, 'plane_conversion': {'error_tolerance': 0.15, 'min_delta_s': 0.5, 'precision': 0.5}}\n"
     ]
    },
    {
     "name": "stderr",
     "output_type": "stream",
     "text": [
      "/home/yuanfei/commonroad2/openscenario2cr/OpenSCENARIO2CR/util/ObstacleExtraInfoFinder.py:48: UserWarning: <ObstacleExtraInfoFinder/run> full_e6mini.xosc failed with 'description'\n",
      "  warnings.warn(f\"<ObstacleExtraInfoFinder/run> {path.basename(self.scenario_path)} failed with {str(e)}\")\n"
     ]
    },
    {
     "name": "stdout",
     "output_type": "stream",
     "text": [
      "Hallo: {'file_header': {'author': 'Sebastian Maierhofer', 'affiliation': 'Technical University of Munich', 'source': 'CommonRoad Scenario Designer', 'time_step_size': 0.1}, 'plane_conversion': {'error_tolerance': 0.15, 'min_delta_s': 0.5, 'precision': 0.5}}\n"
     ]
    },
    {
     "name": "stderr",
     "output_type": "stream",
     "text": [
      "/home/yuanfei/commonroad2/openscenario2cr/OpenSCENARIO2CR/util/ObstacleExtraInfoFinder.py:48: UserWarning: <ObstacleExtraInfoFinder/run> ghost_restart.xosc failed with not well-formed (invalid token): line 186, column 20\n",
      "  warnings.warn(f\"<ObstacleExtraInfoFinder/run> {path.basename(self.scenario_path)} failed with {str(e)}\")\n"
     ]
    },
    {
     "name": "stdout",
     "output_type": "stream",
     "text": [
      "Hallo: {'file_header': {'author': 'Sebastian Maierhofer', 'affiliation': 'Technical University of Munich', 'source': 'CommonRoad Scenario Designer', 'time_step_size': 0.1}, 'plane_conversion': {'error_tolerance': 0.15, 'min_delta_s': 0.5, 'precision': 0.5}}\n"
     ]
    },
    {
     "name": "stderr",
     "output_type": "stream",
     "text": [
      "/home/yuanfei/anaconda3/envs/commonroad-py39/lib/python3.9/site-packages/commonroad/scenario/lanelet.py:611: UserWarning: <Lanelet/stop_line>: stop_line of lanelet is immutable!\n",
      "  warnings.warn('<Lanelet/stop_line>: stop_line of lanelet is immutable!', stacklevel=1)\n",
      "/home/yuanfei/commonroad2/openscenario2cr/OpenSCENARIO2CR/util/ObstacleExtraInfoFinder.py:48: UserWarning: <ObstacleExtraInfoFinder/run> full_e6mini_reverse.xosc failed with 'description'\n",
      "  warnings.warn(f\"<ObstacleExtraInfoFinder/run> {path.basename(self.scenario_path)} failed with {str(e)}\")\n"
     ]
    },
    {
     "name": "stdout",
     "output_type": "stream",
     "text": [
      "Hallo: {'file_header': {'author': 'Sebastian Maierhofer', 'affiliation': 'Technical University of Munich', 'source': 'CommonRoad Scenario Designer', 'time_step_size': 0.1}, 'plane_conversion': {'error_tolerance': 0.15, 'min_delta_s': 0.5, 'precision': 0.5}}\n"
     ]
    },
    {
     "name": "stderr",
     "output_type": "stream",
     "text": [
      "/home/yuanfei/commonroad2/openscenario2cr/OpenSCENARIO2CR/util/ObstacleExtraInfoFinder.py:48: UserWarning: <ObstacleExtraInfoFinder/run> ghost_restart2.xosc failed with 'NoneType' object has no attribute 'attrib'\n",
      "  warnings.warn(f\"<ObstacleExtraInfoFinder/run> {path.basename(self.scenario_path)} failed with {str(e)}\")\n"
     ]
    },
    {
     "name": "stdout",
     "output_type": "stream",
     "text": [
      "Hallo: {'file_header': {'author': 'Sebastian Maierhofer', 'affiliation': 'Technical University of Munich', 'source': 'CommonRoad Scenario Designer', 'time_step_size': 0.1}, 'plane_conversion': {'error_tolerance': 0.15, 'min_delta_s': 0.5, 'precision': 0.5}}\n"
     ]
    },
    {
     "name": "stderr",
     "output_type": "stream",
     "text": [
      "/home/yuanfei/commonroad2/openscenario2cr/OpenSCENARIO2CR/util/ObstacleExtraInfoFinder.py:48: UserWarning: <ObstacleExtraInfoFinder/run> follow_route_with_lane_change.xosc failed with not well-formed (invalid token): line 186, column 20\n",
      "  warnings.warn(f\"<ObstacleExtraInfoFinder/run> {path.basename(self.scenario_path)} failed with {str(e)}\")\n"
     ]
    },
    {
     "name": "stdout",
     "output_type": "stream",
     "text": [
      "Hallo: {'file_header': {'author': 'Sebastian Maierhofer', 'affiliation': 'Technical University of Munich', 'source': 'CommonRoad Scenario Designer', 'time_step_size': 0.1}, 'plane_conversion': {'error_tolerance': 0.15, 'min_delta_s': 0.5, 'precision': 0.5}}\n"
     ]
    },
    {
     "name": "stderr",
     "output_type": "stream",
     "text": [
      "/home/yuanfei/commonroad2/openscenario2cr/OpenSCENARIO2CR/util/ObstacleExtraInfoFinder.py:48: UserWarning: <ObstacleExtraInfoFinder/run> follow_route_no_path.xosc failed with not well-formed (invalid token): line 186, column 20\n",
      "  warnings.warn(f\"<ObstacleExtraInfoFinder/run> {path.basename(self.scenario_path)} failed with {str(e)}\")\n"
     ]
    },
    {
     "name": "stdout",
     "output_type": "stream",
     "text": [
      "Hallo: {'file_header': {'author': 'Sebastian Maierhofer', 'affiliation': 'Technical University of Munich', 'source': 'CommonRoad Scenario Designer', 'time_step_size': 0.1}, 'plane_conversion': {'error_tolerance': 0.15, 'min_delta_s': 0.5, 'precision': 0.5}}\n"
     ]
    },
    {
     "name": "stderr",
     "output_type": "stream",
     "text": [
      "/home/yuanfei/commonroad2/openscenario2cr/OpenSCENARIO2CR/util/ObstacleExtraInfoFinder.py:48: UserWarning: <ObstacleExtraInfoFinder/run> follow_route_controller_test_medium.xosc failed with not well-formed (invalid token): line 186, column 20\n",
      "  warnings.warn(f\"<ObstacleExtraInfoFinder/run> {path.basename(self.scenario_path)} failed with {str(e)}\")\n",
      " 11%|█         | 75/676 [00:33<05:11,  1.93it/s]"
     ]
    },
    {
     "name": "stdout",
     "output_type": "stream",
     "text": [
      "Hallo: {'file_header': {'author': 'Sebastian Maierhofer', 'affiliation': 'Technical University of Munich', 'source': 'CommonRoad Scenario Designer', 'time_step_size': 0.1}, 'plane_conversion': {'error_tolerance': 0.15, 'min_delta_s': 0.5, 'precision': 0.5}}\n"
     ]
    },
    {
     "name": "stderr",
     "output_type": "stream",
     "text": [
      "/home/yuanfei/anaconda3/envs/commonroad-py39/lib/python3.9/site-packages/commonroad/scenario/lanelet.py:611: UserWarning: <Lanelet/stop_line>: stop_line of lanelet is immutable!\n",
      "  warnings.warn('<Lanelet/stop_line>: stop_line of lanelet is immutable!', stacklevel=1)\n",
      "/home/yuanfei/commonroad2/openscenario2cr/OpenSCENARIO2CR/util/ObstacleExtraInfoFinder.py:48: UserWarning: <ObstacleExtraInfoFinder/run> follow_route_set_parameters.xosc failed with not well-formed (invalid token): line 186, column 20\n",
      "  warnings.warn(f\"<ObstacleExtraInfoFinder/run> {path.basename(self.scenario_path)} failed with {str(e)}\")\n"
     ]
    },
    {
     "name": "stdout",
     "output_type": "stream",
     "text": [
      "Hallo: {'file_header': {'author': 'Sebastian Maierhofer', 'affiliation': 'Technical University of Munich', 'source': 'CommonRoad Scenario Designer', 'time_step_size': 0.1}, 'plane_conversion': {'error_tolerance': 0.15, 'min_delta_s': 0.5, 'precision': 0.5}}\n",
      "Hallo: {'file_header': {'author': 'Sebastian Maierhofer', 'affiliation': 'Technical University of Munich', 'source': 'CommonRoad Scenario Designer', 'time_step_size': 0.1}, 'plane_conversion': {'error_tolerance': 0.15, 'min_delta_s': 0.5, 'precision': 0.5}}\n",
      "Hallo: {'file_header': {'author': 'Sebastian Maierhofer', 'affiliation': 'Technical University of Munich', 'source': 'CommonRoad Scenario Designer', 'time_step_size': 0.1}, 'plane_conversion': {'error_tolerance': 0.15, 'min_delta_s': 0.5, 'precision': 0.5}}\n",
      "Hallo: {'file_header': {'author': 'Sebastian Maierhofer', 'affiliation': 'Technical University of Munich', 'source': 'CommonRoad Scenario Designer', 'time_step_size': 0.1}, 'plane_conversion': {'error_tolerance': 0.15, 'min_delta_s': 0.5, 'precision': 0.5}}\n",
      "Hallo: {'file_header': {'author': 'Sebastian Maierhofer', 'affiliation': 'Technical University of Munich', 'source': 'CommonRoad Scenario Designer', 'time_step_size': 0.1}, 'plane_conversion': {'error_tolerance': 0.15, 'min_delta_s': 0.5, 'precision': 0.5}}\n",
      "Hallo: {'file_header': {'author': 'Sebastian Maierhofer', 'affiliation': 'Technical University of Munich', 'source': 'CommonRoad Scenario Designer', 'time_step_size': 0.1}, 'plane_conversion': {'error_tolerance': 0.15, 'min_delta_s': 0.5, 'precision': 0.5}}\n",
      "Hallo: {'file_header': {'author': 'Sebastian Maierhofer', 'affiliation': 'Technical University of Munich', 'source': 'CommonRoad Scenario Designer', 'time_step_size': 0.1}, 'plane_conversion': {'error_tolerance': 0.15, 'min_delta_s': 0.5, 'precision': 0.5}}\n"
     ]
    },
    {
     "name": "stderr",
     "output_type": "stream",
     "text": [
      "/home/yuanfei/commonroad2/openscenario2cr/OpenSCENARIO2CR/util/ObstacleExtraInfoFinder.py:48: UserWarning: <ObstacleExtraInfoFinder/run> follow_route_multiple_scenario_waypoints.xosc failed with not well-formed (invalid token): line 186, column 20\n",
      "  warnings.warn(f\"<ObstacleExtraInfoFinder/run> {path.basename(self.scenario_path)} failed with {str(e)}\")\n",
      " 11%|█         | 76/676 [00:34<06:07,  1.63it/s]"
     ]
    },
    {
     "name": "stdout",
     "output_type": "stream",
     "text": [
      "Hallo: {'file_header': {'author': 'Sebastian Maierhofer', 'affiliation': 'Technical University of Munich', 'source': 'CommonRoad Scenario Designer', 'time_step_size': 0.1}, 'plane_conversion': {'error_tolerance': 0.15, 'min_delta_s': 0.5, 'precision': 0.5}}\n"
     ]
    },
    {
     "name": "stderr",
     "output_type": "stream",
     "text": [
      "/home/yuanfei/commonroad2/openscenario2cr/OpenSCENARIO2CR/util/ObstacleExtraInfoFinder.py:48: UserWarning: <ObstacleExtraInfoFinder/run> init_test.xosc failed with 'NoneType' object has no attribute 'attrib'\n",
      "  warnings.warn(f\"<ObstacleExtraInfoFinder/run> {path.basename(self.scenario_path)} failed with {str(e)}\")\n"
     ]
    },
    {
     "name": "stdout",
     "output_type": "stream",
     "text": [
      "Hallo: {'file_header': {'author': 'Sebastian Maierhofer', 'affiliation': 'Technical University of Munich', 'source': 'CommonRoad Scenario Designer', 'time_step_size': 0.1}, 'plane_conversion': {'error_tolerance': 0.15, 'min_delta_s': 0.5, 'precision': 0.5}}\n"
     ]
    },
    {
     "name": "stderr",
     "output_type": "stream",
     "text": [
      "/home/yuanfei/commonroad2/openscenario2cr/OpenSCENARIO2CR/util/ObstacleExtraInfoFinder.py:48: UserWarning: <ObstacleExtraInfoFinder/run> init_test_objects_strange_order.xosc failed with 'NoneType' object has no attribute 'attrib'\n",
      "  warnings.warn(f\"<ObstacleExtraInfoFinder/run> {path.basename(self.scenario_path)} failed with {str(e)}\")\n",
      " 14%|█▎        | 92/676 [00:35<01:19,  7.38it/s]"
     ]
    },
    {
     "name": "stdout",
     "output_type": "stream",
     "text": [
      "Hallo: {'file_header': {'author': 'Sebastian Maierhofer', 'affiliation': 'Technical University of Munich', 'source': 'CommonRoad Scenario Designer', 'time_step_size': 0.1}, 'plane_conversion': {'error_tolerance': 0.15, 'min_delta_s': 0.5, 'precision': 0.5}}\n"
     ]
    },
    {
     "name": "stderr",
     "output_type": "stream",
     "text": [
      "/home/yuanfei/commonroad2/openscenario2cr/OpenSCENARIO2CR/util/ObstacleExtraInfoFinder.py:48: UserWarning: <ObstacleExtraInfoFinder/run> maneuver_groups_x_3.xosc failed with 'conditionEdge'\n",
      "  warnings.warn(f\"<ObstacleExtraInfoFinder/run> {path.basename(self.scenario_path)} failed with {str(e)}\")\n"
     ]
    },
    {
     "name": "stdout",
     "output_type": "stream",
     "text": [
      "Hallo: {'file_header': {'author': 'Sebastian Maierhofer', 'affiliation': 'Technical University of Munich', 'source': 'CommonRoad Scenario Designer', 'time_step_size': 0.1}, 'plane_conversion': {'error_tolerance': 0.15, 'min_delta_s': 0.5, 'precision': 0.5}}\n"
     ]
    },
    {
     "name": "stderr",
     "output_type": "stream",
     "text": [
      "/home/yuanfei/commonroad2/openscenario2cr/OpenSCENARIO2CR/util/ObstacleExtraInfoFinder.py:48: UserWarning: <ObstacleExtraInfoFinder/run> miscobj_basic.xosc failed with 'description'\n",
      "  warnings.warn(f\"<ObstacleExtraInfoFinder/run> {path.basename(self.scenario_path)} failed with {str(e)}\")\n"
     ]
    },
    {
     "name": "stdout",
     "output_type": "stream",
     "text": [
      "Hallo: {'file_header': {'author': 'Sebastian Maierhofer', 'affiliation': 'Technical University of Munich', 'source': 'CommonRoad Scenario Designer', 'time_step_size': 0.1}, 'plane_conversion': {'error_tolerance': 0.15, 'min_delta_s': 0.5, 'precision': 0.5}}\n"
     ]
    },
    {
     "name": "stderr",
     "output_type": "stream",
     "text": [
      "/home/yuanfei/commonroad2/openscenario2cr/OpenSCENARIO2CR/util/ObstacleExtraInfoFinder.py:48: UserWarning: <ObstacleExtraInfoFinder/run> multi_lane_changes.xosc failed with not well-formed (invalid token): line 186, column 20\n",
      "  warnings.warn(f\"<ObstacleExtraInfoFinder/run> {path.basename(self.scenario_path)} failed with {str(e)}\")\n"
     ]
    },
    {
     "name": "stdout",
     "output_type": "stream",
     "text": [
      "Hallo: {'file_header': {'author': 'Sebastian Maierhofer', 'affiliation': 'Technical University of Munich', 'source': 'CommonRoad Scenario Designer', 'time_step_size': 0.1}, 'plane_conversion': {'error_tolerance': 0.15, 'min_delta_s': 0.5, 'precision': 0.5}}\n"
     ]
    },
    {
     "name": "stderr",
     "output_type": "stream",
     "text": [
      "/home/yuanfei/commonroad2/commonroad-scenario-designer/crdesigner/map_conversion/opendrive/opendrive_conversion/plane_elements/traffic_signals.py:45: UserWarning: OpenDRIVE/traffic_signals.py: Unknown TrafficSignIDGermany of ID 110 of subtype !\n",
      "  warnings.warn(\"OpenDRIVE/traffic_signals.py: Unknown {}\"\n",
      "/home/yuanfei/commonroad2/commonroad-scenario-designer/crdesigner/map_conversion/opendrive/opendrive_conversion/plane_elements/traffic_signals.py:45: UserWarning: OpenDRIVE/traffic_signals.py: Unknown TrafficSignIDGermany of ID 105 of subtype !\n",
      "  warnings.warn(\"OpenDRIVE/traffic_signals.py: Unknown {}\"\n",
      "/home/yuanfei/commonroad2/openscenario2cr/OpenSCENARIO2CR/util/ObstacleExtraInfoFinder.py:48: UserWarning: <ObstacleExtraInfoFinder/run> junction-selector.xosc failed with 'NoneType' object has no attribute 'tag'\n",
      "  warnings.warn(f\"<ObstacleExtraInfoFinder/run> {path.basename(self.scenario_path)} failed with {str(e)}\")\n",
      " 14%|█▍        | 96/676 [00:35<01:22,  7.00it/s]"
     ]
    },
    {
     "name": "stdout",
     "output_type": "stream",
     "text": [
      "Hallo: {'file_header': {'author': 'Sebastian Maierhofer', 'affiliation': 'Technical University of Munich', 'source': 'CommonRoad Scenario Designer', 'time_step_size': 0.1}, 'plane_conversion': {'error_tolerance': 0.15, 'min_delta_s': 0.5, 'precision': 0.5}}\n"
     ]
    },
    {
     "name": "stderr",
     "output_type": "stream",
     "text": [
      "/home/yuanfei/commonroad2/openscenario2cr/OpenSCENARIO2CR/util/ObstacleExtraInfoFinder.py:48: UserWarning: <ObstacleExtraInfoFinder/run> override_action.xosc failed with 'number'\n",
      "  warnings.warn(f\"<ObstacleExtraInfoFinder/run> {path.basename(self.scenario_path)} failed with {str(e)}\")\n"
     ]
    },
    {
     "name": "stdout",
     "output_type": "stream",
     "text": [
      "Hallo: {'file_header': {'author': 'Sebastian Maierhofer', 'affiliation': 'Technical University of Munich', 'source': 'CommonRoad Scenario Designer', 'time_step_size': 0.1}, 'plane_conversion': {'error_tolerance': 0.15, 'min_delta_s': 0.5, 'precision': 0.5}}\n",
      "Hallo: {'file_header': {'author': 'Sebastian Maierhofer', 'affiliation': 'Technical University of Munich', 'source': 'CommonRoad Scenario Designer', 'time_step_size': 0.1}, 'plane_conversion': {'error_tolerance': 0.15, 'min_delta_s': 0.5, 'precision': 0.5}}\n",
      "Hallo: {'file_header': {'author': 'Sebastian Maierhofer', 'affiliation': 'Technical University of Munich', 'source': 'CommonRoad Scenario Designer', 'time_step_size': 0.1}, 'plane_conversion': {'error_tolerance': 0.15, 'min_delta_s': 0.5, 'precision': 0.5}}\n"
     ]
    },
    {
     "name": "stderr",
     "output_type": "stream",
     "text": [
      "/home/yuanfei/commonroad2/openscenario2cr/OpenSCENARIO2CR/util/ObstacleExtraInfoFinder.py:48: UserWarning: <ObstacleExtraInfoFinder/run> route_lane_change.xosc failed with 'NoneType' object has no attribute 'tag'\n",
      "  warnings.warn(f\"<ObstacleExtraInfoFinder/run> {path.basename(self.scenario_path)} failed with {str(e)}\")\n"
     ]
    },
    {
     "name": "stdout",
     "output_type": "stream",
     "text": [
      "Hallo: {'file_header': {'author': 'Sebastian Maierhofer', 'affiliation': 'Technical University of Munich', 'source': 'CommonRoad Scenario Designer', 'time_step_size': 0.1}, 'plane_conversion': {'error_tolerance': 0.15, 'min_delta_s': 0.5, 'precision': 0.5}}\n",
      "Hallo: {'file_header': {'author': 'Sebastian Maierhofer', 'affiliation': 'Technical University of Munich', 'source': 'CommonRoad Scenario Designer', 'time_step_size': 0.1}, 'plane_conversion': {'error_tolerance': 0.15, 'min_delta_s': 0.5, 'precision': 0.5}}\n",
      "Hallo: {'file_header': {'author': 'Sebastian Maierhofer', 'affiliation': 'Technical University of Munich', 'source': 'CommonRoad Scenario Designer', 'time_step_size': 0.1}, 'plane_conversion': {'error_tolerance': 0.15, 'min_delta_s': 0.5, 'precision': 0.5}}\n",
      "Hallo: {'file_header': {'author': 'Sebastian Maierhofer', 'affiliation': 'Technical University of Munich', 'source': 'CommonRoad Scenario Designer', 'time_step_size': 0.1}, 'plane_conversion': {'error_tolerance': 0.15, 'min_delta_s': 0.5, 'precision': 0.5}}\n"
     ]
    },
    {
     "name": "stderr",
     "output_type": "stream",
     "text": [
      " 15%|█▍        | 99/676 [00:36<01:36,  6.00it/s]"
     ]
    },
    {
     "name": "stdout",
     "output_type": "stream",
     "text": [
      "Hallo: {'file_header': {'author': 'Sebastian Maierhofer', 'affiliation': 'Technical University of Munich', 'source': 'CommonRoad Scenario Designer', 'time_step_size': 0.1}, 'plane_conversion': {'error_tolerance': 0.15, 'min_delta_s': 0.5, 'precision': 0.5}}\n",
      "Hallo: {'file_header': {'author': 'Sebastian Maierhofer', 'affiliation': 'Technical University of Munich', 'source': 'CommonRoad Scenario Designer', 'time_step_size': 0.1}, 'plane_conversion': {'error_tolerance': 0.15, 'min_delta_s': 0.5, 'precision': 0.5}}\n",
      "Hallo: {'file_header': {'author': 'Sebastian Maierhofer', 'affiliation': 'Technical University of Munich', 'source': 'CommonRoad Scenario Designer', 'time_step_size': 0.1}, 'plane_conversion': {'error_tolerance': 0.15, 'min_delta_s': 0.5, 'precision': 0.5}}\n"
     ]
    },
    {
     "name": "stderr",
     "output_type": "stream",
     "text": [
      "/home/yuanfei/commonroad2/openscenario2cr/OpenSCENARIO2CR/util/ObstacleExtraInfoFinder.py:48: UserWarning: <ObstacleExtraInfoFinder/run> speed-profile_test.xosc failed with ('element ', <Element 'PrivateAction' at 0x7fe30ba7c680>, 'is not a valid PrivateAction')\n",
      "  warnings.warn(f\"<ObstacleExtraInfoFinder/run> {path.basename(self.scenario_path)} failed with {str(e)}\")\n"
     ]
    },
    {
     "name": "stdout",
     "output_type": "stream",
     "text": [
      "Hallo: {'file_header': {'author': 'Sebastian Maierhofer', 'affiliation': 'Technical University of Munich', 'source': 'CommonRoad Scenario Designer', 'time_step_size': 0.1}, 'plane_conversion': {'error_tolerance': 0.15, 'min_delta_s': 0.5, 'precision': 0.5}}\n"
     ]
    },
    {
     "name": "stderr",
     "output_type": "stream",
     "text": [
      "/home/yuanfei/commonroad2/openscenario2cr/OpenSCENARIO2CR/util/ObstacleExtraInfoFinder.py:48: UserWarning: <ObstacleExtraInfoFinder/run> speed_over_distance.xosc failed with 'NoneType' object has no attribute 'tag'\n",
      "  warnings.warn(f\"<ObstacleExtraInfoFinder/run> {path.basename(self.scenario_path)} failed with {str(e)}\")\n"
     ]
    },
    {
     "name": "stdout",
     "output_type": "stream",
     "text": [
      "Hallo: {'file_header': {'author': 'Sebastian Maierhofer', 'affiliation': 'Technical University of Munich', 'source': 'CommonRoad Scenario Designer', 'time_step_size': 0.1}, 'plane_conversion': {'error_tolerance': 0.15, 'min_delta_s': 0.5, 'precision': 0.5}}\n"
     ]
    },
    {
     "name": "stderr",
     "output_type": "stream",
     "text": [
      "/home/yuanfei/commonroad2/openscenario2cr/OpenSCENARIO2CR/util/ObstacleExtraInfoFinder.py:48: UserWarning: <ObstacleExtraInfoFinder/run> perform_single_lane_change.xosc failed with not well-formed (invalid token): line 186, column 20\n",
      "  warnings.warn(f\"<ObstacleExtraInfoFinder/run> {path.basename(self.scenario_path)} failed with {str(e)}\")\n",
      " 15%|█▌        | 102/676 [00:36<01:27,  6.53it/s]/home/yuanfei/commonroad2/openscenario2cr/OpenSCENARIO2CR/Osc2CrConverter.py:180: UserWarning: <OpenSCENARIO2CRConverter/_create_scenario> File /home/yuanfei/Downloads/MichaelRatzel_GuidedResearch_2022/MichaelRatzel/software_data/scenarios/esmini/EnvironmentSimulator/code-examples/ad_hoc_traffic/xodr/straight_500m.xodr does not exist\n",
      "  warnings.warn(\n",
      "/home/yuanfei/commonroad2/openscenario2cr/OpenSCENARIO2CR/util/ObstacleExtraInfoFinder.py:48: UserWarning: <ObstacleExtraInfoFinder/run> test-collision-detection.xosc failed with 'NoneType' object has no attribute 'attrib'\n",
      "  warnings.warn(f\"<ObstacleExtraInfoFinder/run> {path.basename(self.scenario_path)} failed with {str(e)}\")\n",
      "/home/yuanfei/commonroad2/openscenario2cr/OpenSCENARIO2CR/Osc2CrConverter.py:180: UserWarning: <OpenSCENARIO2CRConverter/_create_scenario> File /home/yuanfei/Downloads/MichaelRatzel_GuidedResearch_2022/MichaelRatzel/software_data/scenarios/esmini/EnvironmentSimulator/code-examples/test-driver/../resources/xodr/curves_elevation.xodr does not exist\n",
      "  warnings.warn(\n",
      "/home/yuanfei/commonroad2/openscenario2cr/OpenSCENARIO2CR/OpenSCENARIOWrapper/Esmini/EsminiWrapper.py:203: UserWarning: <EsminiWrapper/simulate_scenario> Failed to initialize scenario engine\n",
      "  warnings.warn(\"<EsminiWrapper/simulate_scenario> Failed to initialize scenario engine\")\n"
     ]
    },
    {
     "name": "stdout",
     "output_type": "stream",
     "text": [
      "Hallo: {'file_header': {'author': 'Sebastian Maierhofer', 'affiliation': 'Technical University of Munich', 'source': 'CommonRoad Scenario Designer', 'time_step_size': 0.1}, 'plane_conversion': {'error_tolerance': 0.15, 'min_delta_s': 0.5, 'precision': 0.5}}\n"
     ]
    },
    {
     "name": "stderr",
     "output_type": "stream",
     "text": [
      "/home/yuanfei/commonroad2/openscenario2cr/OpenSCENARIO2CR/util/ObstacleExtraInfoFinder.py:48: UserWarning: <ObstacleExtraInfoFinder/run> test_action_dynamics.xosc failed with 'NoneType' object has no attribute 'tag'\n",
      "  warnings.warn(f\"<ObstacleExtraInfoFinder/run> {path.basename(self.scenario_path)} failed with {str(e)}\")\n",
      "/home/yuanfei/commonroad2/openscenario2cr/OpenSCENARIO2CR/OpenSCENARIOWrapper/Esmini/EsminiWrapper.py:203: UserWarning: <EsminiWrapper/simulate_scenario> Failed to initialize scenario engine\n",
      "  warnings.warn(\"<EsminiWrapper/simulate_scenario> Failed to initialize scenario engine\")\n"
     ]
    },
    {
     "name": "stdout",
     "output_type": "stream",
     "text": [
      "Hallo: {'file_header': {'author': 'Sebastian Maierhofer', 'affiliation': 'Technical University of Munich', 'source': 'CommonRoad Scenario Designer', 'time_step_size': 0.1}, 'plane_conversion': {'error_tolerance': 0.15, 'min_delta_s': 0.5, 'precision': 0.5}}\n",
      "Hallo: {'file_header': {'author': 'Sebastian Maierhofer', 'affiliation': 'Technical University of Munich', 'source': 'CommonRoad Scenario Designer', 'time_step_size': 0.1}, 'plane_conversion': {'error_tolerance': 0.15, 'min_delta_s': 0.5, 'precision': 0.5}}\n"
     ]
    },
    {
     "name": "stderr",
     "output_type": "stream",
     "text": [
      "/home/yuanfei/commonroad2/openscenario2cr/OpenSCENARIO2CR/util/ObstacleExtraInfoFinder.py:48: UserWarning: <ObstacleExtraInfoFinder/run> traj-heading-trig.xosc failed with 'offset'\n",
      "  warnings.warn(f\"<ObstacleExtraInfoFinder/run> {path.basename(self.scenario_path)} failed with {str(e)}\")\n"
     ]
    },
    {
     "name": "stdout",
     "output_type": "stream",
     "text": [
      "Hallo: {'file_header': {'author': 'Sebastian Maierhofer', 'affiliation': 'Technical University of Munich', 'source': 'CommonRoad Scenario Designer', 'time_step_size': 0.1}, 'plane_conversion': {'error_tolerance': 0.15, 'min_delta_s': 0.5, 'precision': 0.5}}\n"
     ]
    },
    {
     "name": "stderr",
     "output_type": "stream",
     "text": [
      "/home/yuanfei/commonroad2/openscenario2cr/OpenSCENARIO2CR/util/ObstacleExtraInfoFinder.py:48: UserWarning: <ObstacleExtraInfoFinder/run> trajectory-continuity.xosc failed with 'xml.etree.ElementTree.Element' object has no attribute 'element'\n",
      "  warnings.warn(f\"<ObstacleExtraInfoFinder/run> {path.basename(self.scenario_path)} failed with {str(e)}\")\n",
      "/home/yuanfei/commonroad2/openscenario2cr/OpenSCENARIO2CR/OpenSCENARIOWrapper/Esmini/EsminiWrapper.py:203: UserWarning: <EsminiWrapper/simulate_scenario> Failed to initialize scenario engine\n",
      "  warnings.warn(\"<EsminiWrapper/simulate_scenario> Failed to initialize scenario engine\")\n",
      "/home/yuanfei/commonroad2/openscenario2cr/OpenSCENARIO2CR/OpenSCENARIOWrapper/Esmini/EsminiWrapper.py:203: UserWarning: <EsminiWrapper/simulate_scenario> Failed to initialize scenario engine\n",
      "  warnings.warn(\"<EsminiWrapper/simulate_scenario> Failed to initialize scenario engine\")\n"
     ]
    },
    {
     "name": "stdout",
     "output_type": "stream",
     "text": [
      "Hallo: {'file_header': {'author': 'Sebastian Maierhofer', 'affiliation': 'Technical University of Munich', 'source': 'CommonRoad Scenario Designer', 'time_step_size': 0.1}, 'plane_conversion': {'error_tolerance': 0.15, 'min_delta_s': 0.5, 'precision': 0.5}}Hallo: {'file_header': {'author': 'Sebastian Maierhofer', 'affiliation': 'Technical University of Munich', 'source': 'CommonRoad Scenario Designer', 'time_step_size': 0.1}, 'plane_conversion': {'error_tolerance': 0.15, 'min_delta_s': 0.5, 'precision': 0.5}}\n",
      "\n",
      "Hallo: {'file_header': {'author': 'Sebastian Maierhofer', 'affiliation': 'Technical University of Munich', 'source': 'CommonRoad Scenario Designer', 'time_step_size': 0.1}, 'plane_conversion': {'error_tolerance': 0.15, 'min_delta_s': 0.5, 'precision': 0.5}}\n"
     ]
    },
    {
     "name": "stderr",
     "output_type": "stream",
     "text": [
      "/home/yuanfei/commonroad2/openscenario2cr/OpenSCENARIO2CR/util/ObstacleExtraInfoFinder.py:48: UserWarning: <ObstacleExtraInfoFinder/run> acc-test.xosc failed with 'NoneType' object has no attribute 'attrib'\n",
      "  warnings.warn(f\"<ObstacleExtraInfoFinder/run> {path.basename(self.scenario_path)} failed with {str(e)}\")\n"
     ]
    },
    {
     "name": "stdout",
     "output_type": "stream",
     "text": [
      "Hallo: {'file_header': {'author': 'Sebastian Maierhofer', 'affiliation': 'Technical University of Munich', 'source': 'CommonRoad Scenario Designer', 'time_step_size': 0.1}, 'plane_conversion': {'error_tolerance': 0.15, 'min_delta_s': 0.5, 'precision': 0.5}}\n"
     ]
    },
    {
     "name": "stderr",
     "output_type": "stream",
     "text": [
      "/home/yuanfei/commonroad2/openscenario2cr/OpenSCENARIO2CR/util/ObstacleExtraInfoFinder.py:48: UserWarning: <ObstacleExtraInfoFinder/run> alks_r157_cut_in_quick_brake.xosc failed with 'NoneType' object has no attribute 'findall'\n",
      "  warnings.warn(f\"<ObstacleExtraInfoFinder/run> {path.basename(self.scenario_path)} failed with {str(e)}\")\n"
     ]
    },
    {
     "name": "stdout",
     "output_type": "stream",
     "text": [
      "Hallo: {'file_header': {'author': 'Sebastian Maierhofer', 'affiliation': 'Technical University of Munich', 'source': 'CommonRoad Scenario Designer', 'time_step_size': 0.1}, 'plane_conversion': {'error_tolerance': 0.15, 'min_delta_s': 0.5, 'precision': 0.5}}\n"
     ]
    },
    {
     "name": "stderr",
     "output_type": "stream",
     "text": [
      "/home/yuanfei/commonroad2/openscenario2cr/OpenSCENARIO2CR/util/ObstacleExtraInfoFinder.py:48: UserWarning: <ObstacleExtraInfoFinder/run> alks-test.xosc failed with 'NoneType' object has no attribute 'attrib'\n",
      "  warnings.warn(f\"<ObstacleExtraInfoFinder/run> {path.basename(self.scenario_path)} failed with {str(e)}\")\n"
     ]
    },
    {
     "name": "stdout",
     "output_type": "stream",
     "text": [
      "Hallo: {'file_header': {'author': 'Sebastian Maierhofer', 'affiliation': 'Technical University of Munich', 'source': 'CommonRoad Scenario Designer', 'time_step_size': 0.1}, 'plane_conversion': {'error_tolerance': 0.15, 'min_delta_s': 0.5, 'precision': 0.5}}\n"
     ]
    },
    {
     "name": "stderr",
     "output_type": "stream",
     "text": [
      "/home/yuanfei/commonroad2/openscenario2cr/OpenSCENARIO2CR/util/ObstacleExtraInfoFinder.py:48: UserWarning: <ObstacleExtraInfoFinder/run> controller_test.xosc failed with 'NoneType' object has no attribute 'tag'\n",
      "  warnings.warn(f\"<ObstacleExtraInfoFinder/run> {path.basename(self.scenario_path)} failed with {str(e)}\")\n"
     ]
    },
    {
     "name": "stdout",
     "output_type": "stream",
     "text": [
      "Hallo: {'file_header': {'author': 'Sebastian Maierhofer', 'affiliation': 'Technical University of Munich', 'source': 'CommonRoad Scenario Designer', 'time_step_size': 0.1}, 'plane_conversion': {'error_tolerance': 0.15, 'min_delta_s': 0.5, 'precision': 0.5}}\n"
     ]
    },
    {
     "name": "stderr",
     "output_type": "stream",
     "text": [
      "/home/yuanfei/commonroad2/openscenario2cr/OpenSCENARIO2CR/util/ObstacleExtraInfoFinder.py:48: UserWarning: <ObstacleExtraInfoFinder/run> cut-in_cr.xosc failed with 'NoneType' object has no attribute 'tag'\n",
      "  warnings.warn(f\"<ObstacleExtraInfoFinder/run> {path.basename(self.scenario_path)} failed with {str(e)}\")\n"
     ]
    },
    {
     "name": "stdout",
     "output_type": "stream",
     "text": [
      "Hallo: {'file_header': {'author': 'Sebastian Maierhofer', 'affiliation': 'Technical University of Munich', 'source': 'CommonRoad Scenario Designer', 'time_step_size': 0.1}, 'plane_conversion': {'error_tolerance': 0.15, 'min_delta_s': 0.5, 'precision': 0.5}}\n"
     ]
    },
    {
     "name": "stderr",
     "output_type": "stream",
     "text": [
      "/home/yuanfei/commonroad2/openscenario2cr/OpenSCENARIO2CR/util/ObstacleExtraInfoFinder.py:48: UserWarning: <ObstacleExtraInfoFinder/run> cut-in_external.xosc failed with 'NoneType' object has no attribute 'attrib'\n",
      "  warnings.warn(f\"<ObstacleExtraInfoFinder/run> {path.basename(self.scenario_path)} failed with {str(e)}\")\n"
     ]
    },
    {
     "name": "stdout",
     "output_type": "stream",
     "text": [
      "Hallo: {'file_header': {'author': 'Sebastian Maierhofer', 'affiliation': 'Technical University of Munich', 'source': 'CommonRoad Scenario Designer', 'time_step_size': 0.1}, 'plane_conversion': {'error_tolerance': 0.15, 'min_delta_s': 0.5, 'precision': 0.5}}\n"
     ]
    },
    {
     "name": "stderr",
     "output_type": "stream",
     "text": [
      "/home/yuanfei/commonroad2/commonroad-scenario-designer/crdesigner/map_conversion/opendrive/opendrive_conversion/plane_elements/traffic_signals.py:45: UserWarning: OpenDRIVE/traffic_signals.py: Unknown TrafficSignIDZamunda of ID c of subtype 31!\n",
      "  warnings.warn(\"OpenDRIVE/traffic_signals.py: Unknown {}\"\n",
      "/home/yuanfei/commonroad2/commonroad-scenario-designer/crdesigner/map_conversion/opendrive/opendrive_conversion/plane_elements/traffic_signals.py:45: UserWarning: OpenDRIVE/traffic_signals.py: Unknown TrafficSignIDZamunda of ID a of subtype 20!\n",
      "  warnings.warn(\"OpenDRIVE/traffic_signals.py: Unknown {}\"\n"
     ]
    },
    {
     "name": "stdout",
     "output_type": "stream",
     "text": [
      "Hallo: {'file_header': {'author': 'Sebastian Maierhofer', 'affiliation': 'Technical University of Munich', 'source': 'CommonRoad Scenario Designer', 'time_step_size': 0.1}, 'plane_conversion': {'error_tolerance': 0.15, 'min_delta_s': 0.5, 'precision': 0.5}}\n"
     ]
    },
    {
     "name": "stderr",
     "output_type": "stream",
     "text": [
      " 16%|█▋        | 110/676 [00:40<02:40,  3.53it/s]"
     ]
    },
    {
     "name": "stdout",
     "output_type": "stream",
     "text": [
      "Hallo: {'file_header': {'author': 'Sebastian Maierhofer', 'affiliation': 'Technical University of Munich', 'source': 'CommonRoad Scenario Designer', 'time_step_size': 0.1}, 'plane_conversion': {'error_tolerance': 0.15, 'min_delta_s': 0.5, 'precision': 0.5}}\n"
     ]
    },
    {
     "name": "stderr",
     "output_type": "stream",
     "text": [
      "/home/yuanfei/commonroad2/openscenario2cr/OpenSCENARIO2CR/util/ObstacleExtraInfoFinder.py:48: UserWarning: <ObstacleExtraInfoFinder/run> cut-in_interactive.xosc failed with 'NoneType' object has no attribute 'attrib'\n",
      "  warnings.warn(f\"<ObstacleExtraInfoFinder/run> {path.basename(self.scenario_path)} failed with {str(e)}\")\n",
      " 20%|█▉        | 133/676 [00:40<00:58,  9.28it/s]/home/yuanfei/commonroad2/openscenario2cr/OpenSCENARIO2CR/util/ObstacleExtraInfoFinder.py:48: UserWarning: <ObstacleExtraInfoFinder/run> cut-in_sloppy.xosc failed with 'NoneType' object has no attribute 'attrib'\n",
      "  warnings.warn(f\"<ObstacleExtraInfoFinder/run> {path.basename(self.scenario_path)} failed with {str(e)}\")\n"
     ]
    },
    {
     "name": "stdout",
     "output_type": "stream",
     "text": [
      "Hallo: {'file_header': {'author': 'Sebastian Maierhofer', 'affiliation': 'Technical University of Munich', 'source': 'CommonRoad Scenario Designer', 'time_step_size': 0.1}, 'plane_conversion': {'error_tolerance': 0.15, 'min_delta_s': 0.5, 'precision': 0.5}}\n"
     ]
    },
    {
     "name": "stderr",
     "output_type": "stream",
     "text": [
      "/home/yuanfei/commonroad2/openscenario2cr/OpenSCENARIO2CR/OpenSCENARIOWrapper/Esmini/EsminiWrapper.py:203: UserWarning: <EsminiWrapper/simulate_scenario> Failed to initialize scenario engine\n",
      "  warnings.warn(\"<EsminiWrapper/simulate_scenario> Failed to initialize scenario engine\")\n"
     ]
    },
    {
     "name": "stdout",
     "output_type": "stream",
     "text": [
      "Hallo: {'file_header': {'author': 'Sebastian Maierhofer', 'affiliation': 'Technical University of Munich', 'source': 'CommonRoad Scenario Designer', 'time_step_size': 0.1}, 'plane_conversion': {'error_tolerance': 0.15, 'min_delta_s': 0.5, 'precision': 0.5}}\n"
     ]
    },
    {
     "name": "stderr",
     "output_type": "stream",
     "text": [
      "/home/yuanfei/commonroad2/openscenario2cr/OpenSCENARIO2CR/util/ObstacleExtraInfoFinder.py:48: UserWarning: <ObstacleExtraInfoFinder/run> cut-in_visibility.xosc failed with 'value'\n",
      "  warnings.warn(f\"<ObstacleExtraInfoFinder/run> {path.basename(self.scenario_path)} failed with {str(e)}\")\n",
      " 20%|██        | 137/676 [00:41<01:05,  8.18it/s]"
     ]
    },
    {
     "name": "stdout",
     "output_type": "stream",
     "text": [
      "Hallo: {'file_header': {'author': 'Sebastian Maierhofer', 'affiliation': 'Technical University of Munich', 'source': 'CommonRoad Scenario Designer', 'time_step_size': 0.1}, 'plane_conversion': {'error_tolerance': 0.15, 'min_delta_s': 0.5, 'precision': 0.5}}\n"
     ]
    },
    {
     "name": "stderr",
     "output_type": "stream",
     "text": [
      "/home/yuanfei/commonroad2/openscenario2cr/OpenSCENARIO2CR/util/ObstacleExtraInfoFinder.py:48: UserWarning: <ObstacleExtraInfoFinder/run> distance_test.xosc failed with 'offset'\n",
      "  warnings.warn(f\"<ObstacleExtraInfoFinder/run> {path.basename(self.scenario_path)} failed with {str(e)}\")\n"
     ]
    },
    {
     "name": "stdout",
     "output_type": "stream",
     "text": [
      "Hallo: {'file_header': {'author': 'Sebastian Maierhofer', 'affiliation': 'Technical University of Munich', 'source': 'CommonRoad Scenario Designer', 'time_step_size': 0.1}, 'plane_conversion': {'error_tolerance': 0.15, 'min_delta_s': 0.5, 'precision': 0.5}}\n"
     ]
    },
    {
     "name": "stderr",
     "output_type": "stream",
     "text": [
      "/home/yuanfei/commonroad2/openscenario2cr/OpenSCENARIO2CR/util/ObstacleExtraInfoFinder.py:48: UserWarning: <ObstacleExtraInfoFinder/run> drop-bike.xosc failed with 'dx'\n",
      "  warnings.warn(f\"<ObstacleExtraInfoFinder/run> {path.basename(self.scenario_path)} failed with {str(e)}\")\n"
     ]
    },
    {
     "name": "stdout",
     "output_type": "stream",
     "text": [
      "Hallo: {'file_header': {'author': 'Sebastian Maierhofer', 'affiliation': 'Technical University of Munich', 'source': 'CommonRoad Scenario Designer', 'time_step_size': 0.1}, 'plane_conversion': {'error_tolerance': 0.15, 'min_delta_s': 0.5, 'precision': 0.5}}\n"
     ]
    },
    {
     "name": "stderr",
     "output_type": "stream",
     "text": [
      "/home/yuanfei/commonroad2/openscenario2cr/OpenSCENARIO2CR/util/ObstacleExtraInfoFinder.py:48: UserWarning: <ObstacleExtraInfoFinder/run> follow_ghost.xosc failed with 'NoneType' object has no attribute 'attrib'\n",
      "  warnings.warn(f\"<ObstacleExtraInfoFinder/run> {path.basename(self.scenario_path)} failed with {str(e)}\")\n",
      " 21%|██        | 140/676 [00:42<01:17,  6.91it/s]"
     ]
    },
    {
     "name": "stdout",
     "output_type": "stream",
     "text": [
      "Hallo: {'file_header': {'author': 'Sebastian Maierhofer', 'affiliation': 'Technical University of Munich', 'source': 'CommonRoad Scenario Designer', 'time_step_size': 0.1}, 'plane_conversion': {'error_tolerance': 0.15, 'min_delta_s': 0.5, 'precision': 0.5}}\n"
     ]
    },
    {
     "name": "stderr",
     "output_type": "stream",
     "text": [
      "/home/yuanfei/commonroad2/openscenario2cr/OpenSCENARIO2CR/util/ObstacleExtraInfoFinder.py:48: UserWarning: <ObstacleExtraInfoFinder/run> highway_merge.xosc failed with 'speedTargetValueType'\n",
      "  warnings.warn(f\"<ObstacleExtraInfoFinder/run> {path.basename(self.scenario_path)} failed with {str(e)}\")\n"
     ]
    },
    {
     "name": "stdout",
     "output_type": "stream",
     "text": [
      "Hallo: {'file_header': {'author': 'Sebastian Maierhofer', 'affiliation': 'Technical University of Munich', 'source': 'CommonRoad Scenario Designer', 'time_step_size': 0.1}, 'plane_conversion': {'error_tolerance': 0.15, 'min_delta_s': 0.5, 'precision': 0.5}}\n"
     ]
    },
    {
     "name": "stderr",
     "output_type": "stream",
     "text": [
      "/home/yuanfei/commonroad2/openscenario2cr/OpenSCENARIO2CR/util/ObstacleExtraInfoFinder.py:48: UserWarning: <ObstacleExtraInfoFinder/run> highway_merge_advanced.xosc failed with 'NoneType' object has no attribute 'attrib'\n",
      "  warnings.warn(f\"<ObstacleExtraInfoFinder/run> {path.basename(self.scenario_path)} failed with {str(e)}\")\n",
      " 21%|██        | 142/676 [00:43<01:40,  5.30it/s]/home/yuanfei/commonroad2/openscenario2cr/OpenSCENARIO2CR/util/ObstacleExtraInfoFinder.py:48: UserWarning: <ObstacleExtraInfoFinder/run> lane-change_clothoid_based_trajectory.xosc failed with 'dx'\n",
      "  warnings.warn(f\"<ObstacleExtraInfoFinder/run> {path.basename(self.scenario_path)} failed with {str(e)}\")\n"
     ]
    },
    {
     "name": "stdout",
     "output_type": "stream",
     "text": [
      "Hallo: {'file_header': {'author': 'Sebastian Maierhofer', 'affiliation': 'Technical University of Munich', 'source': 'CommonRoad Scenario Designer', 'time_step_size': 0.1}, 'plane_conversion': {'error_tolerance': 0.15, 'min_delta_s': 0.5, 'precision': 0.5}}\n"
     ]
    },
    {
     "name": "stderr",
     "output_type": "stream",
     "text": [
      "/home/yuanfei/commonroad2/openscenario2cr/OpenSCENARIO2CR/util/ObstacleExtraInfoFinder.py:48: UserWarning: <ObstacleExtraInfoFinder/run> lane_change.xosc failed with 'NoneType' object has no attribute 'tag'\n",
      "  warnings.warn(f\"<ObstacleExtraInfoFinder/run> {path.basename(self.scenario_path)} failed with {str(e)}\")\n",
      " 21%|██▏       | 144/676 [00:43<01:32,  5.73it/s]"
     ]
    },
    {
     "name": "stdout",
     "output_type": "stream",
     "text": [
      "Hallo: {'file_header': {'author': 'Sebastian Maierhofer', 'affiliation': 'Technical University of Munich', 'source': 'CommonRoad Scenario Designer', 'time_step_size': 0.1}, 'plane_conversion': {'error_tolerance': 0.15, 'min_delta_s': 0.5, 'precision': 0.5}}\n"
     ]
    },
    {
     "name": "stderr",
     "output_type": "stream",
     "text": [
      "/home/yuanfei/commonroad2/openscenario2cr/OpenSCENARIO2CR/util/ObstacleExtraInfoFinder.py:48: UserWarning: <ObstacleExtraInfoFinder/run> lane_change_crest.xosc failed with 'NoneType' object has no attribute 'tag'\n",
      "  warnings.warn(f\"<ObstacleExtraInfoFinder/run> {path.basename(self.scenario_path)} failed with {str(e)}\")\n"
     ]
    },
    {
     "name": "stdout",
     "output_type": "stream",
     "text": [
      "Hallo: {'file_header': {'author': 'Sebastian Maierhofer', 'affiliation': 'Technical University of Munich', 'source': 'CommonRoad Scenario Designer', 'time_step_size': 0.1}, 'plane_conversion': {'error_tolerance': 0.15, 'min_delta_s': 0.5, 'precision': 0.5}}\n"
     ]
    },
    {
     "name": "stderr",
     "output_type": "stream",
     "text": [
      "/home/yuanfei/commonroad2/openscenario2cr/OpenSCENARIO2CR/util/ObstacleExtraInfoFinder.py:48: UserWarning: <ObstacleExtraInfoFinder/run> lane_change_simple.xosc failed with 'NoneType' object has no attribute 'tag'\n",
      "  warnings.warn(f\"<ObstacleExtraInfoFinder/run> {path.basename(self.scenario_path)} failed with {str(e)}\")\n",
      " 22%|██▏       | 146/676 [00:44<01:32,  5.73it/s]"
     ]
    },
    {
     "name": "stdout",
     "output_type": "stream",
     "text": [
      "Hallo: {'file_header': {'author': 'Sebastian Maierhofer', 'affiliation': 'Technical University of Munich', 'source': 'CommonRoad Scenario Designer', 'time_step_size': 0.1}, 'plane_conversion': {'error_tolerance': 0.15, 'min_delta_s': 0.5, 'precision': 0.5}}\n"
     ]
    },
    {
     "name": "stderr",
     "output_type": "stream",
     "text": [
      "/home/yuanfei/commonroad2/openscenario2cr/OpenSCENARIO2CR/util/ObstacleExtraInfoFinder.py:48: UserWarning: <ObstacleExtraInfoFinder/run> left-hand-traffic_by_heading.xosc failed with 'NoneType' object has no attribute 'attrib'\n",
      "  warnings.warn(f\"<ObstacleExtraInfoFinder/run> {path.basename(self.scenario_path)} failed with {str(e)}\")\n"
     ]
    },
    {
     "name": "stdout",
     "output_type": "stream",
     "text": [
      "Hallo: {'file_header': {'author': 'Sebastian Maierhofer', 'affiliation': 'Technical University of Munich', 'source': 'CommonRoad Scenario Designer', 'time_step_size': 0.1}, 'plane_conversion': {'error_tolerance': 0.15, 'min_delta_s': 0.5, 'precision': 0.5}}\n"
     ]
    },
    {
     "name": "stderr",
     "output_type": "stream",
     "text": [
      "/home/yuanfei/commonroad2/commonroad-scenario-designer/crdesigner/map_conversion/opendrive/opendrive_conversion/plane_elements/traffic_signals.py:45: UserWarning: OpenDRIVE/traffic_signals.py: Unknown TrafficSignIDZamunda of ID -1 of subtype -1!\n",
      "  warnings.warn(\"OpenDRIVE/traffic_signals.py: Unknown {}\"\n",
      "/home/yuanfei/commonroad2/openscenario2cr/OpenSCENARIO2CR/util/ObstacleExtraInfoFinder.py:48: UserWarning: <ObstacleExtraInfoFinder/run> left-hand-traffic_using_road_rule.xosc failed with 'NoneType' object has no attribute 'attrib'\n",
      "  warnings.warn(f\"<ObstacleExtraInfoFinder/run> {path.basename(self.scenario_path)} failed with {str(e)}\")\n",
      " 22%|██▏       | 148/676 [00:44<01:38,  5.34it/s]"
     ]
    },
    {
     "name": "stdout",
     "output_type": "stream",
     "text": [
      "Hallo: {'file_header': {'author': 'Sebastian Maierhofer', 'affiliation': 'Technical University of Munich', 'source': 'CommonRoad Scenario Designer', 'time_step_size': 0.1}, 'plane_conversion': {'error_tolerance': 0.15, 'min_delta_s': 0.5, 'precision': 0.5}}\n"
     ]
    },
    {
     "name": "stderr",
     "output_type": "stream",
     "text": [
      "/home/yuanfei/commonroad2/commonroad-scenario-designer/crdesigner/map_conversion/opendrive/opendrive_conversion/plane_elements/traffic_signals.py:45: UserWarning: OpenDRIVE/traffic_signals.py: Unknown TrafficSignIDZamunda of ID c of subtype 31!\n",
      "  warnings.warn(\"OpenDRIVE/traffic_signals.py: Unknown {}\"\n",
      "/home/yuanfei/commonroad2/commonroad-scenario-designer/crdesigner/map_conversion/opendrive/opendrive_conversion/plane_elements/traffic_signals.py:45: UserWarning: OpenDRIVE/traffic_signals.py: Unknown TrafficSignIDZamunda of ID a of subtype 20!\n",
      "  warnings.warn(\"OpenDRIVE/traffic_signals.py: Unknown {}\"\n",
      "/home/yuanfei/commonroad2/openscenario2cr/OpenSCENARIO2CR/util/ObstacleExtraInfoFinder.py:48: UserWarning: <ObstacleExtraInfoFinder/run> ltap-od-relative-speed.xosc failed with 'NoneType' object has no attribute 'attrib'\n",
      "  warnings.warn(f\"<ObstacleExtraInfoFinder/run> {path.basename(self.scenario_path)} failed with {str(e)}\")\n",
      " 22%|██▏       | 149/676 [00:45<01:56,  4.53it/s]"
     ]
    },
    {
     "name": "stdout",
     "output_type": "stream",
     "text": [
      "Hallo: {'file_header': {'author': 'Sebastian Maierhofer', 'affiliation': 'Technical University of Munich', 'source': 'CommonRoad Scenario Designer', 'time_step_size': 0.1}, 'plane_conversion': {'error_tolerance': 0.15, 'min_delta_s': 0.5, 'precision': 0.5}}\n"
     ]
    },
    {
     "name": "stderr",
     "output_type": "stream",
     "text": [
      "/home/yuanfei/commonroad2/openscenario2cr/OpenSCENARIO2CR/util/ObstacleExtraInfoFinder.py:48: UserWarning: <ObstacleExtraInfoFinder/run> parking_lot.xosc failed with 'NoneType' object has no attribute 'attrib'\n",
      "  warnings.warn(f\"<ObstacleExtraInfoFinder/run> {path.basename(self.scenario_path)} failed with {str(e)}\")\n"
     ]
    },
    {
     "name": "stdout",
     "output_type": "stream",
     "text": [
      "Hallo: {'file_header': {'author': 'Sebastian Maierhofer', 'affiliation': 'Technical University of Munich', 'source': 'CommonRoad Scenario Designer', 'time_step_size': 0.1}, 'plane_conversion': {'error_tolerance': 0.15, 'min_delta_s': 0.5, 'precision': 0.5}}\n"
     ]
    },
    {
     "name": "stderr",
     "output_type": "stream",
     "text": [
      "/home/yuanfei/commonroad2/openscenario2cr/OpenSCENARIO2CR/util/ObstacleExtraInfoFinder.py:48: UserWarning: <ObstacleExtraInfoFinder/run> ltap-od.xosc failed with 'NoneType' object has no attribute 'attrib'\n",
      "  warnings.warn(f\"<ObstacleExtraInfoFinder/run> {path.basename(self.scenario_path)} failed with {str(e)}\")\n",
      " 22%|██▏       | 150/676 [00:45<02:25,  3.63it/s]"
     ]
    },
    {
     "name": "stdout",
     "output_type": "stream",
     "text": [
      "Hallo: {'file_header': {'author': 'Sebastian Maierhofer', 'affiliation': 'Technical University of Munich', 'source': 'CommonRoad Scenario Designer', 'time_step_size': 0.1}, 'plane_conversion': {'error_tolerance': 0.15, 'min_delta_s': 0.5, 'precision': 0.5}}\n"
     ]
    },
    {
     "name": "stderr",
     "output_type": "stream",
     "text": [
      "/home/yuanfei/commonroad2/openscenario2cr/OpenSCENARIO2CR/util/ObstacleExtraInfoFinder.py:48: UserWarning: <ObstacleExtraInfoFinder/run> pedestrian.xosc failed with 'NoneType' object has no attribute 'tag'\n",
      "  warnings.warn(f\"<ObstacleExtraInfoFinder/run> {path.basename(self.scenario_path)} failed with {str(e)}\")\n",
      " 22%|██▏       | 152/676 [00:45<01:52,  4.66it/s]"
     ]
    },
    {
     "name": "stdout",
     "output_type": "stream",
     "text": [
      "Hallo: {'file_header': {'author': 'Sebastian Maierhofer', 'affiliation': 'Technical University of Munich', 'source': 'CommonRoad Scenario Designer', 'time_step_size': 0.1}, 'plane_conversion': {'error_tolerance': 0.15, 'min_delta_s': 0.5, 'precision': 0.5}}\n"
     ]
    },
    {
     "name": "stderr",
     "output_type": "stream",
     "text": [
      "/home/yuanfei/commonroad2/commonroad-scenario-designer/crdesigner/map_conversion/opendrive/opendrive_conversion/plane_elements/traffic_signals.py:45: UserWarning: OpenDRIVE/traffic_signals.py: Unknown TrafficSignIDZamunda of ID -1 of subtype -1!\n",
      "  warnings.warn(\"OpenDRIVE/traffic_signals.py: Unknown {}\"\n",
      "/home/yuanfei/anaconda3/envs/commonroad-py39/lib/python3.9/site-packages/commonroad/scenario/lanelet.py:611: UserWarning: <Lanelet/stop_line>: stop_line of lanelet is immutable!\n",
      "  warnings.warn('<Lanelet/stop_line>: stop_line of lanelet is immutable!', stacklevel=1)\n",
      "/home/yuanfei/commonroad2/openscenario2cr/OpenSCENARIO2CR/util/ObstacleExtraInfoFinder.py:48: UserWarning: <ObstacleExtraInfoFinder/run> pedestrian_collision.xosc failed with 'NoneType' object has no attribute 'tag'\n",
      "  warnings.warn(f\"<ObstacleExtraInfoFinder/run> {path.basename(self.scenario_path)} failed with {str(e)}\")\n",
      " 23%|██▎       | 153/676 [00:46<02:02,  4.27it/s]"
     ]
    },
    {
     "name": "stdout",
     "output_type": "stream",
     "text": [
      "Hallo: {'file_header': {'author': 'Sebastian Maierhofer', 'affiliation': 'Technical University of Munich', 'source': 'CommonRoad Scenario Designer', 'time_step_size': 0.1}, 'plane_conversion': {'error_tolerance': 0.15, 'min_delta_s': 0.5, 'precision': 0.5}}\n"
     ]
    },
    {
     "name": "stderr",
     "output_type": "stream",
     "text": [
      "/home/yuanfei/commonroad2/openscenario2cr/OpenSCENARIO2CR/util/ObstacleExtraInfoFinder.py:48: UserWarning: <ObstacleExtraInfoFinder/run> pedestrian_traj_synch.xosc failed with could not convert string to float: '$EX0'\n",
      "  warnings.warn(f\"<ObstacleExtraInfoFinder/run> {path.basename(self.scenario_path)} failed with {str(e)}\")\n",
      " 23%|██▎       | 154/676 [00:46<01:49,  4.76it/s]/home/yuanfei/commonroad2/openscenario2cr/OpenSCENARIO2CR/util/ObstacleExtraInfoFinder.py:48: UserWarning: <ObstacleExtraInfoFinder/run> slow-lead-vehicle.xosc failed with 'value'\n",
      "  warnings.warn(f\"<ObstacleExtraInfoFinder/run> {path.basename(self.scenario_path)} failed with {str(e)}\")\n"
     ]
    },
    {
     "name": "stdout",
     "output_type": "stream",
     "text": [
      "Hallo: {'file_header': {'author': 'Sebastian Maierhofer', 'affiliation': 'Technical University of Munich', 'source': 'CommonRoad Scenario Designer', 'time_step_size': 0.1}, 'plane_conversion': {'error_tolerance': 0.15, 'min_delta_s': 0.5, 'precision': 0.5}}\n",
      "Hallo: {'file_header': {'author': 'Sebastian Maierhofer', 'affiliation': 'Technical University of Munich', 'source': 'CommonRoad Scenario Designer', 'time_step_size': 0.1}, 'plane_conversion': {'error_tolerance': 0.15, 'min_delta_s': 0.5, 'precision': 0.5}}\n"
     ]
    },
    {
     "name": "stderr",
     "output_type": "stream",
     "text": [
      "/home/yuanfei/commonroad2/commonroad-scenario-designer/crdesigner/map_conversion/opendrive/opendrive_conversion/plane_elements/traffic_signals.py:45: UserWarning: OpenDRIVE/traffic_signals.py: Unknown TrafficSignIDZamunda of ID -1 of subtype -1!\n",
      "  warnings.warn(\"OpenDRIVE/traffic_signals.py: Unknown {}\"\n",
      "/home/yuanfei/commonroad2/openscenario2cr/OpenSCENARIO2CR/util/ObstacleExtraInfoFinder.py:48: UserWarning: <ObstacleExtraInfoFinder/run> speed-profile.xosc failed with ('element ', <Element 'PrivateAction' at 0x7fe310c05860>, 'is not a valid PrivateAction')\n",
      "  warnings.warn(f\"<ObstacleExtraInfoFinder/run> {path.basename(self.scenario_path)} failed with {str(e)}\")\n",
      "/home/yuanfei/commonroad2/openscenario2cr/OpenSCENARIO2CR/util/ObstacleExtraInfoFinder.py:48: UserWarning: <ObstacleExtraInfoFinder/run> straight_500m.xosc failed with 'NoneType' object has no attribute 'attrib'\n",
      "  warnings.warn(f\"<ObstacleExtraInfoFinder/run> {path.basename(self.scenario_path)} failed with {str(e)}\")\n"
     ]
    },
    {
     "name": "stdout",
     "output_type": "stream",
     "text": [
      "Hallo: {'file_header': {'author': 'Sebastian Maierhofer', 'affiliation': 'Technical University of Munich', 'source': 'CommonRoad Scenario Designer', 'time_step_size': 0.1}, 'plane_conversion': {'error_tolerance': 0.15, 'min_delta_s': 0.5, 'precision': 0.5}}\n",
      "Hallo: {'file_header': {'author': 'Sebastian Maierhofer', 'affiliation': 'Technical University of Munich', 'source': 'CommonRoad Scenario Designer', 'time_step_size': 0.1}, 'plane_conversion': {'error_tolerance': 0.15, 'min_delta_s': 0.5, 'precision': 0.5}}\n"
     ]
    },
    {
     "name": "stderr",
     "output_type": "stream",
     "text": [
      "/home/yuanfei/commonroad2/commonroad-scenario-designer/crdesigner/map_conversion/opendrive/opendrive_conversion/plane_elements/traffic_signals.py:45: UserWarning: OpenDRIVE/traffic_signals.py: Unknown TrafficSignIDZamunda of ID -1 of subtype -1!\n",
      "  warnings.warn(\"OpenDRIVE/traffic_signals.py: Unknown {}\"\n",
      "/home/yuanfei/commonroad2/openscenario2cr/OpenSCENARIO2CR/util/ObstacleExtraInfoFinder.py:48: UserWarning: <ObstacleExtraInfoFinder/run> straight_500m_pedestrian.xosc failed with 'NoneType' object has no attribute 'attrib'\n",
      "  warnings.warn(f\"<ObstacleExtraInfoFinder/run> {path.basename(self.scenario_path)} failed with {str(e)}\")\n",
      "/home/yuanfei/commonroad2/openscenario2cr/OpenSCENARIO2CR/util/ObstacleExtraInfoFinder.py:48: UserWarning: <ObstacleExtraInfoFinder/run> routing-test.xosc failed with 'NoneType' object has no attribute 'tag'\n",
      "  warnings.warn(f\"<ObstacleExtraInfoFinder/run> {path.basename(self.scenario_path)} failed with {str(e)}\")\n",
      " 23%|██▎       | 155/676 [00:47<03:38,  2.39it/s]"
     ]
    },
    {
     "name": "stdout",
     "output_type": "stream",
     "text": [
      "Hallo: {'file_header': {'author': 'Sebastian Maierhofer', 'affiliation': 'Technical University of Munich', 'source': 'CommonRoad Scenario Designer', 'time_step_size': 0.1}, 'plane_conversion': {'error_tolerance': 0.15, 'min_delta_s': 0.5, 'precision': 0.5}}\n"
     ]
    },
    {
     "name": "stderr",
     "output_type": "stream",
     "text": [
      "/home/yuanfei/anaconda3/envs/commonroad-py39/lib/python3.9/site-packages/commonroad/scenario/lanelet.py:611: UserWarning: <Lanelet/stop_line>: stop_line of lanelet is immutable!\n",
      "  warnings.warn('<Lanelet/stop_line>: stop_line of lanelet is immutable!', stacklevel=1)\n",
      "/home/yuanfei/commonroad2/openscenario2cr/OpenSCENARIO2CR/util/ObstacleExtraInfoFinder.py:48: UserWarning: <ObstacleExtraInfoFinder/run> swarm.xosc failed with 'offset'\n",
      "  warnings.warn(f\"<ObstacleExtraInfoFinder/run> {path.basename(self.scenario_path)} failed with {str(e)}\")\n",
      "/home/yuanfei/anaconda3/envs/commonroad-py39/lib/python3.9/site-packages/commonroad/scenario/lanelet.py:611: UserWarning: <Lanelet/stop_line>: stop_line of lanelet is immutable!\n",
      "  warnings.warn('<Lanelet/stop_line>: stop_line of lanelet is immutable!', stacklevel=1)\n",
      "/home/yuanfei/anaconda3/envs/commonroad-py39/lib/python3.9/site-packages/commonroad/scenario/lanelet.py:611: UserWarning: <Lanelet/stop_line>: stop_line of lanelet is immutable!\n",
      "  warnings.warn('<Lanelet/stop_line>: stop_line of lanelet is immutable!', stacklevel=1)\n",
      "/home/yuanfei/commonroad2/openscenario2cr/OpenSCENARIO2CR/util/ObstacleExtraInfoFinder.py:48: UserWarning: <ObstacleExtraInfoFinder/run> synchronize.xosc failed with 'NoneType' object has no attribute 'tag'\n",
      "  warnings.warn(f\"<ObstacleExtraInfoFinder/run> {path.basename(self.scenario_path)} failed with {str(e)}\")\n"
     ]
    },
    {
     "name": "stdout",
     "output_type": "stream",
     "text": [
      "Hallo: {'file_header': {'author': 'Sebastian Maierhofer', 'affiliation': 'Technical University of Munich', 'source': 'CommonRoad Scenario Designer', 'time_step_size': 0.1}, 'plane_conversion': {'error_tolerance': 0.15, 'min_delta_s': 0.5, 'precision': 0.5}}\n"
     ]
    },
    {
     "name": "stderr",
     "output_type": "stream",
     "text": [
      " 24%|██▎       | 159/676 [02:01<06:35,  1.31it/s]/home/yuanfei/commonroad2/openscenario2cr/OpenSCENARIO2CR/Osc2CrConverter.py:180: UserWarning: <OpenSCENARIO2CRConverter/_create_scenario> File /home/yuanfei/Downloads/MichaelRatzel_GuidedResearch_2022/MichaelRatzel/software_data/scenarios/esmini/test/OSC-ALKS-scenarios/Scenarios/$Road does not exist\n",
      "  warnings.warn(\n",
      "/home/yuanfei/commonroad2/openscenario2cr/OpenSCENARIO2CR/Osc2CrConverter.py:180: UserWarning: <OpenSCENARIO2CRConverter/_create_scenario> File /home/yuanfei/Downloads/MichaelRatzel_GuidedResearch_2022/MichaelRatzel/software_data/scenarios/esmini/test/OSC-ALKS-scenarios/Scenarios/$Road does not exist\n",
      "  warnings.warn(\n",
      "/home/yuanfei/commonroad2/openscenario2cr/OpenSCENARIO2CR/Osc2CrConverter.py:180: UserWarning: <OpenSCENARIO2CRConverter/_create_scenario> File /home/yuanfei/Downloads/MichaelRatzel_GuidedResearch_2022/MichaelRatzel/software_data/scenarios/esmini/test/OSC-ALKS-scenarios/Scenarios/$Road does not exist\n",
      "  warnings.warn(\n"
     ]
    },
    {
     "name": "stdout",
     "output_type": "stream",
     "text": [
      "Hallo: {'file_header': {'author': 'Sebastian Maierhofer', 'affiliation': 'Technical University of Munich', 'source': 'CommonRoad Scenario Designer', 'time_step_size': 0.1}, 'plane_conversion': {'error_tolerance': 0.15, 'min_delta_s': 0.5, 'precision': 0.5}}"
     ]
    },
    {
     "name": "stderr",
     "output_type": "stream",
     "text": [
      "/home/yuanfei/commonroad2/openscenario2cr/OpenSCENARIO2CR/Osc2CrConverter.py:180: UserWarning: <OpenSCENARIO2CRConverter/_create_scenario> File /home/yuanfei/Downloads/MichaelRatzel_GuidedResearch_2022/MichaelRatzel/software_data/scenarios/esmini/test/OSC-ALKS-scenarios/Scenarios/$Road does not exist\n",
      "  warnings.warn(\n",
      "/home/yuanfei/commonroad2/openscenario2cr/OpenSCENARIO2CR/Osc2CrConverter.py:180: UserWarning: <OpenSCENARIO2CRConverter/_create_scenario> File /home/yuanfei/Downloads/MichaelRatzel_GuidedResearch_2022/MichaelRatzel/software_data/scenarios/esmini/test/OSC-ALKS-scenarios/Scenarios/$Road does not exist\n",
      "  warnings.warn(\n",
      "/home/yuanfei/commonroad2/openscenario2cr/OpenSCENARIO2CR/Osc2CrConverter.py:180: UserWarning: <OpenSCENARIO2CRConverter/_create_scenario> File /home/yuanfei/Downloads/MichaelRatzel_GuidedResearch_2022/MichaelRatzel/software_data/scenarios/esmini/test/OSC-ALKS-scenarios/Scenarios/$Road does not exist\n",
      "  warnings.warn(\n"
     ]
    },
    {
     "name": "stdout",
     "output_type": "stream",
     "text": [
      "\n"
     ]
    },
    {
     "name": "stderr",
     "output_type": "stream",
     "text": [
      "/home/yuanfei/commonroad2/openscenario2cr/OpenSCENARIO2CR/Osc2CrConverter.py:180: UserWarning: <OpenSCENARIO2CRConverter/_create_scenario> File /home/yuanfei/Downloads/MichaelRatzel_GuidedResearch_2022/MichaelRatzel/software_data/scenarios/esmini/test/OSC-ALKS-scenarios/Scenarios/$Road does not exist\n",
      "  warnings.warn(\n",
      "\n",
      "/home/yuanfei/commonroad2/openscenario2cr/OpenSCENARIO2CR/Osc2CrConverter.py:150: UserWarning: <Osc2CrConverter/_pre_parse_scenario> ALKS_Scenario_4.1_1_FreeDriving_Variation.xosc contains no source file, but references another OpenSCENARIO file: \"/home/yuanfei/Downloads/MichaelRatzel_GuidedResearch_2022/MichaelRatzel/software_data/scenarios/esmini/test/OSC-ALKS-scenarios/Variations/../Scenarios/ALKS_Scenario_4.1_1_FreeDriving_TEMPLATE.xosc\"\n",
      "  warnings.warn(\n"
     ]
    },
    {
     "name": "stdout",
     "output_type": "stream",
     "text": [
      "Hallo: {'file_header': {'author': 'Sebastian Maierhofer', 'affiliation': 'Technical University of Munich', 'source': 'CommonRoad Scenario Designer', 'time_step_size': 0.1}, 'plane_conversion': {'error_tolerance': 0.15, 'min_delta_s': 0.5, 'precision': 0.5}}"
     ]
    },
    {
     "name": "stderr",
     "output_type": "stream",
     "text": [
      "/home/yuanfei/commonroad2/openscenario2cr/OpenSCENARIO2CR/Osc2CrConverter.py:150: UserWarning: <Osc2CrConverter/_pre_parse_scenario> ALKS_Scenario_4.1_2_SwervingLeadVehicle_Variation.xosc contains no source file, but references another OpenSCENARIO file: \"/home/yuanfei/Downloads/MichaelRatzel_GuidedResearch_2022/MichaelRatzel/software_data/scenarios/esmini/test/OSC-ALKS-scenarios/Variations/../Scenarios/ALKS_Scenario_4.1_2_SwervingLeadVehicle_TEMPLATE.xosc\"\n",
      "  warnings.warn(\n"
     ]
    },
    {
     "name": "stdout",
     "output_type": "stream",
     "text": [
      "Hallo: {'file_header': {'author': 'Sebastian Maierhofer', 'affiliation': 'Technical University of Munich', 'source': 'CommonRoad Scenario Designer', 'time_step_size': 0.1}, 'plane_conversion': {'error_tolerance': 0.15, 'min_delta_s': 0.5, 'precision': 0.5}}Hallo: {'file_header': {'author': 'Sebastian Maierhofer', 'affiliation': 'Technical University of Munich', 'source': 'CommonRoad Scenario Designer', 'time_step_size': 0.1}, 'plane_conversion': {'error_tolerance': 0.15, 'min_delta_s': 0.5, 'precision': 0.5}}\n",
      "\n",
      "Hallo: {'file_header': {'author': 'Sebastian Maierhofer', 'affiliation': 'Technical University of Munich', 'source': 'CommonRoad Scenario Designer', 'time_step_size': 0.1}, 'plane_conversion': {'error_tolerance': 0.15, 'min_delta_s': 0.5, 'precision': 0.5}}"
     ]
    },
    {
     "name": "stderr",
     "output_type": "stream",
     "text": [
      "/home/yuanfei/commonroad2/openscenario2cr/OpenSCENARIO2CR/Osc2CrConverter.py:150: UserWarning: <Osc2CrConverter/_pre_parse_scenario> ALKS_Scenario_4.1_3_SideVehicle_Variation.xosc contains no source file, but references another OpenSCENARIO file: \"/home/yuanfei/Downloads/MichaelRatzel_GuidedResearch_2022/MichaelRatzel/software_data/scenarios/esmini/test/OSC-ALKS-scenarios/Variations/../Scenarios/ALKS_Scenario_4.1_3_SideVehicle_TEMPLATE.xosc\"\n",
      "  warnings.warn(\n"
     ]
    },
    {
     "name": "stdout",
     "output_type": "stream",
     "text": [
      "\n",
      "\n",
      "Hallo: {'file_header': {'author': 'Sebastian Maierhofer', 'affiliation': 'Technical University of Munich', 'source': 'CommonRoad Scenario Designer', 'time_step_size': 0.1}, 'plane_conversion': {'error_tolerance': 0.15, 'min_delta_s': 0.5, 'precision': 0.5}}Hallo: {'file_header': {'author': 'Sebastian Maierhofer', 'affiliation': 'Technical University of Munich', 'source': 'CommonRoad Scenario Designer', 'time_step_size': 0.1}, 'plane_conversion': {'error_tolerance': 0.15, 'min_delta_s': 0.5, 'precision': 0.5}}\n"
     ]
    },
    {
     "name": "stderr",
     "output_type": "stream",
     "text": [
      "/home/yuanfei/commonroad2/openscenario2cr/OpenSCENARIO2CR/Osc2CrConverter.py:150: UserWarning: <Osc2CrConverter/_pre_parse_scenario> ALKS_Scenario_4.2_1_FullyBlockingTarget_Variation.xosc contains no source file, but references another OpenSCENARIO file: \"/home/yuanfei/Downloads/MichaelRatzel_GuidedResearch_2022/MichaelRatzel/software_data/scenarios/esmini/test/OSC-ALKS-scenarios/Variations/../Scenarios/ALKS_Scenario_4.2_1_FullyBlockingTarget_TEMPLATE.xosc\"\n",
      "  warnings.warn(\n",
      "/home/yuanfei/commonroad2/openscenario2cr/OpenSCENARIO2CR/Osc2CrConverter.py:150: UserWarning: <Osc2CrConverter/_pre_parse_scenario> ALKS_Scenario_4.2_2_PartiallyBlockingTarget_Variation.xosc contains no source file, but references another OpenSCENARIO file: \"/home/yuanfei/Downloads/MichaelRatzel_GuidedResearch_2022/MichaelRatzel/software_data/scenarios/esmini/test/OSC-ALKS-scenarios/Variations/../Scenarios/ALKS_Scenario_4.2_2_PartiallyBlockingTarget_TEMPLATE.xosc\"\n",
      "  warnings.warn(\n"
     ]
    },
    {
     "name": "stdout",
     "output_type": "stream",
     "text": [
      "\n"
     ]
    },
    {
     "name": "stderr",
     "output_type": "stream",
     "text": [
      "/home/yuanfei/commonroad2/openscenario2cr/OpenSCENARIO2CR/Osc2CrConverter.py:150: UserWarning: <Osc2CrConverter/_pre_parse_scenario> ALKS_Scenario_4.2_3_CrossingPedestrian_Variation.xosc contains no source file, but references another OpenSCENARIO file: \"/home/yuanfei/Downloads/MichaelRatzel_GuidedResearch_2022/MichaelRatzel/software_data/scenarios/esmini/test/OSC-ALKS-scenarios/Variations/../Scenarios/ALKS_Scenario_4.2_3_CrossingPedestrian_TEMPLATE.xosc\"\n",
      "  warnings.warn(\n",
      "/home/yuanfei/commonroad2/openscenario2cr/OpenSCENARIO2CR/Osc2CrConverter.py:150: UserWarning: <Osc2CrConverter/_pre_parse_scenario> ALKS_Scenario_4.2_4_MultipleBlockingTargets_Variation.xosc contains no source file, but references another OpenSCENARIO file: \"/home/yuanfei/Downloads/MichaelRatzel_GuidedResearch_2022/MichaelRatzel/software_data/scenarios/esmini/test/OSC-ALKS-scenarios/Variations/../Scenarios/ALKS_Scenario_4.2_4_MultipleBlockingTargets_TEMPLATE.xosc\"\n",
      "  warnings.warn(\n",
      "/home/yuanfei/commonroad2/openscenario2cr/OpenSCENARIO2CR/Osc2CrConverter.py:150: UserWarning: <Osc2CrConverter/_pre_parse_scenario> ALKS_Scenario_4.3_1_FollowLeadVehicleComfortable_Variation.xosc contains no source file, but references another OpenSCENARIO file: \"/home/yuanfei/Downloads/MichaelRatzel_GuidedResearch_2022/MichaelRatzel/software_data/scenarios/esmini/test/OSC-ALKS-scenarios/Variations/../Scenarios/ALKS_Scenario_4.3_1_FollowLeadVehicleComfortable_TEMPLATE.xosc\"\n",
      "  warnings.warn(\n",
      "/home/yuanfei/commonroad2/openscenario2cr/OpenSCENARIO2CR/Osc2CrConverter.py:150: UserWarning: <Osc2CrConverter/_pre_parse_scenario> ALKS_Scenario_4.3_2_FollowLeadVehicleEmergencyBrake_Variation.xosc contains no source file, but references another OpenSCENARIO file: \"/home/yuanfei/Downloads/MichaelRatzel_GuidedResearch_2022/MichaelRatzel/software_data/scenarios/esmini/test/OSC-ALKS-scenarios/Variations/../Scenarios/ALKS_Scenario_4.3_2_FollowLeadVehicleEmergencyBrake_TEMPLATE.xosc\"\n",
      "  warnings.warn(\n",
      "/home/yuanfei/commonroad2/openscenario2cr/OpenSCENARIO2CR/Osc2CrConverter.py:150: UserWarning: <Osc2CrConverter/_pre_parse_scenario> ALKS_Scenario_4.3_2_FollowLeadVehicleEmergencyBrake_Variation_Reference.xosc contains no source file, but references another OpenSCENARIO file: \"/home/yuanfei/Downloads/MichaelRatzel_GuidedResearch_2022/MichaelRatzel/software_data/scenarios/esmini/test/OSC-ALKS-scenarios/Variations/../Scenarios/ALKS_Scenario_4.3_2_FollowLeadVehicleEmergencyBrake_TEMPLATE.xosc\"\n",
      "  warnings.warn(\n",
      "/home/yuanfei/commonroad2/openscenario2cr/OpenSCENARIO2CR/Osc2CrConverter.py:150: UserWarning: <Osc2CrConverter/_pre_parse_scenario> ALKS_Scenario_4.4_1_CutInNoCollision_Variation.xosc contains no source file, but references another OpenSCENARIO file: \"/home/yuanfei/Downloads/MichaelRatzel_GuidedResearch_2022/MichaelRatzel/software_data/scenarios/esmini/test/OSC-ALKS-scenarios/Variations/../Scenarios/ALKS_Scenario_4.4_1_CutInNoCollision_TEMPLATE.xosc\"\n",
      "  warnings.warn(\n",
      "/home/yuanfei/commonroad2/openscenario2cr/OpenSCENARIO2CR/Osc2CrConverter.py:150: UserWarning: <Osc2CrConverter/_pre_parse_scenario> ALKS_Scenario_4.5_1_CutOutFullyBlocking_Variation.xosc contains no source file, but references another OpenSCENARIO file: \"/home/yuanfei/Downloads/MichaelRatzel_GuidedResearch_2022/MichaelRatzel/software_data/scenarios/esmini/test/OSC-ALKS-scenarios/Variations/../Scenarios/ALKS_Scenario_4.5_1_CutOutFullyBlocking_TEMPLATE.xosc\"\n",
      "  warnings.warn(\n",
      "/home/yuanfei/commonroad2/openscenario2cr/OpenSCENARIO2CR/Osc2CrConverter.py:150: UserWarning: <Osc2CrConverter/_pre_parse_scenario> ALKS_Scenario_4.5_2_CutOutMultipleBlockingTargets_Variation.xosc contains no source file, but references another OpenSCENARIO file: \"/home/yuanfei/Downloads/MichaelRatzel_GuidedResearch_2022/MichaelRatzel/software_data/scenarios/esmini/test/OSC-ALKS-scenarios/Variations/../Scenarios/ALKS_Scenario_4.5_2_CutOutMultipleBlockingTargets_TEMPLATE.xosc\"\n",
      "  warnings.warn(\n",
      "/home/yuanfei/commonroad2/openscenario2cr/OpenSCENARIO2CR/Osc2CrConverter.py:150: UserWarning: <Osc2CrConverter/_pre_parse_scenario> ALKS_Scenario_4.6_1_ForwardDetectionRange_Variation.xosc contains no source file, but references another OpenSCENARIO file: \"/home/yuanfei/Downloads/MichaelRatzel_GuidedResearch_2022/MichaelRatzel/software_data/scenarios/esmini/test/OSC-ALKS-scenarios/Variations/../Scenarios/ALKS_Scenario_4.6_1_ForwardDetectionRange_TEMPLATE.xosc\"\n",
      "  warnings.warn(\n",
      "/home/yuanfei/commonroad2/openscenario2cr/OpenSCENARIO2CR/Osc2CrConverter.py:150: UserWarning: <Osc2CrConverter/_pre_parse_scenario> ALKS_Scenario_4.6_2_LateralDetectionRange_Variation.xosc contains no source file, but references another OpenSCENARIO file: \"/home/yuanfei/Downloads/MichaelRatzel_GuidedResearch_2022/MichaelRatzel/software_data/scenarios/esmini/test/OSC-ALKS-scenarios/Variations/../Scenarios/ALKS_Scenario_4.6_2_LateralDetectionRange_TEMPLATE.xosc\"\n",
      "  warnings.warn(\n",
      "/home/yuanfei/commonroad2/openscenario2cr/OpenSCENARIO2CR/Osc2CrConverter.py:180: UserWarning: <OpenSCENARIO2CRConverter/_create_scenario> File /home/yuanfei/Downloads/MichaelRatzel_GuidedResearch_2022/MichaelRatzel/software_data/scenarios/openscenario-v1.1.1/Examples/$Road_Logics does not exist\n",
      "  warnings.warn(\n",
      "/home/yuanfei/commonroad2/openscenario2cr/OpenSCENARIO2CR/Osc2CrConverter.py:180: UserWarning: <OpenSCENARIO2CRConverter/_create_scenario> File /home/yuanfei/Downloads/MichaelRatzel_GuidedResearch_2022/MichaelRatzel/software_data/scenarios/openscenario-v1.1.1/Examples/$Road_Logics does not exist\n",
      "  warnings.warn(\n",
      "/home/yuanfei/commonroad2/openscenario2cr/OpenSCENARIO2CR/Osc2CrConverter.py:150: UserWarning: <Osc2CrConverter/_pre_parse_scenario> EndOfTrafficJamParameterSet.xosc contains no source file, but references another OpenSCENARIO file: \"/home/yuanfei/Downloads/MichaelRatzel_GuidedResearch_2022/MichaelRatzel/software_data/scenarios/openscenario-v1.1.1/Examples/EndOfTrafficJam.xosc\"\n",
      "  warnings.warn(\n",
      "\n",
      "KeyboardInterrupt\n",
      "\n"
     ]
    }
   ],
   "source": [
    "storage_dir = \"results/{}\".format(datetime.now().isoformat(sep=\"_\", timespec=\"seconds\"))\n",
    "os.makedirs(storage_dir, exist_ok=True)\n",
    "Serializable.storage_dir = storage_dir\n",
    "\n",
    "batch_converter.run_batch_conversion(num_worker=0)"
   ]
  },
  {
   "cell_type": "code",
   "execution_count": null,
   "metadata": {},
   "outputs": [],
   "source": [
    "print(f\"Finished and stored results in {path.abspath(storage_dir)}\")"
   ]
  },
  {
   "cell_type": "code",
   "execution_count": null,
   "outputs": [],
   "source": [],
   "metadata": {
    "collapsed": false
   }
  }
 ],
 "metadata": {
  "kernelspec": {
   "name": "commonroad-py39",
   "language": "python",
   "display_name": "Python commonroad-py39"
  },
  "language_info": {
   "codemirror_mode": {
    "name": "ipython",
    "version": 3
   },
   "file_extension": ".py",
   "mimetype": "text/x-python",
   "name": "python",
   "nbconvert_exporter": "python",
   "pygments_lexer": "ipython3",
   "version": "3.9.13"
  }
 },
 "nbformat": 4,
 "nbformat_minor": 1
}
