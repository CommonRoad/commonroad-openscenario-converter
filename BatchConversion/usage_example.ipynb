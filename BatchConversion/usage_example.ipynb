{
 "cells": [
  {
   "cell_type": "code",
   "execution_count": null,
   "outputs": [],
   "source": [
    "import os\n",
    "import re\n",
    "from datetime import datetime\n",
    "from os import path\n",
    "from typing import List, Dict\n",
    "\n",
    "from commonroad.common.util import Interval, AngleInterval\n",
    "\n",
    "from BatchConversion.BatchConverter import BatchConverter, BatchConversionResult\n",
    "from OpenSCENARIO2CR.AbsRel import AbsRel\n",
    "from OpenSCENARIO2CR.ConversionStatistics import EAnalyzer\n",
    "from OpenSCENARIO2CR.EsminiWrapper.StoryBoardElement import EStoryBoardElementType\n",
    "from OpenSCENARIO2CR.Osc2CrConverter import Osc2CrConverter, EFailureReason"
   ],
   "metadata": {
    "collapsed": false,
    "pycharm": {
     "name": "#%%\n"
    }
   }
  },
  {
   "cell_type": "code",
   "execution_count": null,
   "outputs": [],
   "source": [
    "from os.path import expanduser\n",
    "\n",
    "batch_converter = BatchConverter(\n",
    "    converter_class=Osc2CrConverter,\n",
    "\n",
    "    delta_t=0.1,\n",
    "    goal_state_position_width=5,\n",
    "    goal_state_position_length=25,\n",
    "    goal_state_position_use_ego_rotation=True,\n",
    "    goal_state_time_step=AbsRel[Interval](Interval(-5, 0), is_absolute=False),\n",
    "    goal_state_orientation=AbsRel[AngleInterval](AngleInterval(-0.8, 0.8), is_absolute=False),\n",
    "\n",
    "    keep_ego_vehicle=True,\n",
    "    do_run_cr_monitor=True,\n",
    "    do_trim_scenario=False,\n",
    "\n",
    "    ego_filter=re.compile(r\".*ego.*\", re.IGNORECASE),\n",
    "\n",
    "    use_implicit_odr_file=True,\n",
    "\n",
    "    max_time=120.0,\n",
    "    grace_time=1.0,\n",
    "    ignored_level=EStoryBoardElementType.ACT,\n",
    "    log_to_console=False,\n",
    "    log_to_file=False,\n",
    "\n",
    "    analyzers=[EAnalyzer.STL_MONITOR, EAnalyzer.DRIVE_ABILITY_CHECKER]\n",
    ")\n",
    "\n",
    "batch_converter.discover_files(expanduser(\"~\"), re.compile(r\".*\\.xosc\", re.IGNORECASE), recursively=True)"
   ],
   "metadata": {
    "collapsed": false,
    "pycharm": {
     "name": "#%%\n"
    }
   }
  },
  {
   "cell_type": "code",
   "execution_count": null,
   "outputs": [],
   "source": [
    "time_conversion_started = datetime.now()\n",
    "results: Dict[str, BatchConversionResult] = batch_converter.run_batch_conversion(num_worker=None)\n",
    "time_conversion_finished = datetime.now()"
   ],
   "metadata": {
    "collapsed": false,
    "pycharm": {
     "name": "#%%\n"
    }
   }
  },
  {
   "cell_type": "code",
   "execution_count": null,
   "outputs": [],
   "source": [
    "from commonroad.scenario.scenario import Tag\n",
    "from commonroad.common.file_writer import CommonRoadFileWriter, OverwriteExistingFile\n",
    "import yaml\n",
    "\n",
    "storage_path = \"results/{}\".format(time_conversion_finished.isoformat(sep=\"_\", timespec=\"seconds\"))\n",
    "store = True\n",
    "\n",
    "if store:\n",
    "    if not path.exists(storage_path):\n",
    "        os.mkdir(storage_path)\n",
    "    statistics_dict = {}\n",
    "    written_scenarios: List[str] = []\n",
    "    for scenario_path, result in results.items():\n",
    "        basename = path.basename(scenario_path)\n",
    "        path_no_extension = path.join(storage_path, path.splitext(basename)[0])\n",
    "        if path_no_extension in written_scenarios:\n",
    "            i = 1\n",
    "            while True:\n",
    "                if (new_path := path_no_extension + f\"-{i}\") not in written_scenarios:\n",
    "                    path_no_extension = new_path\n",
    "                    break\n",
    "                else:\n",
    "                    i += 1\n",
    "        written_scenarios.append(path_no_extension)\n",
    "\n",
    "        if result.without_exception:\n",
    "            if isinstance(result.conversion_result, EFailureReason):\n",
    "                statistics_dict[path_no_extension] = (\"failure\", result.conversion_result.name)\n",
    "            else:\n",
    "                scenario, planning_problem_set, statistics = result.conversion_result\n",
    "                statistics_dict[path_no_extension] = (\"success\", statistics.to_dict())\n",
    "                CommonRoadFileWriter(\n",
    "                    scenario=scenario,\n",
    "                    planning_problem_set=planning_problem_set,\n",
    "                    author=\"ADD AUTHOR HERE\",\n",
    "                    affiliation=\"ADD AFFILIATION HERE\",\n",
    "                    source=\"ADD SOURCE HERE\",\n",
    "                    tags={Tag.SIMULATED},\n",
    "                ).write_to_file(path_no_extension + \".xml\", OverwriteExistingFile.ALWAYS)\n",
    "        else:\n",
    "            statistics_dict[path_no_extension] = (\"error\", result.exception_text, result.traceback)\n",
    "\n",
    "    with open(path.join(storage_path, \"statistics.yml\"), \"w\") as file:\n",
    "        yaml.safe_dump(statistics_dict, file)\n"
   ],
   "metadata": {
    "collapsed": false,
    "pycharm": {
     "name": "#%%\n"
    }
   }
  },
  {
   "cell_type": "code",
   "execution_count": null,
   "outputs": [],
   "source": [
    "\n",
    "from OpenSCENARIO2CR.ConversionAnalyzer.ErrorAnalysisResult import ErrorAnalysisResult\n",
    "\n",
    "errors: Dict[ErrorAnalysisResult, int] = {}\n",
    "for result in results.values():\n",
    "    if result.without_exception:\n",
    "        if not isinstance(result.conversion_result, EFailureReason):\n",
    "            scenario, planning_problem_set, statistics = result.conversion_result\n",
    "            for analysis_type, analysis_result in statistics.analysis.items():\n",
    "                for vehicle_name, vehicle_result in analysis_result.items():\n",
    "                    if isinstance(vehicle_result, ErrorAnalysisResult):\n",
    "                        if vehicle_result in errors:\n",
    "                            errors[vehicle_result] += 1\n",
    "                        else:\n",
    "                            errors[vehicle_result] = 1\n",
    "\n",
    "for error, count in errors.items():\n",
    "    print(f\"{count}\\n{error.traceback_text}\")\n",
    "    print(\"\\n\" * 3)"
   ],
   "metadata": {
    "collapsed": false,
    "pycharm": {
     "name": "#%%\n"
    }
   }
  }
 ],
 "metadata": {
  "kernelspec": {
   "display_name": "Python 3",
   "language": "python",
   "name": "python3"
  },
  "language_info": {
   "codemirror_mode": {
    "name": "ipython",
    "version": 2
   },
   "file_extension": ".py",
   "mimetype": "text/x-python",
   "name": "python",
   "nbconvert_exporter": "python",
   "pygments_lexer": "ipython2",
   "version": "2.7.6"
  }
 },
 "nbformat": 4,
 "nbformat_minor": 0
}