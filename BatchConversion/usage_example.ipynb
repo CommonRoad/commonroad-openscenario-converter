{
 "cells": [
  {
   "cell_type": "code",
   "execution_count": 2,
   "outputs": [],
   "source": [
    "import os\n",
    "import re\n",
    "from datetime import datetime\n",
    "from os import path\n",
    "from typing import List, Dict\n",
    "\n",
    "from commonroad.common.util import Interval, AngleInterval\n",
    "\n",
    "from BatchConversion.BatchConverter import BatchConverter, BatchConversionResult\n",
    "from OpenSCENARIO2CR.OpenSCENARIOWrapper.Esmini.EsminiWrapperProvider import EsminiWrapperProvider\n",
    "from OpenSCENARIO2CR.OpenSCENARIOWrapper.Esmini.StoryBoardElement import EStoryBoardElementType\n",
    "from OpenSCENARIO2CR.Osc2CrConverter import Osc2CrConverter, EFailureReason\n",
    "from OpenSCENARIO2CR.util.AbsRel import AbsRel\n",
    "from OpenSCENARIO2CR.util.ConversionStatistics import EAnalyzer"
   ],
   "metadata": {
    "collapsed": false
   }
  },
  {
   "cell_type": "code",
   "execution_count": 3,
   "outputs": [],
   "source": [
    "from os.path import expanduser\n",
    "\n",
    "esmini_wrapper = EsminiWrapperProvider(preferred_version=\"v2.26.5\").provide_esmini_wrapper()\n",
    "esmini_wrapper.max_time = 120.0\n",
    "esmini_wrapper.grace_time = 1.0\n",
    "esmini_wrapper.ignored_level = EStoryBoardElementType.ACT\n",
    "esmini_wrapper.log_to_console = False\n",
    "esmini_wrapper.log_to_file = False\n",
    "\n",
    "batch_converter = BatchConverter(\n",
    "    converter_class=Osc2CrConverter,\n",
    "    sim_wrapper=esmini_wrapper,\n",
    "\n",
    "    delta_t=0.1,\n",
    "    goal_state_position_width=5,\n",
    "    goal_state_position_length=25,\n",
    "    goal_state_position_use_ego_rotation=True,\n",
    "    goal_state_time_step=AbsRel[Interval](Interval(-5, 0), is_absolute=False),\n",
    "    goal_state_orientation=AbsRel[AngleInterval](AngleInterval(-0.8, 0.8), is_absolute=False),\n",
    "\n",
    "    keep_ego_vehicle=True,\n",
    "    do_run_cr_monitor=True,\n",
    "    do_trim_scenario=False,\n",
    "\n",
    "    ego_filter=re.compile(r\".*ego.*\", re.IGNORECASE),\n",
    "\n",
    "    use_implicit_odr_file=True,\n",
    "\n",
    "    analyzers=[EAnalyzer.STL_MONITOR, EAnalyzer.DRIVABILITY_CHECKER]\n",
    ")\n",
    "\n",
    "batch_converter.discover_files(expanduser(\"~\"), re.compile(r\".*\\.xosc\", re.IGNORECASE), recursively=True)"
   ],
   "metadata": {
    "collapsed": false
   }
  },
  {
   "cell_type": "code",
   "execution_count": 4,
   "outputs": [
    {
     "name": "stderr",
     "output_type": "stream",
     "text": [
      "/home/michael/SoftwareProjects/CommonRoad/ASAM-Standards/openscenario-v1.2.0/Examples/CutIn.xosc:   2%|▏         | 4/161 [00:00<00:09, 16.98it/s]                          /home/michael/miniconda3/envs/commonroad2/lib/python3.9/site-packages/commonroad/scenario/lanelet.py:1279: ShapelyDeprecationWarning: STRtree will be changed in 2.0.0 and will not be compatible with versions < 2.\n",
      "  self._strtee = STRtree(list(self._buffered_polygons.values()))\n"
     ]
    },
    {
     "name": "stdout",
     "output_type": "stream",
     "text": [
      "Hallo: {'plane_conversion': {'error_tolerance': 0.15, 'min_delta_s': 0.5, 'precision': 0.5}, 'file_header': {'author': 'Sebastian Maierhofer', 'affiliation': 'Technical University of Munich', 'source': 'CommonRoad Scenario Designer', 'time_step_size': 0.1}}\n"
     ]
    },
    {
     "name": "stderr",
     "output_type": "stream",
     "text": [
      "/home/michael/SoftwareProjects/CommonRoad/ASAM-Standards/openscenario-v1.2.0/Examples/DoubleLaneChanger.xosc:   2%|▏         | 4/161 [00:00<00:09, 16.98it/s]/home/michael/SoftwareProjects/CommonRoad/commonroad-scenario-designer/crdesigner/map_conversion/opendrive/opendrive_conversion/plane_elements/traffic_signals.py:45: UserWarning: OpenDRIVE/traffic_signals.py: Unknown TrafficSignIDZamunda of ID 605 of subtype 30!\n",
      "  warnings.warn(\"OpenDRIVE/traffic_signals.py: Unknown {}\"\n",
      "/home/michael/SoftwareProjects/CommonRoad/commonroad-scenario-designer/crdesigner/map_conversion/opendrive/opendrive_conversion/plane_elements/traffic_signals.py:45: UserWarning: OpenDRIVE/traffic_signals.py: Unknown TrafficSignIDZamunda of ID 334 of subtype -1!\n",
      "  warnings.warn(\"OpenDRIVE/traffic_signals.py: Unknown {}\"\n",
      "/home/michael/SoftwareProjects/CommonRoad/commonroad-scenario-designer/crdesigner/map_conversion/opendrive/opendrive_conversion/plane_elements/traffic_signals.py:45: UserWarning: OpenDRIVE/traffic_signals.py: Unknown TrafficSignIDZamunda of ID 330 of subtype -1!\n",
      "  warnings.warn(\"OpenDRIVE/traffic_signals.py: Unknown {}\"\n",
      "/home/michael/SoftwareProjects/CommonRoad/commonroad-scenario-designer/crdesigner/map_conversion/opendrive/opendrive_conversion/plane_elements/traffic_signals.py:45: UserWarning: OpenDRIVE/traffic_signals.py: Unknown TrafficSignIDZamunda of ID 222 of subtype -1!\n",
      "  warnings.warn(\"OpenDRIVE/traffic_signals.py: Unknown {}\"\n",
      "/home/michael/SoftwareProjects/CommonRoad/commonroad-scenario-designer/crdesigner/map_conversion/opendrive/opendrive_conversion/plane_elements/traffic_signals.py:45: UserWarning: OpenDRIVE/traffic_signals.py: Unknown TrafficSignIDZamunda of ID 436 of subtype -1!\n",
      "  warnings.warn(\"OpenDRIVE/traffic_signals.py: Unknown {}\"\n",
      "/home/michael/SoftwareProjects/CommonRoad/commonroad-scenario-designer/crdesigner/map_conversion/opendrive/opendrive_conversion/plane_elements/traffic_signals.py:45: UserWarning: OpenDRIVE/traffic_signals.py: Unknown TrafficSignIDZamunda of ID 452 of subtype -1!\n",
      "  warnings.warn(\"OpenDRIVE/traffic_signals.py: Unknown {}\"\n",
      "/home/michael/SoftwareProjects/CommonRoad/commonroad-scenario-designer/crdesigner/map_conversion/opendrive/opendrive_conversion/plane_elements/traffic_signals.py:45: UserWarning: OpenDRIVE/traffic_signals.py: Unknown TrafficSignIDZamunda of ID 451 of subtype -1!\n",
      "  warnings.warn(\"OpenDRIVE/traffic_signals.py: Unknown {}\"\n",
      "/home/michael/SoftwareProjects/CommonRoad/commonroad-scenario-designer/crdesigner/map_conversion/opendrive/opendrive_conversion/plane_elements/traffic_signals.py:45: UserWarning: OpenDRIVE/traffic_signals.py: Unknown TrafficSignIDZamunda of ID 406 of subtype -1!\n",
      "  warnings.warn(\"OpenDRIVE/traffic_signals.py: Unknown {}\"\n",
      "/home/michael/SoftwareProjects/CommonRoad/commonroad-scenario-designer/crdesigner/map_conversion/opendrive/opendrive_conversion/plane_elements/traffic_signals.py:45: UserWarning: OpenDRIVE/traffic_signals.py: Unknown TrafficSignIDZamunda of ID 450 of subtype -1!\n",
      "  warnings.warn(\"OpenDRIVE/traffic_signals.py: Unknown {}\"\n",
      "/home/michael/SoftwareProjects/CommonRoad/commonroad-scenario-designer/crdesigner/map_conversion/opendrive/opendrive_conversion/plane_elements/traffic_signals.py:45: UserWarning: OpenDRIVE/traffic_signals.py: Unknown TrafficSignIDZamunda of ID 430 of subtype -1!\n",
      "  warnings.warn(\"OpenDRIVE/traffic_signals.py: Unknown {}\"\n",
      "/home/michael/SoftwareProjects/CommonRoad/commonroad-scenario-designer/crdesigner/map_conversion/opendrive/opendrive_conversion/plane_elements/traffic_signals.py:45: UserWarning: OpenDRIVE/traffic_signals.py: Unknown TrafficSignIDZamunda of ID 430 of subtype 10!\n",
      "  warnings.warn(\"OpenDRIVE/traffic_signals.py: Unknown {}\"\n",
      "/home/michael/SoftwareProjects/CommonRoad/commonroad-scenario-designer/crdesigner/map_conversion/opendrive/opendrive_conversion/plane_elements/traffic_signals.py:45: UserWarning: OpenDRIVE/traffic_signals.py: Unknown TrafficSignIDZamunda of ID 283 of subtype -1!\n",
      "  warnings.warn(\"OpenDRIVE/traffic_signals.py: Unknown {}\"\n",
      "/home/michael/SoftwareProjects/CommonRoad/commonroad-scenario-designer/crdesigner/map_conversion/opendrive/opendrive_conversion/plane_elements/traffic_signals.py:45: UserWarning: OpenDRIVE/traffic_signals.py: Unknown TrafficSignIDZamunda of ID 531 of subtype -1!\n",
      "  warnings.warn(\"OpenDRIVE/traffic_signals.py: Unknown {}\"\n"
     ]
    },
    {
     "name": "stdout",
     "output_type": "stream",
     "text": [
      "Hallo: {'plane_conversion': {'error_tolerance': 0.15, 'min_delta_s': 0.5, 'precision': 0.5}, 'file_header': {'author': 'Sebastian Maierhofer', 'affiliation': 'Technical University of Munich', 'source': 'CommonRoad Scenario Designer', 'time_step_size': 0.1}}\n"
     ]
    },
    {
     "name": "stderr",
     "output_type": "stream",
     "text": [
      "/home/michael/SoftwareProjects/CommonRoad/ASAM-Standards/openscenario-v1.2.0/Examples/EndOfTrafficJamParameterSet.xosc:   4%|▍         | 7/161 [00:06<02:41,  1.05s/it]/home/michael/SoftwareProjects/CommonRoad/openscenario2cr/OpenSCENARIO2CR/Osc2CrConverter.py:305: UserWarning: <Osc2CrConverter/_pre_parse_scenario> EndOfTrafficJamParameterSet.xosc contains no source file, but references another OpenSCENARIO file: \"/home/michael/SoftwareProjects/CommonRoad/ASAM-Standards/openscenario-v1.2.0/Examples/EndOfTrafficJam.xosc\"\n",
      "  warnings.warn(\n",
      "/home/michael/SoftwareProjects/CommonRoad/ASAM-Standards/openscenario-v1.2.0/Examples/EndofTrafficJamNeighboringLaneOccupied.xosc:   4%|▍         | 7/161 [00:06<02:41,  1.05s/it]"
     ]
    },
    {
     "name": "stdout",
     "output_type": "stream",
     "text": [
      "Hallo: {'plane_conversion': {'error_tolerance': 0.15, 'min_delta_s': 0.5, 'precision': 0.5}, 'file_header': {'author': 'Sebastian Maierhofer', 'affiliation': 'Technical University of Munich', 'source': 'CommonRoad Scenario Designer', 'time_step_size': 0.1}}\n"
     ]
    },
    {
     "name": "stderr",
     "output_type": "stream",
     "text": [
      "/home/michael/SoftwareProjects/CommonRoad/ASAM-Standards/openscenario-v1.2.0/Examples/FastOvertakeWithReInitialization.xosc:   6%|▌         | 9/161 [00:07<01:59,  1.28it/s]      "
     ]
    },
    {
     "name": "stdout",
     "output_type": "stream",
     "text": [
      "Hallo: {'plane_conversion': {'error_tolerance': 0.15, 'min_delta_s': 0.5, 'precision': 0.5}, 'file_header': {'author': 'Sebastian Maierhofer', 'affiliation': 'Technical University of Munich', 'source': 'CommonRoad Scenario Designer', 'time_step_size': 0.1}}\n"
     ]
    },
    {
     "name": "stderr",
     "output_type": "stream",
     "text": [
      "/home/michael/SoftwareProjects/CommonRoad/ASAM-Standards/openscenario-v1.2.0/Examples/Overtaker.xosc:   6%|▌         | 10/161 [00:10<03:16,  1.30s/it]                       "
     ]
    },
    {
     "name": "stdout",
     "output_type": "stream",
     "text": [
      "Hallo: {'plane_conversion': {'error_tolerance': 0.15, 'min_delta_s': 0.5, 'precision': 0.5}, 'file_header': {'author': 'Sebastian Maierhofer', 'affiliation': 'Technical University of Munich', 'source': 'CommonRoad Scenario Designer', 'time_step_size': 0.1}}\n"
     ]
    },
    {
     "name": "stderr",
     "output_type": "stream",
     "text": [
      "/home/michael/SoftwareProjects/CommonRoad/ASAM-Standards/openscenario-v1.2.0/Examples/SequentialEvents_0-100-0kph_Explicit.xosc:   7%|▋         | 11/161 [00:13<04:38,  1.86s/it]"
     ]
    },
    {
     "name": "stdout",
     "output_type": "stream",
     "text": [
      "Hallo: {'plane_conversion': {'error_tolerance': 0.15, 'min_delta_s': 0.5, 'precision': 0.5}, 'file_header': {'author': 'Sebastian Maierhofer', 'affiliation': 'Technical University of Munich', 'source': 'CommonRoad Scenario Designer', 'time_step_size': 0.1}}\n"
     ]
    },
    {
     "name": "stderr",
     "output_type": "stream",
     "text": [
      "/home/michael/SoftwareProjects/CommonRoad/ASAM-Standards/openscenario-v1.2.0/Examples/SequentialEvents_0-100-0kph_Implicit.xosc:   7%|▋         | 12/161 [00:14<03:42,  1.49s/it]"
     ]
    },
    {
     "name": "stdout",
     "output_type": "stream",
     "text": [
      "Hallo: {'plane_conversion': {'error_tolerance': 0.15, 'min_delta_s': 0.5, 'precision': 0.5}, 'file_header': {'author': 'Sebastian Maierhofer', 'affiliation': 'Technical University of Munich', 'source': 'CommonRoad Scenario Designer', 'time_step_size': 0.1}}\n"
     ]
    },
    {
     "name": "stderr",
     "output_type": "stream",
     "text": [
      "/home/michael/SoftwareProjects/CommonRoad/ASAM-Standards/openscenario-v1.2.0/Examples/SimpleOvertake.xosc:   8%|▊         | 13/161 [00:14<02:59,  1.22s/it]                      "
     ]
    },
    {
     "name": "stdout",
     "output_type": "stream",
     "text": [
      "Hallo: {'plane_conversion': {'error_tolerance': 0.15, 'min_delta_s': 0.5, 'precision': 0.5}, 'file_header': {'author': 'Sebastian Maierhofer', 'affiliation': 'Technical University of Munich', 'source': 'CommonRoad Scenario Designer', 'time_step_size': 0.1}}\n"
     ]
    },
    {
     "name": "stderr",
     "output_type": "stream",
     "text": [
      "/home/michael/SoftwareProjects/CommonRoad/ASAM-Standards/openscenario-v1.2.0/Examples/SlowPrecedingVehicleDeterministicParameterSet.xosc:   9%|▉         | 15/161 [00:18<03:21,  1.38s/it]/home/michael/SoftwareProjects/CommonRoad/openscenario2cr/OpenSCENARIO2CR/Osc2CrConverter.py:305: UserWarning: <Osc2CrConverter/_pre_parse_scenario> SlowPrecedingVehicleDeterministicParameterSet.xosc contains no source file, but references another OpenSCENARIO file: \"/home/michael/SoftwareProjects/CommonRoad/ASAM-Standards/openscenario-v1.2.0/Examples/SlowPrecedingVehicle.xosc\"\n",
      "  warnings.warn(\n",
      "/home/michael/SoftwareProjects/CommonRoad/ASAM-Standards/openscenario-v1.2.0/Examples/SlowPrecedingVehicleStochasticParameterSet.xosc:   9%|▉         | 15/161 [00:18<03:21,  1.38s/it]   /home/michael/SoftwareProjects/CommonRoad/openscenario2cr/OpenSCENARIO2CR/Osc2CrConverter.py:305: UserWarning: <Osc2CrConverter/_pre_parse_scenario> SlowPrecedingVehicleStochasticParameterSet.xosc contains no source file, but references another OpenSCENARIO file: \"/home/michael/SoftwareProjects/CommonRoad/ASAM-Standards/openscenario-v1.2.0/Examples/SlowPrecedingVehicle.xosc\"\n",
      "  warnings.warn(\n",
      "/home/michael/SoftwareProjects/CommonRoad/ASAM-Standards/openscenario-v1.2.0/Examples/SynchronizedArrivalToIntersection.xosc:   9%|▉         | 15/161 [00:18<03:21,  1.38s/it]         "
     ]
    },
    {
     "name": "stdout",
     "output_type": "stream",
     "text": [
      "Hallo: {'plane_conversion': {'error_tolerance': 0.15, 'min_delta_s': 0.5, 'precision': 0.5}, 'file_header': {'author': 'Sebastian Maierhofer', 'affiliation': 'Technical University of Munich', 'source': 'CommonRoad Scenario Designer', 'time_step_size': 0.1}}\n"
     ]
    },
    {
     "name": "stderr",
     "output_type": "stream",
     "text": [
      "/home/michael/SoftwareProjects/CommonRoad/ASAM-Standards/openscenario-v1.2.0/Examples/TrafficJam.xosc:  11%|█         | 18/161 [00:18<01:39,  1.44it/s]                       "
     ]
    },
    {
     "name": "stdout",
     "output_type": "stream",
     "text": [
      "Hallo: {'plane_conversion': {'error_tolerance': 0.15, 'min_delta_s': 0.5, 'precision': 0.5}, 'file_header': {'author': 'Sebastian Maierhofer', 'affiliation': 'Technical University of Munich', 'source': 'CommonRoad Scenario Designer', 'time_step_size': 0.1}}\n"
     ]
    },
    {
     "name": "stderr",
     "output_type": "stream",
     "text": [
      "/home/michael/SoftwareProjects/CommonRoad/esmini/EnvironmentSimulator/Unittest/xosc/alks_r157_test.xosc:  15%|█▍        | 24/161 [00:21<01:06,  2.06it/s]                    "
     ]
    },
    {
     "name": "stdout",
     "output_type": "stream",
     "text": [
      "Hallo: {'plane_conversion': {'error_tolerance': 0.15, 'min_delta_s': 0.5, 'precision': 0.5}, 'file_header': {'author': 'Sebastian Maierhofer', 'affiliation': 'Technical University of Munich', 'source': 'CommonRoad Scenario Designer', 'time_step_size': 0.1}}\n",
      "Hallo: {'plane_conversion': {'error_tolerance': 0.15, 'min_delta_s': 0.5, 'precision': 0.5}, 'file_header': {'author': 'Sebastian Maierhofer', 'affiliation': 'Technical University of Munich', 'source': 'CommonRoad Scenario Designer', 'time_step_size': 0.1}}\n",
      "Hallo: {'plane_conversion': {'error_tolerance': 0.15, 'min_delta_s': 0.5, 'precision': 0.5}, 'file_header': {'author': 'Sebastian Maierhofer', 'affiliation': 'Technical University of Munich', 'source': 'CommonRoad Scenario Designer', 'time_step_size': 0.1}}\n",
      "Hallo: {'plane_conversion': {'error_tolerance': 0.15, 'min_delta_s': 0.5, 'precision': 0.5}, 'file_header': {'author': 'Sebastian Maierhofer', 'affiliation': 'Technical University of Munich', 'source': 'CommonRoad Scenario Designer', 'time_step_size': 0.1}}\n",
      "Hallo: {'plane_conversion': {'error_tolerance': 0.15, 'min_delta_s': 0.5, 'precision': 0.5}, 'file_header': {'author': 'Sebastian Maierhofer', 'affiliation': 'Technical University of Munich', 'source': 'CommonRoad Scenario Designer', 'time_step_size': 0.1}}\n",
      "Hallo: {'plane_conversion': {'error_tolerance': 0.15, 'min_delta_s': 0.5, 'precision': 0.5}, 'file_header': {'author': 'Sebastian Maierhofer', 'affiliation': 'Technical University of Munich', 'source': 'CommonRoad Scenario Designer', 'time_step_size': 0.1}}\n",
      "Hallo: {'plane_conversion': {'error_tolerance': 0.15, 'min_delta_s': 0.5, 'precision': 0.5}, 'file_header': {'author': 'Sebastian Maierhofer', 'affiliation': 'Technical University of Munich', 'source': 'CommonRoad Scenario Designer', 'time_step_size': 0.1}}\n"
     ]
    },
    {
     "name": "stderr",
     "output_type": "stream",
     "text": [
      "/home/michael/SoftwareProjects/CommonRoad/esmini/EnvironmentSimulator/Unittest/xosc/follow_route_blocked_by_collision_risk.xosc:  17%|█▋        | 28/161 [00:22<00:39,  3.38it/s]"
     ]
    },
    {
     "name": "stdout",
     "output_type": "stream",
     "text": [
      "Hallo: {'plane_conversion': {'error_tolerance': 0.15, 'min_delta_s': 0.5, 'precision': 0.5}, 'file_header': {'author': 'Sebastian Maierhofer', 'affiliation': 'Technical University of Munich', 'source': 'CommonRoad Scenario Designer', 'time_step_size': 0.1}}\n",
      "Hallo: {'plane_conversion': {'error_tolerance': 0.15, 'min_delta_s': 0.5, 'precision': 0.5}, 'file_header': {'author': 'Sebastian Maierhofer', 'affiliation': 'Technical University of Munich', 'source': 'CommonRoad Scenario Designer', 'time_step_size': 0.1}}\n",
      "Hallo: {'plane_conversion': {'error_tolerance': 0.15, 'min_delta_s': 0.5, 'precision': 0.5}, 'file_header': {'author': 'Sebastian Maierhofer', 'affiliation': 'Technical University of Munich', 'source': 'CommonRoad Scenario Designer', 'time_step_size': 0.1}}\n",
      "Hallo: {'plane_conversion': {'error_tolerance': 0.15, 'min_delta_s': 0.5, 'precision': 0.5}, 'file_header': {'author': 'Sebastian Maierhofer', 'affiliation': 'Technical University of Munich', 'source': 'CommonRoad Scenario Designer', 'time_step_size': 0.1}}\n",
      "Hallo: {'plane_conversion': {'error_tolerance': 0.15, 'min_delta_s': 0.5, 'precision': 0.5}, 'file_header': {'author': 'Sebastian Maierhofer', 'affiliation': 'Technical University of Munich', 'source': 'CommonRoad Scenario Designer', 'time_step_size': 0.1}}\n"
     ]
    },
    {
     "name": "stderr",
     "output_type": "stream",
     "text": [
      "/home/michael/SoftwareProjects/CommonRoad/esmini/EnvironmentSimulator/Unittest/xosc/follow_route_collision_risk.xosc:  20%|█▉        | 32/161 [00:22<00:28,  4.56it/s]           "
     ]
    },
    {
     "name": "stdout",
     "output_type": "stream",
     "text": [
      "Hallo: {'plane_conversion': {'error_tolerance': 0.15, 'min_delta_s': 0.5, 'precision': 0.5}, 'file_header': {'author': 'Sebastian Maierhofer', 'affiliation': 'Technical University of Munich', 'source': 'CommonRoad Scenario Designer', 'time_step_size': 0.1}}\n"
     ]
    },
    {
     "name": "stderr",
     "output_type": "stream",
     "text": [
      "/home/michael/SoftwareProjects/CommonRoad/esmini/EnvironmentSimulator/Unittest/xosc/follow_route_controller_test_medium.xosc:  20%|█▉        | 32/161 [00:23<00:28,  4.56it/s]/home/michael/SoftwareProjects/CommonRoad/commonroad-scenario-designer/crdesigner/map_conversion/opendrive/opendrive_conversion/plane_elements/traffic_signals.py:45: UserWarning: OpenDRIVE/traffic_signals.py: Unknown TrafficSignIDZamunda of ID -1 of subtype -1!\n",
      "  warnings.warn(\"OpenDRIVE/traffic_signals.py: Unknown {}\"\n"
     ]
    },
    {
     "name": "stdout",
     "output_type": "stream",
     "text": [
      "Hallo: {'plane_conversion': {'error_tolerance': 0.15, 'min_delta_s': 0.5, 'precision': 0.5}, 'file_header': {'author': 'Sebastian Maierhofer', 'affiliation': 'Technical University of Munich', 'source': 'CommonRoad Scenario Designer', 'time_step_size': 0.1}}\n"
     ]
    },
    {
     "name": "stderr",
     "output_type": "stream",
     "text": [
      "/home/michael/miniconda3/envs/commonroad2/lib/python3.9/site-packages/commonroad/scenario/lanelet.py:611: UserWarning: <Lanelet/stop_line>: stop_line of lanelet is immutable!\n",
      "  warnings.warn('<Lanelet/stop_line>: stop_line of lanelet is immutable!', stacklevel=1)\n",
      "/home/michael/SoftwareProjects/CommonRoad/esmini/EnvironmentSimulator/Unittest/xosc/follow_route_multiple_scenario_waypoints.xosc:  21%|██        | 34/161 [00:24<00:42,  2.98it/s]"
     ]
    },
    {
     "name": "stdout",
     "output_type": "stream",
     "text": [
      "Hallo: {'plane_conversion': {'error_tolerance': 0.15, 'min_delta_s': 0.5, 'precision': 0.5}, 'file_header': {'author': 'Sebastian Maierhofer', 'affiliation': 'Technical University of Munich', 'source': 'CommonRoad Scenario Designer', 'time_step_size': 0.1}}\n"
     ]
    },
    {
     "name": "stderr",
     "output_type": "stream",
     "text": [
      "/home/michael/SoftwareProjects/CommonRoad/esmini/EnvironmentSimulator/Unittest/xosc/follow_route_no_path.xosc:  22%|██▏       | 35/161 [00:24<00:50,  2.52it/s]                    "
     ]
    },
    {
     "name": "stdout",
     "output_type": "stream",
     "text": [
      "Hallo: {'plane_conversion': {'error_tolerance': 0.15, 'min_delta_s': 0.5, 'precision': 0.5}, 'file_header': {'author': 'Sebastian Maierhofer', 'affiliation': 'Technical University of Munich', 'source': 'CommonRoad Scenario Designer', 'time_step_size': 0.1}}\n"
     ]
    },
    {
     "name": "stderr",
     "output_type": "stream",
     "text": [
      "/home/michael/SoftwareProjects/CommonRoad/esmini/EnvironmentSimulator/Unittest/xosc/follow_route_set_parameters.xosc:  22%|██▏       | 36/161 [00:25<00:49,  2.50it/s]"
     ]
    },
    {
     "name": "stdout",
     "output_type": "stream",
     "text": [
      "Hallo: {'plane_conversion': {'error_tolerance': 0.15, 'min_delta_s': 0.5, 'precision': 0.5}, 'file_header': {'author': 'Sebastian Maierhofer', 'affiliation': 'Technical University of Munich', 'source': 'CommonRoad Scenario Designer', 'time_step_size': 0.1}}\n"
     ]
    },
    {
     "name": "stderr",
     "output_type": "stream",
     "text": [
      "/home/michael/SoftwareProjects/CommonRoad/esmini/EnvironmentSimulator/Unittest/xosc/follow_route_with_lane_change.xosc:  23%|██▎       | 37/161 [00:25<00:51,  2.39it/s]"
     ]
    },
    {
     "name": "stdout",
     "output_type": "stream",
     "text": [
      "Hallo: {'plane_conversion': {'error_tolerance': 0.15, 'min_delta_s': 0.5, 'precision': 0.5}, 'file_header': {'author': 'Sebastian Maierhofer', 'affiliation': 'Technical University of Munich', 'source': 'CommonRoad Scenario Designer', 'time_step_size': 0.1}}\n"
     ]
    },
    {
     "name": "stderr",
     "output_type": "stream",
     "text": [
      "/home/michael/SoftwareProjects/CommonRoad/esmini/EnvironmentSimulator/Unittest/xosc/full_e6mini_reverse.xosc:  25%|██▍       | 40/161 [00:26<00:34,  3.51it/s]          "
     ]
    },
    {
     "name": "stdout",
     "output_type": "stream",
     "text": [
      "Hallo: {'plane_conversion': {'error_tolerance': 0.15, 'min_delta_s': 0.5, 'precision': 0.5}, 'file_header': {'author': 'Sebastian Maierhofer', 'affiliation': 'Technical University of Munich', 'source': 'CommonRoad Scenario Designer', 'time_step_size': 0.1}}\n",
      "Hallo: {'plane_conversion': {'error_tolerance': 0.15, 'min_delta_s': 0.5, 'precision': 0.5}, 'file_header': {'author': 'Sebastian Maierhofer', 'affiliation': 'Technical University of Munich', 'source': 'CommonRoad Scenario Designer', 'time_step_size': 0.1}}\n",
      "Hallo: {'plane_conversion': {'error_tolerance': 0.15, 'min_delta_s': 0.5, 'precision': 0.5}, 'file_header': {'author': 'Sebastian Maierhofer', 'affiliation': 'Technical University of Munich', 'source': 'CommonRoad Scenario Designer', 'time_step_size': 0.1}}\n"
     ]
    },
    {
     "name": "stderr",
     "output_type": "stream",
     "text": [
      "/home/michael/SoftwareProjects/CommonRoad/esmini/EnvironmentSimulator/Unittest/xosc/highway_exit.xosc:  25%|██▌       | 41/161 [00:26<00:30,  3.93it/s]       "
     ]
    },
    {
     "name": "stdout",
     "output_type": "stream",
     "text": [
      "Hallo: {'plane_conversion': {'error_tolerance': 0.15, 'min_delta_s': 0.5, 'precision': 0.5}, 'file_header': {'author': 'Sebastian Maierhofer', 'affiliation': 'Technical University of Munich', 'source': 'CommonRoad Scenario Designer', 'time_step_size': 0.1}}\n",
      "Hallo: {'plane_conversion': {'error_tolerance': 0.15, 'min_delta_s': 0.5, 'precision': 0.5}, 'file_header': {'author': 'Sebastian Maierhofer', 'affiliation': 'Technical University of Munich', 'source': 'CommonRoad Scenario Designer', 'time_step_size': 0.1}}\n",
      "Hallo: {'plane_conversion': {'error_tolerance': 0.15, 'min_delta_s': 0.5, 'precision': 0.5}, 'file_header': {'author': 'Sebastian Maierhofer', 'affiliation': 'Technical University of Munich', 'source': 'CommonRoad Scenario Designer', 'time_step_size': 0.1}}\n"
     ]
    },
    {
     "name": "stderr",
     "output_type": "stream",
     "text": [
      "/home/michael/SoftwareProjects/CommonRoad/esmini/EnvironmentSimulator/Unittest/xosc/highway_intersection_test0.xosc:  28%|██▊       | 45/161 [00:26<00:20,  5.59it/s]"
     ]
    },
    {
     "name": "stdout",
     "output_type": "stream",
     "text": [
      "Hallo: {'plane_conversion': {'error_tolerance': 0.15, 'min_delta_s': 0.5, 'precision': 0.5}, 'file_header': {'author': 'Sebastian Maierhofer', 'affiliation': 'Technical University of Munich', 'source': 'CommonRoad Scenario Designer', 'time_step_size': 0.1}}\n",
      "Hallo: {'plane_conversion': {'error_tolerance': 0.15, 'min_delta_s': 0.5, 'precision': 0.5}, 'file_header': {'author': 'Sebastian Maierhofer', 'affiliation': 'Technical University of Munich', 'source': 'CommonRoad Scenario Designer', 'time_step_size': 0.1}}\n"
     ]
    },
    {
     "name": "stderr",
     "output_type": "stream",
     "text": [
      "/home/michael/SoftwareProjects/CommonRoad/esmini/EnvironmentSimulator/Unittest/xosc/junction-selector.xosc:  31%|███       | 50/161 [00:27<00:10, 10.24it/s]              "
     ]
    },
    {
     "name": "stdout",
     "output_type": "stream",
     "text": [
      "Hallo: {'plane_conversion': {'error_tolerance': 0.15, 'min_delta_s': 0.5, 'precision': 0.5}, 'file_header': {'author': 'Sebastian Maierhofer', 'affiliation': 'Technical University of Munich', 'source': 'CommonRoad Scenario Designer', 'time_step_size': 0.1}}\n",
      "Hallo: {'plane_conversion': {'error_tolerance': 0.15, 'min_delta_s': 0.5, 'precision': 0.5}, 'file_header': {'author': 'Sebastian Maierhofer', 'affiliation': 'Technical University of Munich', 'source': 'CommonRoad Scenario Designer', 'time_step_size': 0.1}}\n",
      "Hallo: {'plane_conversion': {'error_tolerance': 0.15, 'min_delta_s': 0.5, 'precision': 0.5}, 'file_header': {'author': 'Sebastian Maierhofer', 'affiliation': 'Technical University of Munich', 'source': 'CommonRoad Scenario Designer', 'time_step_size': 0.1}}\n",
      "Hallo: {'plane_conversion': {'error_tolerance': 0.15, 'min_delta_s': 0.5, 'precision': 0.5}, 'file_header': {'author': 'Sebastian Maierhofer', 'affiliation': 'Technical University of Munich', 'source': 'CommonRoad Scenario Designer', 'time_step_size': 0.1}}\n",
      "Hallo: {'plane_conversion': {'error_tolerance': 0.15, 'min_delta_s': 0.5, 'precision': 0.5}, 'file_header': {'author': 'Sebastian Maierhofer', 'affiliation': 'Technical University of Munich', 'source': 'CommonRoad Scenario Designer', 'time_step_size': 0.1}}\n",
      "Hallo: {'plane_conversion': {'error_tolerance': 0.15, 'min_delta_s': 0.5, 'precision': 0.5}, 'file_header': {'author': 'Sebastian Maierhofer', 'affiliation': 'Technical University of Munich', 'source': 'CommonRoad Scenario Designer', 'time_step_size': 0.1}}\n"
     ]
    },
    {
     "name": "stderr",
     "output_type": "stream",
     "text": [
      "/home/michael/SoftwareProjects/CommonRoad/esmini/EnvironmentSimulator/Unittest/xosc/multi_lanesections.xosc:  34%|███▍      | 55/161 [00:27<00:07, 13.59it/s] "
     ]
    },
    {
     "name": "stdout",
     "output_type": "stream",
     "text": [
      "Hallo: {'plane_conversion': {'error_tolerance': 0.15, 'min_delta_s': 0.5, 'precision': 0.5}, 'file_header': {'author': 'Sebastian Maierhofer', 'affiliation': 'Technical University of Munich', 'source': 'CommonRoad Scenario Designer', 'time_step_size': 0.1}}\n",
      "Hallo: {'plane_conversion': {'error_tolerance': 0.15, 'min_delta_s': 0.5, 'precision': 0.5}, 'file_header': {'author': 'Sebastian Maierhofer', 'affiliation': 'Technical University of Munich', 'source': 'CommonRoad Scenario Designer', 'time_step_size': 0.1}}\n",
      "Hallo: {'plane_conversion': {'error_tolerance': 0.15, 'min_delta_s': 0.5, 'precision': 0.5}, 'file_header': {'author': 'Sebastian Maierhofer', 'affiliation': 'Technical University of Munich', 'source': 'CommonRoad Scenario Designer', 'time_step_size': 0.1}}\n",
      "Hallo: {'plane_conversion': {'error_tolerance': 0.15, 'min_delta_s': 0.5, 'precision': 0.5}, 'file_header': {'author': 'Sebastian Maierhofer', 'affiliation': 'Technical University of Munich', 'source': 'CommonRoad Scenario Designer', 'time_step_size': 0.1}}\n"
     ]
    },
    {
     "name": "stderr",
     "output_type": "stream",
     "text": [
      "/home/michael/SoftwareProjects/CommonRoad/esmini/EnvironmentSimulator/Unittest/xosc/perform_single_lane_change.xosc:  35%|███▌      | 57/161 [00:27<00:11,  9.21it/s]     "
     ]
    },
    {
     "name": "stdout",
     "output_type": "stream",
     "text": [
      "Hallo: {'plane_conversion': {'error_tolerance': 0.15, 'min_delta_s': 0.5, 'precision': 0.5}, 'file_header': {'author': 'Sebastian Maierhofer', 'affiliation': 'Technical University of Munich', 'source': 'CommonRoad Scenario Designer', 'time_step_size': 0.1}}\n",
      "Hallo: {'plane_conversion': {'error_tolerance': 0.15, 'min_delta_s': 0.5, 'precision': 0.5}, 'file_header': {'author': 'Sebastian Maierhofer', 'affiliation': 'Technical University of Munich', 'source': 'CommonRoad Scenario Designer', 'time_step_size': 0.1}}\n",
      "Hallo: {'plane_conversion': {'error_tolerance': 0.15, 'min_delta_s': 0.5, 'precision': 0.5}, 'file_header': {'author': 'Sebastian Maierhofer', 'affiliation': 'Technical University of Munich', 'source': 'CommonRoad Scenario Designer', 'time_step_size': 0.1}}\n"
     ]
    },
    {
     "name": "stderr",
     "output_type": "stream",
     "text": [
      "/home/michael/SoftwareProjects/CommonRoad/esmini/EnvironmentSimulator/Unittest/xosc/sign_test.xosc:  38%|███▊      | 61/161 [00:28<00:12,  8.06it/s]                 /home/michael/SoftwareProjects/CommonRoad/commonroad-scenario-designer/crdesigner/map_conversion/opendrive/opendrive_conversion/plane_elements/traffic_signals.py:45: UserWarning: OpenDRIVE/traffic_signals.py: Unknown TrafficSignIDGermany of ID 110 of subtype !\n",
      "  warnings.warn(\"OpenDRIVE/traffic_signals.py: Unknown {}\"\n",
      "/home/michael/SoftwareProjects/CommonRoad/commonroad-scenario-designer/crdesigner/map_conversion/opendrive/opendrive_conversion/plane_elements/traffic_signals.py:45: UserWarning: OpenDRIVE/traffic_signals.py: Unknown TrafficSignIDGermany of ID 105 of subtype !\n",
      "  warnings.warn(\"OpenDRIVE/traffic_signals.py: Unknown {}\"\n",
      "/home/michael/SoftwareProjects/CommonRoad/esmini/EnvironmentSimulator/Unittest/xosc/simple_3_way_intersection_osi.xosc:  38%|███▊      | 61/161 [00:28<00:12,  8.06it/s]"
     ]
    },
    {
     "name": "stdout",
     "output_type": "stream",
     "text": [
      "Hallo: {'plane_conversion': {'error_tolerance': 0.15, 'min_delta_s': 0.5, 'precision': 0.5}, 'file_header': {'author': 'Sebastian Maierhofer', 'affiliation': 'Technical University of Munich', 'source': 'CommonRoad Scenario Designer', 'time_step_size': 0.1}}\n",
      "Hallo: {'plane_conversion': {'error_tolerance': 0.15, 'min_delta_s': 0.5, 'precision': 0.5}, 'file_header': {'author': 'Sebastian Maierhofer', 'affiliation': 'Technical University of Munich', 'source': 'CommonRoad Scenario Designer', 'time_step_size': 0.1}}\n",
      "Hallo: {'plane_conversion': {'error_tolerance': 0.15, 'min_delta_s': 0.5, 'precision': 0.5}, 'file_header': {'author': 'Sebastian Maierhofer', 'affiliation': 'Technical University of Munich', 'source': 'CommonRoad Scenario Designer', 'time_step_size': 0.1}}\n"
     ]
    },
    {
     "name": "stderr",
     "output_type": "stream",
     "text": [
      "/home/michael/SoftwareProjects/CommonRoad/esmini/EnvironmentSimulator/Unittest/xosc/speed-profile_test.xosc:  41%|████      | 66/161 [00:28<00:07, 12.36it/s]               "
     ]
    },
    {
     "name": "stdout",
     "output_type": "stream",
     "text": [
      "Hallo: {'plane_conversion': {'error_tolerance': 0.15, 'min_delta_s': 0.5, 'precision': 0.5}, 'file_header': {'author': 'Sebastian Maierhofer', 'affiliation': 'Technical University of Munich', 'source': 'CommonRoad Scenario Designer', 'time_step_size': 0.1}}\n",
      "Hallo: {'plane_conversion': {'error_tolerance': 0.15, 'min_delta_s': 0.5, 'precision': 0.5}, 'file_header': {'author': 'Sebastian Maierhofer', 'affiliation': 'Technical University of Munich', 'source': 'CommonRoad Scenario Designer', 'time_step_size': 0.1}}\n",
      "Hallo: {'plane_conversion': {'error_tolerance': 0.15, 'min_delta_s': 0.5, 'precision': 0.5}, 'file_header': {'author': 'Sebastian Maierhofer', 'affiliation': 'Technical University of Munich', 'source': 'CommonRoad Scenario Designer', 'time_step_size': 0.1}}\n",
      "Hallo: {'plane_conversion': {'error_tolerance': 0.15, 'min_delta_s': 0.5, 'precision': 0.5}, 'file_header': {'author': 'Sebastian Maierhofer', 'affiliation': 'Technical University of Munich', 'source': 'CommonRoad Scenario Designer', 'time_step_size': 0.1}}\n",
      "Hallo: {'plane_conversion': {'error_tolerance': 0.15, 'min_delta_s': 0.5, 'precision': 0.5}, 'file_header': {'author': 'Sebastian Maierhofer', 'affiliation': 'Technical University of Munich', 'source': 'CommonRoad Scenario Designer', 'time_step_size': 0.1}}\n"
     ]
    },
    {
     "name": "stderr",
     "output_type": "stream",
     "text": [
      "/home/michael/SoftwareProjects/CommonRoad/esmini/EnvironmentSimulator/Unittest/xosc/test-collision-detection.xosc:  43%|████▎     | 69/161 [00:28<00:06, 13.31it/s]"
     ]
    },
    {
     "name": "stdout",
     "output_type": "stream",
     "text": [
      "Hallo: {'plane_conversion': {'error_tolerance': 0.15, 'min_delta_s': 0.5, 'precision': 0.5}, 'file_header': {'author': 'Sebastian Maierhofer', 'affiliation': 'Technical University of Munich', 'source': 'CommonRoad Scenario Designer', 'time_step_size': 0.1}}\n",
      "Hallo: {'plane_conversion': {'error_tolerance': 0.15, 'min_delta_s': 0.5, 'precision': 0.5}, 'file_header': {'author': 'Sebastian Maierhofer', 'affiliation': 'Technical University of Munich', 'source': 'CommonRoad Scenario Designer', 'time_step_size': 0.1}}\n",
      "Hallo: {'plane_conversion': {'error_tolerance': 0.15, 'min_delta_s': 0.5, 'precision': 0.5}, 'file_header': {'author': 'Sebastian Maierhofer', 'affiliation': 'Technical University of Munich', 'source': 'CommonRoad Scenario Designer', 'time_step_size': 0.1}}\n"
     ]
    },
    {
     "name": "stderr",
     "output_type": "stream",
     "text": [
      "/home/michael/SoftwareProjects/CommonRoad/esmini/EnvironmentSimulator/Unittest/xosc/timing_scenario0.xosc:  44%|████▍     | 71/161 [00:29<00:06, 14.32it/s]        /home/michael/SoftwareProjects/CommonRoad/openscenario2cr/OpenSCENARIO2CR/OpenSCENARIOWrapper/Esmini/EsminiWrapper.py:138: UserWarning: <EsminiWrapper/simulate_scenario> Failed to initialize scenario engine\n",
      "  warnings.warn(warning)\n",
      "/home/michael/SoftwareProjects/CommonRoad/esmini/resources/xosc/acc-test.xosc:  47%|████▋     | 75/161 [00:29<00:04, 19.55it/s]                                         "
     ]
    },
    {
     "name": "stdout",
     "output_type": "stream",
     "text": [
      "Hallo: {'plane_conversion': {'error_tolerance': 0.15, 'min_delta_s': 0.5, 'precision': 0.5}, 'file_header': {'author': 'Sebastian Maierhofer', 'affiliation': 'Technical University of Munich', 'source': 'CommonRoad Scenario Designer', 'time_step_size': 0.1}}\n",
      "Hallo: {'plane_conversion': {'error_tolerance': 0.15, 'min_delta_s': 0.5, 'precision': 0.5}, 'file_header': {'author': 'Sebastian Maierhofer', 'affiliation': 'Technical University of Munich', 'source': 'CommonRoad Scenario Designer', 'time_step_size': 0.1}}\n",
      "Hallo: {'plane_conversion': {'error_tolerance': 0.15, 'min_delta_s': 0.5, 'precision': 0.5}, 'file_header': {'author': 'Sebastian Maierhofer', 'affiliation': 'Technical University of Munich', 'source': 'CommonRoad Scenario Designer', 'time_step_size': 0.1}}\n",
      "Hallo: {'plane_conversion': {'error_tolerance': 0.15, 'min_delta_s': 0.5, 'precision': 0.5}, 'file_header': {'author': 'Sebastian Maierhofer', 'affiliation': 'Technical University of Munich', 'source': 'CommonRoad Scenario Designer', 'time_step_size': 0.1}}\n",
      "Hallo: {'plane_conversion': {'error_tolerance': 0.15, 'min_delta_s': 0.5, 'precision': 0.5}, 'file_header': {'author': 'Sebastian Maierhofer', 'affiliation': 'Technical University of Munich', 'source': 'CommonRoad Scenario Designer', 'time_step_size': 0.1}}\n",
      "Hallo: {'plane_conversion': {'error_tolerance': 0.15, 'min_delta_s': 0.5, 'precision': 0.5}, 'file_header': {'author': 'Sebastian Maierhofer', 'affiliation': 'Technical University of Munich', 'source': 'CommonRoad Scenario Designer', 'time_step_size': 0.1}}\n"
     ]
    },
    {
     "name": "stderr",
     "output_type": "stream",
     "text": [
      "/home/michael/SoftwareProjects/CommonRoad/esmini/resources/xosc/controller_test.xosc:  53%|█████▎    | 86/161 [00:29<00:02, 34.61it/s]             "
     ]
    },
    {
     "name": "stdout",
     "output_type": "stream",
     "text": [
      "Hallo: {'plane_conversion': {'error_tolerance': 0.15, 'min_delta_s': 0.5, 'precision': 0.5}, 'file_header': {'author': 'Sebastian Maierhofer', 'affiliation': 'Technical University of Munich', 'source': 'CommonRoad Scenario Designer', 'time_step_size': 0.1}}\n",
      "Hallo: {'plane_conversion': {'error_tolerance': 0.15, 'min_delta_s': 0.5, 'precision': 0.5}, 'file_header': {'author': 'Sebastian Maierhofer', 'affiliation': 'Technical University of Munich', 'source': 'CommonRoad Scenario Designer', 'time_step_size': 0.1}}\n",
      "Hallo: {'plane_conversion': {'error_tolerance': 0.15, 'min_delta_s': 0.5, 'precision': 0.5}, 'file_header': {'author': 'Sebastian Maierhofer', 'affiliation': 'Technical University of Munich', 'source': 'CommonRoad Scenario Designer', 'time_step_size': 0.1}}\n"
     ]
    },
    {
     "name": "stderr",
     "output_type": "stream",
     "text": [
      "/home/michael/SoftwareProjects/CommonRoad/esmini/resources/xosc/cut-in_cr.xosc:  53%|█████▎    | 86/161 [00:29<00:02, 34.61it/s]      "
     ]
    },
    {
     "name": "stdout",
     "output_type": "stream",
     "text": [
      "Hallo: {'plane_conversion': {'error_tolerance': 0.15, 'min_delta_s': 0.5, 'precision': 0.5}, 'file_header': {'author': 'Sebastian Maierhofer', 'affiliation': 'Technical University of Munich', 'source': 'CommonRoad Scenario Designer', 'time_step_size': 0.1}}\n",
      "Hallo: {'plane_conversion': {'error_tolerance': 0.15, 'min_delta_s': 0.5, 'precision': 0.5}, 'file_header': {'author': 'Sebastian Maierhofer', 'affiliation': 'Technical University of Munich', 'source': 'CommonRoad Scenario Designer', 'time_step_size': 0.1}}\n"
     ]
    },
    {
     "name": "stderr",
     "output_type": "stream",
     "text": [
      "/home/michael/SoftwareProjects/CommonRoad/esmini/resources/xosc/cut-in_external.xosc:  56%|█████▌    | 90/161 [00:30<00:05, 13.84it/s]"
     ]
    },
    {
     "name": "stdout",
     "output_type": "stream",
     "text": [
      "Hallo: {'plane_conversion': {'error_tolerance': 0.15, 'min_delta_s': 0.5, 'precision': 0.5}, 'file_header': {'author': 'Sebastian Maierhofer', 'affiliation': 'Technical University of Munich', 'source': 'CommonRoad Scenario Designer', 'time_step_size': 0.1}}\n"
     ]
    },
    {
     "name": "stderr",
     "output_type": "stream",
     "text": [
      "/home/michael/SoftwareProjects/CommonRoad/esmini/resources/xosc/cut-in_interactive.xosc:  56%|█████▌    | 90/161 [00:30<00:05, 13.84it/s]"
     ]
    },
    {
     "name": "stdout",
     "output_type": "stream",
     "text": [
      "Hallo: {'plane_conversion': {'error_tolerance': 0.15, 'min_delta_s': 0.5, 'precision': 0.5}, 'file_header': {'author': 'Sebastian Maierhofer', 'affiliation': 'Technical University of Munich', 'source': 'CommonRoad Scenario Designer', 'time_step_size': 0.1}}\n"
     ]
    },
    {
     "name": "stderr",
     "output_type": "stream",
     "text": [
      "/home/michael/SoftwareProjects/CommonRoad/esmini/resources/xosc/cut-in_sloppy.xosc:  58%|█████▊    | 93/161 [00:31<00:08,  8.49it/s]     "
     ]
    },
    {
     "name": "stdout",
     "output_type": "stream",
     "text": [
      "Hallo: {'plane_conversion': {'error_tolerance': 0.15, 'min_delta_s': 0.5, 'precision': 0.5}, 'file_header': {'author': 'Sebastian Maierhofer', 'affiliation': 'Technical University of Munich', 'source': 'CommonRoad Scenario Designer', 'time_step_size': 0.1}}\n",
      "Hallo: {'plane_conversion': {'error_tolerance': 0.15, 'min_delta_s': 0.5, 'precision': 0.5}, 'file_header': {'author': 'Sebastian Maierhofer', 'affiliation': 'Technical University of Munich', 'source': 'CommonRoad Scenario Designer', 'time_step_size': 0.1}}\n"
     ]
    },
    {
     "name": "stderr",
     "output_type": "stream",
     "text": [
      "/home/michael/SoftwareProjects/CommonRoad/esmini/resources/xosc/cut-in_sumo.xosc:  58%|█████▊    | 93/161 [00:31<00:08,  8.49it/s]  "
     ]
    },
    {
     "name": "stdout",
     "output_type": "stream",
     "text": [
      "Hallo: {'plane_conversion': {'error_tolerance': 0.15, 'min_delta_s': 0.5, 'precision': 0.5}, 'file_header': {'author': 'Sebastian Maierhofer', 'affiliation': 'Technical University of Munich', 'source': 'CommonRoad Scenario Designer', 'time_step_size': 0.1}}\n",
      "Loading configuration ... done.\n"
     ]
    },
    {
     "name": "stderr",
     "output_type": "stream",
     "text": [
      "/home/michael/SoftwareProjects/CommonRoad/esmini/resources/xosc/distance_test.xosc:  59%|█████▉    | 95/161 [00:35<00:29,  2.23it/s]    "
     ]
    },
    {
     "name": "stdout",
     "output_type": "stream",
     "text": [
      "Hallo: {'plane_conversion': {'error_tolerance': 0.15, 'min_delta_s': 0.5, 'precision': 0.5}, 'file_header': {'author': 'Sebastian Maierhofer', 'affiliation': 'Technical University of Munich', 'source': 'CommonRoad Scenario Designer', 'time_step_size': 0.1}}\n"
     ]
    },
    {
     "name": "stderr",
     "output_type": "stream",
     "text": [
      "/home/michael/SoftwareProjects/CommonRoad/commonroad-scenario-designer/crdesigner/map_conversion/opendrive/opendrive_conversion/plane_elements/traffic_signals.py:45: UserWarning: OpenDRIVE/traffic_signals.py: Unknown TrafficSignIDZamunda of ID c of subtype 31!\n",
      "  warnings.warn(\"OpenDRIVE/traffic_signals.py: Unknown {}\"\n",
      "/home/michael/SoftwareProjects/CommonRoad/commonroad-scenario-designer/crdesigner/map_conversion/opendrive/opendrive_conversion/plane_elements/traffic_signals.py:45: UserWarning: OpenDRIVE/traffic_signals.py: Unknown TrafficSignIDZamunda of ID a of subtype 20!\n",
      "  warnings.warn(\"OpenDRIVE/traffic_signals.py: Unknown {}\"\n"
     ]
    },
    {
     "name": "stdout",
     "output_type": "stream",
     "text": [
      "Hallo: {'plane_conversion': {'error_tolerance': 0.15, 'min_delta_s': 0.5, 'precision': 0.5}, 'file_header': {'author': 'Sebastian Maierhofer', 'affiliation': 'Technical University of Munich', 'source': 'CommonRoad Scenario Designer', 'time_step_size': 0.1}}\n"
     ]
    },
    {
     "name": "stderr",
     "output_type": "stream",
     "text": [
      "/home/michael/SoftwareProjects/CommonRoad/esmini/resources/xosc/follow_ghost.xosc:  60%|██████    | 97/161 [00:35<00:26,  2.45it/s] "
     ]
    },
    {
     "name": "stdout",
     "output_type": "stream",
     "text": [
      "Hallo: {'plane_conversion': {'error_tolerance': 0.15, 'min_delta_s': 0.5, 'precision': 0.5}, 'file_header': {'author': 'Sebastian Maierhofer', 'affiliation': 'Technical University of Munich', 'source': 'CommonRoad Scenario Designer', 'time_step_size': 0.1}}\n",
      "Hallo: {'plane_conversion': {'error_tolerance': 0.15, 'min_delta_s': 0.5, 'precision': 0.5}, 'file_header': {'author': 'Sebastian Maierhofer', 'affiliation': 'Technical University of Munich', 'source': 'CommonRoad Scenario Designer', 'time_step_size': 0.1}}\n"
     ]
    },
    {
     "name": "stderr",
     "output_type": "stream",
     "text": [
      "/home/michael/SoftwareProjects/CommonRoad/esmini/resources/xosc/lane_change_simple.xosc:  64%|██████▍   | 103/161 [00:36<00:13,  4.35it/s]                  "
     ]
    },
    {
     "name": "stdout",
     "output_type": "stream",
     "text": [
      "Hallo: {'plane_conversion': {'error_tolerance': 0.15, 'min_delta_s': 0.5, 'precision': 0.5}, 'file_header': {'author': 'Sebastian Maierhofer', 'affiliation': 'Technical University of Munich', 'source': 'CommonRoad Scenario Designer', 'time_step_size': 0.1}}\n",
      "Hallo: {'plane_conversion': {'error_tolerance': 0.15, 'min_delta_s': 0.5, 'precision': 0.5}, 'file_header': {'author': 'Sebastian Maierhofer', 'affiliation': 'Technical University of Munich', 'source': 'CommonRoad Scenario Designer', 'time_step_size': 0.1}}\n",
      "Hallo: {'plane_conversion': {'error_tolerance': 0.15, 'min_delta_s': 0.5, 'precision': 0.5}, 'file_header': {'author': 'Sebastian Maierhofer', 'affiliation': 'Technical University of Munich', 'source': 'CommonRoad Scenario Designer', 'time_step_size': 0.1}}\n"
     ]
    },
    {
     "name": "stderr",
     "output_type": "stream",
     "text": [
      "/home/michael/SoftwareProjects/CommonRoad/esmini/resources/xosc/left-hand-traffic_by_heading.xosc:  65%|██████▌   | 105/161 [00:36<00:11,  4.93it/s]"
     ]
    },
    {
     "name": "stdout",
     "output_type": "stream",
     "text": [
      "Hallo: {'plane_conversion': {'error_tolerance': 0.15, 'min_delta_s': 0.5, 'precision': 0.5}, 'file_header': {'author': 'Sebastian Maierhofer', 'affiliation': 'Technical University of Munich', 'source': 'CommonRoad Scenario Designer', 'time_step_size': 0.1}}\n",
      "Hallo: {'plane_conversion': {'error_tolerance': 0.15, 'min_delta_s': 0.5, 'precision': 0.5}, 'file_header': {'author': 'Sebastian Maierhofer', 'affiliation': 'Technical University of Munich', 'source': 'CommonRoad Scenario Designer', 'time_step_size': 0.1}}\n"
     ]
    },
    {
     "name": "stderr",
     "output_type": "stream",
     "text": [
      "/home/michael/SoftwareProjects/CommonRoad/esmini/resources/xosc/ltap-od-relative-speed.xosc:  66%|██████▋   | 107/161 [00:36<00:10,  5.09it/s]           "
     ]
    },
    {
     "name": "stdout",
     "output_type": "stream",
     "text": [
      "Hallo: {'plane_conversion': {'error_tolerance': 0.15, 'min_delta_s': 0.5, 'precision': 0.5}, 'file_header': {'author': 'Sebastian Maierhofer', 'affiliation': 'Technical University of Munich', 'source': 'CommonRoad Scenario Designer', 'time_step_size': 0.1}}\n",
      "Hallo: {'plane_conversion': {'error_tolerance': 0.15, 'min_delta_s': 0.5, 'precision': 0.5}, 'file_header': {'author': 'Sebastian Maierhofer', 'affiliation': 'Technical University of Munich', 'source': 'CommonRoad Scenario Designer', 'time_step_size': 0.1}}\n"
     ]
    },
    {
     "name": "stderr",
     "output_type": "stream",
     "text": [
      "/home/michael/SoftwareProjects/CommonRoad/esmini/resources/xosc/ltap-od.xosc:  66%|██████▋   | 107/161 [00:36<00:10,  5.09it/s]               "
     ]
    },
    {
     "name": "stdout",
     "output_type": "stream",
     "text": [
      "Hallo: {'plane_conversion': {'error_tolerance': 0.15, 'min_delta_s': 0.5, 'precision': 0.5}, 'file_header': {'author': 'Sebastian Maierhofer', 'affiliation': 'Technical University of Munich', 'source': 'CommonRoad Scenario Designer', 'time_step_size': 0.1}}\n"
     ]
    },
    {
     "name": "stderr",
     "output_type": "stream",
     "text": [
      "/home/michael/SoftwareProjects/CommonRoad/esmini/resources/xosc/pedestrian_collision.xosc:  69%|██████▉   | 111/161 [00:37<00:09,  5.39it/s]"
     ]
    },
    {
     "name": "stdout",
     "output_type": "stream",
     "text": [
      "Hallo: {'plane_conversion': {'error_tolerance': 0.15, 'min_delta_s': 0.5, 'precision': 0.5}, 'file_header': {'author': 'Sebastian Maierhofer', 'affiliation': 'Technical University of Munich', 'source': 'CommonRoad Scenario Designer', 'time_step_size': 0.1}}\n",
      "Hallo: {'plane_conversion': {'error_tolerance': 0.15, 'min_delta_s': 0.5, 'precision': 0.5}, 'file_header': {'author': 'Sebastian Maierhofer', 'affiliation': 'Technical University of Munich', 'source': 'CommonRoad Scenario Designer', 'time_step_size': 0.1}}\n"
     ]
    },
    {
     "name": "stderr",
     "output_type": "stream",
     "text": [
      "/home/michael/SoftwareProjects/CommonRoad/esmini/resources/xosc/routing-test.xosc:  70%|███████   | 113/161 [00:37<00:08,  5.69it/s]         "
     ]
    },
    {
     "name": "stdout",
     "output_type": "stream",
     "text": [
      "Hallo: {'plane_conversion': {'error_tolerance': 0.15, 'min_delta_s': 0.5, 'precision': 0.5}, 'file_header': {'author': 'Sebastian Maierhofer', 'affiliation': 'Technical University of Munich', 'source': 'CommonRoad Scenario Designer', 'time_step_size': 0.1}}\n",
      "Hallo: {'plane_conversion': {'error_tolerance': 0.15, 'min_delta_s': 0.5, 'precision': 0.5}, 'file_header': {'author': 'Sebastian Maierhofer', 'affiliation': 'Technical University of Munich', 'source': 'CommonRoad Scenario Designer', 'time_step_size': 0.1}}\n"
     ]
    },
    {
     "name": "stderr",
     "output_type": "stream",
     "text": [
      "/home/michael/SoftwareProjects/CommonRoad/esmini/resources/xosc/sumo-test.xosc:  73%|███████▎  | 118/161 [00:38<00:07,  5.40it/s]               "
     ]
    },
    {
     "name": "stdout",
     "output_type": "stream",
     "text": [
      "Hallo: {'plane_conversion': {'error_tolerance': 0.15, 'min_delta_s': 0.5, 'precision': 0.5}, 'file_header': {'author': 'Sebastian Maierhofer', 'affiliation': 'Technical University of Munich', 'source': 'CommonRoad Scenario Designer', 'time_step_size': 0.1}}\n",
      "Hallo: {'plane_conversion': {'error_tolerance': 0.15, 'min_delta_s': 0.5, 'precision': 0.5}, 'file_header': {'author': 'Sebastian Maierhofer', 'affiliation': 'Technical University of Munich', 'source': 'CommonRoad Scenario Designer', 'time_step_size': 0.1}}\n",
      "Hallo: {'plane_conversion': {'error_tolerance': 0.15, 'min_delta_s': 0.5, 'precision': 0.5}, 'file_header': {'author': 'Sebastian Maierhofer', 'affiliation': 'Technical University of Munich', 'source': 'CommonRoad Scenario Designer', 'time_step_size': 0.1}}\n",
      "Hallo: {'plane_conversion': {'error_tolerance': 0.15, 'min_delta_s': 0.5, 'precision': 0.5}, 'file_header': {'author': 'Sebastian Maierhofer', 'affiliation': 'Technical University of Munich', 'source': 'CommonRoad Scenario Designer', 'time_step_size': 0.1}}\n",
      "Hallo: {'plane_conversion': {'error_tolerance': 0.15, 'min_delta_s': 0.5, 'precision': 0.5}, 'file_header': {'author': 'Sebastian Maierhofer', 'affiliation': 'Technical University of Munich', 'source': 'CommonRoad Scenario Designer', 'time_step_size': 0.1}}\n"
     ]
    },
    {
     "name": "stderr",
     "output_type": "stream",
     "text": [
      "Warning: Vehicle 'Target1' was removed though being controlled by TraCI\n",
      "/home/michael/SoftwareProjects/CommonRoad/esmini/resources/xosc/swarm.xosc:  73%|███████▎  | 118/161 [00:39<00:07,  5.40it/s]    "
     ]
    },
    {
     "name": "stdout",
     "output_type": "stream",
     "text": [
      "Loading configuration ... done.\n",
      "Hallo: {'plane_conversion': {'error_tolerance': 0.15, 'min_delta_s': 0.5, 'precision': 0.5}, 'file_header': {'author': 'Sebastian Maierhofer', 'affiliation': 'Technical University of Munich', 'source': 'CommonRoad Scenario Designer', 'time_step_size': 0.1}}\n"
     ]
    },
    {
     "name": "stderr",
     "output_type": "stream",
     "text": [
      "/home/michael/SoftwareProjects/CommonRoad/esmini/resources/xosc/synch_with_steady_state.xosc:  75%|███████▍  | 120/161 [00:40<00:11,  3.52it/s]"
     ]
    },
    {
     "name": "stdout",
     "output_type": "stream",
     "text": [
      "Hallo: {'plane_conversion': {'error_tolerance': 0.15, 'min_delta_s': 0.5, 'precision': 0.5}, 'file_header': {'author': 'Sebastian Maierhofer', 'affiliation': 'Technical University of Munich', 'source': 'CommonRoad Scenario Designer', 'time_step_size': 0.1}}\n"
     ]
    },
    {
     "name": "stderr",
     "output_type": "stream",
     "text": [
      "/home/michael/SoftwareProjects/CommonRoad/esmini/resources/xosc/synchronize.xosc:  75%|███████▍  | 120/161 [00:40<00:11,  3.52it/s]            "
     ]
    },
    {
     "name": "stdout",
     "output_type": "stream",
     "text": [
      "Hallo: {'plane_conversion': {'error_tolerance': 0.15, 'min_delta_s': 0.5, 'precision': 0.5}, 'file_header': {'author': 'Sebastian Maierhofer', 'affiliation': 'Technical University of Munich', 'source': 'CommonRoad Scenario Designer', 'time_step_size': 0.1}}\n"
     ]
    },
    {
     "name": "stderr",
     "output_type": "stream",
     "text": [
      "/home/michael/SoftwareProjects/CommonRoad/esmini/resources/xosc/trailers.xosc:  76%|███████▌  | 122/161 [00:41<00:15,  2.50it/s]   "
     ]
    },
    {
     "name": "stdout",
     "output_type": "stream",
     "text": [
      "Hallo: {'plane_conversion': {'error_tolerance': 0.15, 'min_delta_s': 0.5, 'precision': 0.5}, 'file_header': {'author': 'Sebastian Maierhofer', 'affiliation': 'Technical University of Munich', 'source': 'CommonRoad Scenario Designer', 'time_step_size': 0.1}}\n"
     ]
    },
    {
     "name": "stderr",
     "output_type": "stream",
     "text": [
      "/home/michael/SoftwareProjects/CommonRoad/esmini/resources/xosc/trajectory-test.xosc:  76%|███████▋  | 123/161 [00:42<00:19,  1.98it/s]"
     ]
    },
    {
     "name": "stdout",
     "output_type": "stream",
     "text": [
      "Hallo: {'plane_conversion': {'error_tolerance': 0.15, 'min_delta_s': 0.5, 'precision': 0.5}, 'file_header': {'author': 'Sebastian Maierhofer', 'affiliation': 'Technical University of Munich', 'source': 'CommonRoad Scenario Designer', 'time_step_size': 0.1}}\n"
     ]
    },
    {
     "name": "stderr",
     "output_type": "stream",
     "text": [
      "/home/michael/SoftwareProjects/CommonRoad/esmini/scripts/udp_driver/one_car_on_road.xosc:  78%|███████▊  | 125/161 [02:03<10:44, 17.90s/it]  bind socket: Address already in use\n",
      "close socket: Bad file descriptor\n",
      "/home/michael/SoftwareProjects/CommonRoad/esmini/scripts/udp_driver/two_cars_in_open_space.xosc:  78%|███████▊  | 126/161 [02:03<07:59, 13.69s/it]bind socket: Address already in use\n",
      "/home/michael/SoftwareProjects/CommonRoad/esmini/test/OSC-ALKS-scenarios/Catalogs/Controllers/ControllerCatalog.xosc:  78%|███████▊  | 126/161 [02:03<07:59, 13.69s/it]close socket: Bad file descriptor\n",
      "/home/michael/SoftwareProjects/CommonRoad/esmini/test/OSC-ALKS-scenarios/Scenarios/ALKS_Scenario_4.1_1_FreeDriving_TEMPLATE.xosc:  78%|███████▊  | 126/161 [02:03<07:59, 13.69s/it]"
     ]
    },
    {
     "name": "stdout",
     "output_type": "stream",
     "text": [
      "Hallo: {'plane_conversion': {'error_tolerance': 0.15, 'min_delta_s': 0.5, 'precision': 0.5}, 'file_header': {'author': 'Sebastian Maierhofer', 'affiliation': 'Technical University of Munich', 'source': 'CommonRoad Scenario Designer', 'time_step_size': 0.1}}\n",
      "Hallo: {'plane_conversion': {'error_tolerance': 0.15, 'min_delta_s': 0.5, 'precision': 0.5}, 'file_header': {'author': 'Sebastian Maierhofer', 'affiliation': 'Technical University of Munich', 'source': 'CommonRoad Scenario Designer', 'time_step_size': 0.1}}\n"
     ]
    },
    {
     "name": "stderr",
     "output_type": "stream",
     "text": [
      "/home/michael/SoftwareProjects/CommonRoad/esmini/test/OSC-ALKS-scenarios/Scenarios/ALKS_Scenario_4.1_3_SideVehicle_TEMPLATE.xosc:  83%|████████▎ | 133/161 [02:04<01:52,  4.00s/it]        "
     ]
    },
    {
     "name": "stdout",
     "output_type": "stream",
     "text": [
      "Hallo: {'plane_conversion': {'error_tolerance': 0.15, 'min_delta_s': 0.5, 'precision': 0.5}, 'file_header': {'author': 'Sebastian Maierhofer', 'affiliation': 'Technical University of Munich', 'source': 'CommonRoad Scenario Designer', 'time_step_size': 0.1}}\n"
     ]
    },
    {
     "name": "stderr",
     "output_type": "stream",
     "text": [
      "/home/michael/SoftwareProjects/CommonRoad/esmini/test/OSC-ALKS-scenarios/Scenarios/ALKS_Scenario_4.4_1_CutInNoCollision_TEMPLATE.xosc:  87%|████████▋ | 140/161 [02:07<00:20,  1.01it/s]               "
     ]
    },
    {
     "name": "stdout",
     "output_type": "stream",
     "text": [
      "Hallo: {'plane_conversion': {'error_tolerance': 0.15, 'min_delta_s': 0.5, 'precision': 0.5}, 'file_header': {'author': 'Sebastian Maierhofer', 'affiliation': 'Technical University of Munich', 'source': 'CommonRoad Scenario Designer', 'time_step_size': 0.1}}\n"
     ]
    },
    {
     "name": "stderr",
     "output_type": "stream",
     "text": [
      "/home/michael/SoftwareProjects/CommonRoad/esmini/test/OSC-ALKS-scenarios/Scenarios/ALKS_Scenario_4.4_2_CutInUnavoidableCollision_TEMPLATE.xosc:  88%|████████▊ | 141/161 [02:07<00:16,  1.20it/s]"
     ]
    },
    {
     "name": "stdout",
     "output_type": "stream",
     "text": [
      "Hallo: {'plane_conversion': {'error_tolerance': 0.15, 'min_delta_s': 0.5, 'precision': 0.5}, 'file_header': {'author': 'Sebastian Maierhofer', 'affiliation': 'Technical University of Munich', 'source': 'CommonRoad Scenario Designer', 'time_step_size': 0.1}}\n"
     ]
    },
    {
     "name": "stderr",
     "output_type": "stream",
     "text": [
      "/home/michael/SoftwareProjects/CommonRoad/esmini/test/OSC-ALKS-scenarios/Scenarios/ALKS_Scenario_4.5_1_CutOutFullyBlocking_TEMPLATE.xosc:  88%|████████▊ | 142/161 [02:08<00:13,  1.38it/s]      "
     ]
    },
    {
     "name": "stdout",
     "output_type": "stream",
     "text": [
      "Hallo: {'plane_conversion': {'error_tolerance': 0.15, 'min_delta_s': 0.5, 'precision': 0.5}, 'file_header': {'author': 'Sebastian Maierhofer', 'affiliation': 'Technical University of Munich', 'source': 'CommonRoad Scenario Designer', 'time_step_size': 0.1}}\n"
     ]
    },
    {
     "name": "stderr",
     "output_type": "stream",
     "text": [
      "/home/michael/SoftwareProjects/CommonRoad/esmini/test/OSC-ALKS-scenarios/Scenarios/ALKS_Scenario_4.5_2_CutOutMultipleBlockingTargets_TEMPLATE.xosc:  89%|████████▉ | 143/161 [02:08<00:11,  1.55it/s]"
     ]
    },
    {
     "name": "stdout",
     "output_type": "stream",
     "text": [
      "Hallo: {'plane_conversion': {'error_tolerance': 0.15, 'min_delta_s': 0.5, 'precision': 0.5}, 'file_header': {'author': 'Sebastian Maierhofer', 'affiliation': 'Technical University of Munich', 'source': 'CommonRoad Scenario Designer', 'time_step_size': 0.1}}\n"
     ]
    },
    {
     "name": "stderr",
     "output_type": "stream",
     "text": [
      "/home/michael/SoftwareProjects/CommonRoad/esmini/test/OSC-ALKS-scenarios/Scenarios/ALKS_Scenario_4.6_1_ForwardDetectionRange_TEMPLATE.xosc:  89%|████████▉ | 144/161 [02:09<00:10,  1.69it/s]        "
     ]
    },
    {
     "name": "stdout",
     "output_type": "stream",
     "text": [
      "Hallo: {'plane_conversion': {'error_tolerance': 0.15, 'min_delta_s': 0.5, 'precision': 0.5}, 'file_header': {'author': 'Sebastian Maierhofer', 'affiliation': 'Technical University of Munich', 'source': 'CommonRoad Scenario Designer', 'time_step_size': 0.1}}\n"
     ]
    },
    {
     "name": "stderr",
     "output_type": "stream",
     "text": [
      "/home/michael/SoftwareProjects/CommonRoad/esmini/test/OSC-ALKS-scenarios/Scenarios/ALKS_Scenario_4.6_2_LateralDetectionRange_TEMPLATE.xosc:  90%|█████████ | 145/161 [02:09<00:08,  1.79it/s]"
     ]
    },
    {
     "name": "stdout",
     "output_type": "stream",
     "text": [
      "Hallo: {'plane_conversion': {'error_tolerance': 0.15, 'min_delta_s': 0.5, 'precision': 0.5}, 'file_header': {'author': 'Sebastian Maierhofer', 'affiliation': 'Technical University of Munich', 'source': 'CommonRoad Scenario Designer', 'time_step_size': 0.1}}\n"
     ]
    },
    {
     "name": "stderr",
     "output_type": "stream",
     "text": [
      "/home/michael/SoftwareProjects/CommonRoad/esmini/test/OSC-ALKS-scenarios/Variations/ALKS_Scenario_4.1_1_FreeDriving_Variation.xosc:  91%|█████████ | 146/161 [02:10<00:07,  1.88it/s]        /home/michael/SoftwareProjects/CommonRoad/openscenario2cr/OpenSCENARIO2CR/Osc2CrConverter.py:305: UserWarning: <Osc2CrConverter/_pre_parse_scenario> ALKS_Scenario_4.1_1_FreeDriving_Variation.xosc contains no source file, but references another OpenSCENARIO file: \"/home/michael/SoftwareProjects/CommonRoad/esmini/test/OSC-ALKS-scenarios/Variations/../Scenarios/ALKS_Scenario_4.1_1_FreeDriving_TEMPLATE.xosc\"\n",
      "  warnings.warn(\n",
      "/home/michael/SoftwareProjects/CommonRoad/esmini/test/OSC-ALKS-scenarios/Variations/ALKS_Scenario_4.1_2_SwervingLeadVehicle_Variation.xosc:  91%|█████████ | 146/161 [02:10<00:07,  1.88it/s]/home/michael/SoftwareProjects/CommonRoad/openscenario2cr/OpenSCENARIO2CR/Osc2CrConverter.py:305: UserWarning: <Osc2CrConverter/_pre_parse_scenario> ALKS_Scenario_4.1_2_SwervingLeadVehicle_Variation.xosc contains no source file, but references another OpenSCENARIO file: \"/home/michael/SoftwareProjects/CommonRoad/esmini/test/OSC-ALKS-scenarios/Variations/../Scenarios/ALKS_Scenario_4.1_2_SwervingLeadVehicle_TEMPLATE.xosc\"\n",
      "  warnings.warn(\n",
      "/home/michael/SoftwareProjects/CommonRoad/esmini/test/OSC-ALKS-scenarios/Variations/ALKS_Scenario_4.1_3_SideVehicle_Variation.xosc:  91%|█████████ | 146/161 [02:10<00:07,  1.88it/s]        /home/michael/SoftwareProjects/CommonRoad/openscenario2cr/OpenSCENARIO2CR/Osc2CrConverter.py:305: UserWarning: <Osc2CrConverter/_pre_parse_scenario> ALKS_Scenario_4.1_3_SideVehicle_Variation.xosc contains no source file, but references another OpenSCENARIO file: \"/home/michael/SoftwareProjects/CommonRoad/esmini/test/OSC-ALKS-scenarios/Variations/../Scenarios/ALKS_Scenario_4.1_3_SideVehicle_TEMPLATE.xosc\"\n",
      "  warnings.warn(\n",
      "/home/michael/SoftwareProjects/CommonRoad/esmini/test/OSC-ALKS-scenarios/Variations/ALKS_Scenario_4.2_1_FullyBlockingTarget_Variation.xosc:  91%|█████████ | 146/161 [02:10<00:07,  1.88it/s]/home/michael/SoftwareProjects/CommonRoad/openscenario2cr/OpenSCENARIO2CR/Osc2CrConverter.py:305: UserWarning: <Osc2CrConverter/_pre_parse_scenario> ALKS_Scenario_4.2_1_FullyBlockingTarget_Variation.xosc contains no source file, but references another OpenSCENARIO file: \"/home/michael/SoftwareProjects/CommonRoad/esmini/test/OSC-ALKS-scenarios/Variations/../Scenarios/ALKS_Scenario_4.2_1_FullyBlockingTarget_TEMPLATE.xosc\"\n",
      "  warnings.warn(\n",
      "/home/michael/SoftwareProjects/CommonRoad/esmini/test/OSC-ALKS-scenarios/Variations/ALKS_Scenario_4.2_2_PartiallyBlockingTarget_Variation.xosc:  91%|█████████ | 146/161 [02:10<00:07,  1.88it/s]/home/michael/SoftwareProjects/CommonRoad/openscenario2cr/OpenSCENARIO2CR/Osc2CrConverter.py:305: UserWarning: <Osc2CrConverter/_pre_parse_scenario> ALKS_Scenario_4.2_2_PartiallyBlockingTarget_Variation.xosc contains no source file, but references another OpenSCENARIO file: \"/home/michael/SoftwareProjects/CommonRoad/esmini/test/OSC-ALKS-scenarios/Variations/../Scenarios/ALKS_Scenario_4.2_2_PartiallyBlockingTarget_TEMPLATE.xosc\"\n",
      "  warnings.warn(\n",
      "/home/michael/SoftwareProjects/CommonRoad/esmini/test/OSC-ALKS-scenarios/Variations/ALKS_Scenario_4.2_3_CrossingPedestrian_Variation.xosc:  91%|█████████ | 146/161 [02:10<00:07,  1.88it/s]     /home/michael/SoftwareProjects/CommonRoad/openscenario2cr/OpenSCENARIO2CR/Osc2CrConverter.py:305: UserWarning: <Osc2CrConverter/_pre_parse_scenario> ALKS_Scenario_4.2_3_CrossingPedestrian_Variation.xosc contains no source file, but references another OpenSCENARIO file: \"/home/michael/SoftwareProjects/CommonRoad/esmini/test/OSC-ALKS-scenarios/Variations/../Scenarios/ALKS_Scenario_4.2_3_CrossingPedestrian_TEMPLATE.xosc\"\n",
      "  warnings.warn(\n",
      "/home/michael/SoftwareProjects/CommonRoad/esmini/test/OSC-ALKS-scenarios/Variations/ALKS_Scenario_4.2_4_MultipleBlockingTargets_Variation.xosc:  91%|█████████ | 146/161 [02:10<00:07,  1.88it/s]/home/michael/SoftwareProjects/CommonRoad/openscenario2cr/OpenSCENARIO2CR/Osc2CrConverter.py:305: UserWarning: <Osc2CrConverter/_pre_parse_scenario> ALKS_Scenario_4.2_4_MultipleBlockingTargets_Variation.xosc contains no source file, but references another OpenSCENARIO file: \"/home/michael/SoftwareProjects/CommonRoad/esmini/test/OSC-ALKS-scenarios/Variations/../Scenarios/ALKS_Scenario_4.2_4_MultipleBlockingTargets_TEMPLATE.xosc\"\n",
      "  warnings.warn(\n",
      "/home/michael/SoftwareProjects/CommonRoad/esmini/test/OSC-ALKS-scenarios/Variations/ALKS_Scenario_4.3_1_FollowLeadVehicleComfortable_Variation.xosc:  91%|█████████ | 146/161 [02:10<00:07,  1.88it/s]/home/michael/SoftwareProjects/CommonRoad/openscenario2cr/OpenSCENARIO2CR/Osc2CrConverter.py:305: UserWarning: <Osc2CrConverter/_pre_parse_scenario> ALKS_Scenario_4.3_1_FollowLeadVehicleComfortable_Variation.xosc contains no source file, but references another OpenSCENARIO file: \"/home/michael/SoftwareProjects/CommonRoad/esmini/test/OSC-ALKS-scenarios/Variations/../Scenarios/ALKS_Scenario_4.3_1_FollowLeadVehicleComfortable_TEMPLATE.xosc\"\n",
      "  warnings.warn(\n",
      "/home/michael/SoftwareProjects/CommonRoad/esmini/test/OSC-ALKS-scenarios/Variations/ALKS_Scenario_4.3_2_FollowLeadVehicleEmergencyBrake_Variation.xosc:  91%|█████████ | 146/161 [02:10<00:07,  1.88it/s]/home/michael/SoftwareProjects/CommonRoad/openscenario2cr/OpenSCENARIO2CR/Osc2CrConverter.py:305: UserWarning: <Osc2CrConverter/_pre_parse_scenario> ALKS_Scenario_4.3_2_FollowLeadVehicleEmergencyBrake_Variation.xosc contains no source file, but references another OpenSCENARIO file: \"/home/michael/SoftwareProjects/CommonRoad/esmini/test/OSC-ALKS-scenarios/Variations/../Scenarios/ALKS_Scenario_4.3_2_FollowLeadVehicleEmergencyBrake_TEMPLATE.xosc\"\n",
      "  warnings.warn(\n",
      "/home/michael/SoftwareProjects/CommonRoad/esmini/test/OSC-ALKS-scenarios/Variations/ALKS_Scenario_4.3_2_FollowLeadVehicleEmergencyBrake_Variation_Reference.xosc:  91%|█████████ | 146/161 [02:10<00:07,  1.88it/s]/home/michael/SoftwareProjects/CommonRoad/openscenario2cr/OpenSCENARIO2CR/Osc2CrConverter.py:305: UserWarning: <Osc2CrConverter/_pre_parse_scenario> ALKS_Scenario_4.3_2_FollowLeadVehicleEmergencyBrake_Variation_Reference.xosc contains no source file, but references another OpenSCENARIO file: \"/home/michael/SoftwareProjects/CommonRoad/esmini/test/OSC-ALKS-scenarios/Variations/../Scenarios/ALKS_Scenario_4.3_2_FollowLeadVehicleEmergencyBrake_TEMPLATE.xosc\"\n",
      "  warnings.warn(\n",
      "/home/michael/SoftwareProjects/CommonRoad/esmini/test/OSC-ALKS-scenarios/Variations/ALKS_Scenario_4.4_1_CutInNoCollision_Variation.xosc:  91%|█████████ | 146/161 [02:10<00:07,  1.88it/s]                         /home/michael/SoftwareProjects/CommonRoad/openscenario2cr/OpenSCENARIO2CR/Osc2CrConverter.py:305: UserWarning: <Osc2CrConverter/_pre_parse_scenario> ALKS_Scenario_4.4_1_CutInNoCollision_Variation.xosc contains no source file, but references another OpenSCENARIO file: \"/home/michael/SoftwareProjects/CommonRoad/esmini/test/OSC-ALKS-scenarios/Variations/../Scenarios/ALKS_Scenario_4.4_1_CutInNoCollision_TEMPLATE.xosc\"\n",
      "  warnings.warn(\n",
      "/home/michael/SoftwareProjects/CommonRoad/esmini/test/OSC-ALKS-scenarios/Variations/ALKS_Scenario_4.5_1_CutOutFullyBlocking_Variation.xosc:  91%|█████████ | 146/161 [02:10<00:07,  1.88it/s]/home/michael/SoftwareProjects/CommonRoad/openscenario2cr/OpenSCENARIO2CR/Osc2CrConverter.py:305: UserWarning: <Osc2CrConverter/_pre_parse_scenario> ALKS_Scenario_4.5_1_CutOutFullyBlocking_Variation.xosc contains no source file, but references another OpenSCENARIO file: \"/home/michael/SoftwareProjects/CommonRoad/esmini/test/OSC-ALKS-scenarios/Variations/../Scenarios/ALKS_Scenario_4.5_1_CutOutFullyBlocking_TEMPLATE.xosc\"\n",
      "  warnings.warn(\n",
      "/home/michael/SoftwareProjects/CommonRoad/esmini/test/OSC-ALKS-scenarios/Variations/ALKS_Scenario_4.5_2_CutOutMultipleBlockingTargets_Variation.xosc:  91%|█████████ | 146/161 [02:10<00:07,  1.88it/s]/home/michael/SoftwareProjects/CommonRoad/openscenario2cr/OpenSCENARIO2CR/Osc2CrConverter.py:305: UserWarning: <Osc2CrConverter/_pre_parse_scenario> ALKS_Scenario_4.5_2_CutOutMultipleBlockingTargets_Variation.xosc contains no source file, but references another OpenSCENARIO file: \"/home/michael/SoftwareProjects/CommonRoad/esmini/test/OSC-ALKS-scenarios/Variations/../Scenarios/ALKS_Scenario_4.5_2_CutOutMultipleBlockingTargets_TEMPLATE.xosc\"\n",
      "  warnings.warn(\n",
      "/home/michael/SoftwareProjects/CommonRoad/esmini/test/OSC-ALKS-scenarios/Variations/ALKS_Scenario_4.6_1_ForwardDetectionRange_Variation.xosc:  91%|█████████ | 146/161 [02:10<00:07,  1.88it/s]        /home/michael/SoftwareProjects/CommonRoad/openscenario2cr/OpenSCENARIO2CR/Osc2CrConverter.py:305: UserWarning: <Osc2CrConverter/_pre_parse_scenario> ALKS_Scenario_4.6_1_ForwardDetectionRange_Variation.xosc contains no source file, but references another OpenSCENARIO file: \"/home/michael/SoftwareProjects/CommonRoad/esmini/test/OSC-ALKS-scenarios/Variations/../Scenarios/ALKS_Scenario_4.6_1_ForwardDetectionRange_TEMPLATE.xosc\"\n",
      "  warnings.warn(\n",
      "/home/michael/SoftwareProjects/CommonRoad/esmini/test/OSC-ALKS-scenarios/Variations/ALKS_Scenario_4.6_2_LateralDetectionRange_Variation.xosc:  91%|█████████ | 146/161 [02:10<00:07,  1.88it/s]/home/michael/SoftwareProjects/CommonRoad/openscenario2cr/OpenSCENARIO2CR/Osc2CrConverter.py:305: UserWarning: <Osc2CrConverter/_pre_parse_scenario> ALKS_Scenario_4.6_2_LateralDetectionRange_Variation.xosc contains no source file, but references another OpenSCENARIO file: \"/home/michael/SoftwareProjects/CommonRoad/esmini/test/OSC-ALKS-scenarios/Variations/../Scenarios/ALKS_Scenario_4.6_2_LateralDetectionRange_TEMPLATE.xosc\"\n",
      "  warnings.warn(\n",
      "/home/michael/SoftwareProjects/CommonRoad/esmini/test/OSC-ALKS-scenarios/Variations/ALKS_Scenario_4.6_2_LateralDetectionRange_Variation.xosc: 100%|██████████| 161/161 [02:10<00:00,  1.24it/s]\n"
     ]
    }
   ],
   "source": [
    "time_conversion_started = datetime.now()\n",
    "results: Dict[str, BatchConversionResult] = batch_converter.run_batch_conversion(num_worker=0)\n",
    "time_conversion_finished = datetime.now()"
   ],
   "metadata": {
    "collapsed": false
   }
  },
  {
   "cell_type": "code",
   "execution_count": 5,
   "outputs": [],
   "source": [
    "from commonroad.scenario.scenario import Tag\n",
    "from commonroad.common.file_writer import CommonRoadFileWriter, OverwriteExistingFile\n",
    "import yaml\n",
    "\n",
    "storage_path = \"results/{}\".format(time_conversion_finished.isoformat(sep=\"_\", timespec=\"seconds\"))\n",
    "store = True\n",
    "\n",
    "if store:\n",
    "    if not path.exists(storage_path):\n",
    "        os.mkdir(storage_path)\n",
    "    statistics_dict = {}\n",
    "    written_scenarios: List[str] = []\n",
    "    for scenario_path, result in results.items():\n",
    "        basename = path.basename(scenario_path)\n",
    "        path_no_extension = path.join(storage_path, path.splitext(basename)[0])\n",
    "        if path_no_extension in written_scenarios:\n",
    "            i = 1\n",
    "            while True:\n",
    "                if (new_path := path_no_extension + f\"-{i}\") not in written_scenarios:\n",
    "                    path_no_extension = new_path\n",
    "                    break\n",
    "                else:\n",
    "                    i += 1\n",
    "        written_scenarios.append(path_no_extension)\n",
    "\n",
    "        if result.without_exception:\n",
    "            if isinstance(result.conversion_result, EFailureReason):\n",
    "                statistics_dict[path_no_extension] = (\"failure\", result.conversion_result.name)\n",
    "            else:\n",
    "                scenario, planning_problem_set, statistics = result.conversion_result\n",
    "                statistics_dict[path_no_extension] = (\"success\", statistics.to_dict())\n",
    "                CommonRoadFileWriter(\n",
    "                    scenario=scenario,\n",
    "                    planning_problem_set=planning_problem_set,\n",
    "                    author=\"ADD AUTHOR HERE\",\n",
    "                    affiliation=\"ADD AFFILIATION HERE\",\n",
    "                    source=\"ADD SOURCE HERE\",\n",
    "                    tags={Tag.SIMULATED},\n",
    "                ).write_to_file(path_no_extension + \".xml\", OverwriteExistingFile.ALWAYS)\n",
    "        else:\n",
    "            statistics_dict[path_no_extension] = (\"error\", result.exception.to_dict())\n",
    "\n",
    "    with open(path.join(storage_path, \"statistics.yml\"), \"w\") as file:\n",
    "        yaml.safe_dump(statistics_dict, file)\n"
   ],
   "metadata": {
    "collapsed": false
   }
  },
  {
   "cell_type": "code",
   "execution_count": 6,
   "outputs": [],
   "source": [
    "\n",
    "from OpenSCENARIO2CR.ConversionAnalyzer.ErrorAnalysisResult import ErrorAnalysisResult\n",
    "\n",
    "errors: Dict[ErrorAnalysisResult, int] = {}\n",
    "for result in results.values():\n",
    "    if result.without_exception:\n",
    "        if not isinstance(result.conversion_result, EFailureReason):\n",
    "            scenario, planning_problem_set, statistics = result.conversion_result\n",
    "            for analysis_type, analysis_result in statistics.analysis.items():\n",
    "                for vehicle_name, vehicle_result in analysis_result.items():\n",
    "                    if isinstance(vehicle_result, ErrorAnalysisResult):\n",
    "                        if vehicle_result in errors:\n",
    "                            errors[vehicle_result] += 1\n",
    "                        else:\n",
    "                            errors[vehicle_result] = 1\n",
    "\n",
    "for error, count in errors.items():\n",
    "    print(f\"{count}\\n{error.traceback_text}\")\n",
    "    print(\"\\n\" * 3)"
   ],
   "metadata": {
    "collapsed": false
   }
  }
 ],
 "metadata": {
  "kernelspec": {
   "display_name": "Python 3",
   "language": "python",
   "name": "python3"
  },
  "language_info": {
   "codemirror_mode": {
    "name": "ipython",
    "version": 2
   },
   "file_extension": ".py",
   "mimetype": "text/x-python",
   "name": "python",
   "nbconvert_exporter": "python",
   "pygments_lexer": "ipython2",
   "version": "2.7.6"
  }
 },
 "nbformat": 4,
 "nbformat_minor": 0
}
