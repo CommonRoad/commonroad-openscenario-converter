{
 "cells": [
  {
   "cell_type": "code",
   "execution_count": null,
   "metadata": {
    "collapsed": true,
    "pycharm": {
     "name": "#%%\n"
    }
   },
   "outputs": [],
   "source": [
    "import re\n",
    "from typing import List, Union\n",
    "\n",
    "from commonroad.common.util import Interval, AngleInterval\n",
    "\n",
    "from BatchConversion.BatchConverter import BatchConverter\n",
    "from OpenSCENARIO2CR.AbsRel import AbsRel\n",
    "from OpenSCENARIO2CR.ConversionStatistics import ConversionStatistics\n",
    "from OpenSCENARIO2CR.EsminiWrapper.StoryBoardElement import EStoryBoardElementType\n",
    "from OpenSCENARIO2CR.Osc2CrConverter import Osc2CrConverter, EFailureReason"
   ]
  },
  {
   "cell_type": "code",
   "execution_count": null,
   "outputs": [],
   "source": [
    "converter = Osc2CrConverter(\n",
    "    delta_t=0.1,\n",
    "    goal_state_position_width=5,\n",
    "    goal_state_position_length=25,\n",
    "    goal_state_position_use_ego_rotation=True,\n",
    "    goal_state_time_step=AbsRel[Interval](Interval(-5, 0), is_absolute=False),\n",
    "    goal_state_orientation=AbsRel[AngleInterval](AngleInterval(-0.8, 0.8), is_absolute=False),\n",
    "\n",
    "    keep_ego_vehicle=True,\n",
    "    do_run_cr_monitor=True,\n",
    "    do_trim_scenario=False,\n",
    "\n",
    "    ego_filter=re.compile(r\".*ego.*\", re.IGNORECASE),\n",
    "\n",
    "    use_implicit_odr_file=True,\n",
    "\n",
    "    max_time=120.0,\n",
    "    grace_time=1.0,\n",
    "    ignored_level=EStoryBoardElementType.ACT,\n",
    "    log_to_console=False,\n",
    "    log_to_file=False,\n",
    ")\n",
    "batch_converter = BatchConverter(converter)"
   ],
   "metadata": {
    "collapsed": false,
    "pycharm": {
     "name": "#%%\n"
    }
   }
  },
  {
   "cell_type": "code",
   "execution_count": null,
   "outputs": [],
   "source": [
    "from os.path import expanduser\n",
    "\n",
    "batch_converter.discover_files(expanduser(\"~\"), re.compile(r\".*\\.xosc\", re.IGNORECASE), recursively=True)"
   ],
   "metadata": {
    "collapsed": false,
    "pycharm": {
     "name": "#%%\n"
    }
   }
  },
  {
   "cell_type": "code",
   "execution_count": null,
   "outputs": [],
   "source": [
    "results = batch_converter.run_batch_conversion()"
   ],
   "metadata": {
    "collapsed": false,
    "pycharm": {
     "name": "#%%\n"
    }
   }
  },
  {
   "cell_type": "code",
   "execution_count": null,
   "outputs": [],
   "source": [
    "from commonroad.scenario.scenario import Tag\n",
    "from commonroad.planning.planning_problem import PlanningProblemSet\n",
    "from commonroad.common.file_writer import CommonRoadFileWriter\n",
    "from os import path\n",
    "import yaml\n",
    "\n",
    "store_scenarios = True\n",
    "store_statistics = True\n",
    "storage_path = \"results\"\n",
    "\n",
    "for scenario_path, result in results.items():\n",
    "    storage_path_without_extension = path.join(storage_path, path.splitext(path.basename(scenario_path))[0])\n",
    "    if result[0]:\n",
    "        if isinstance(result[1], EFailureReason):\n",
    "            print(f\"{path.basename(scenario_path)}: {result[1]}\")\n",
    "            continue\n",
    "        scenario, planning_problem_set, statistics = result[1]\n",
    "        if store_scenarios and scenario is not None:\n",
    "            if planning_problem_set is None:\n",
    "                planning_problem_set = PlanningProblemSet()\n",
    "            writer = CommonRoadFileWriter(\n",
    "                scenario=scenario,\n",
    "                planning_problem_set=planning_problem_set,\n",
    "                author=\"Michael Ratzel\",\n",
    "                affiliation=\"TUM\",\n",
    "                source=\"Esmini\",\n",
    "                tags={Tag.SIMULATED}\n",
    "            )\n",
    "            print(f\"{scenario_path} -> {storage_path_without_extension}.xml\")\n",
    "            writer.write_to_file(storage_path_without_extension + \".xml\")\n",
    "        if store_statistics and statistics is not None and isinstance(statistics, ConversionStatistics):\n",
    "            with open(storage_path_without_extension + \".yaml\", mode=\"w\") as file:\n",
    "                yaml.safe_dump(statistics.to_dict(), file)\n",
    "    else:\n",
    "        print(f\"{path.basename(scenario_path)}: {result[1]}\")\n"
   ],
   "metadata": {
    "collapsed": false,
    "pycharm": {
     "name": "#%%\n"
    }
   }
  },
  {
   "cell_type": "code",
   "execution_count": null,
   "outputs": [],
   "source": [
    "for scenario_path, result in results.items():\n",
    "    if not result[0]:\n",
    "        print(\"{:40s} {}\".format(path.basename(scenario_path), result[1][0]))"
   ],
   "metadata": {
    "collapsed": false,
    "pycharm": {
     "name": "#%%\n"
    }
   }
  },
  {
   "cell_type": "code",
   "execution_count": null,
   "outputs": [],
   "source": [
    "counts = {\n",
    "    \"conversions_total\": 0,\n",
    "    \"conversion_successful\": 0,\n",
    "    \"conversion_failed\": 0,\n",
    "    \"conversion_errored\": 0,\n",
    "    \"total_obstacles\": 0,\n",
    "    \"failed_obstacles\": 0,\n",
    "    \"monitor_success\": 0,\n",
    "    \"monitor_success_partially\": 0,\n",
    "    \"compliance_checks\": 0,\n",
    "    \"compliant_monitor_R_G1\": 0,\n",
    "    \"compliant_monitor_R_G2\": 0,\n",
    "    \"compliant_monitor_R_G3\": 0,\n",
    "}\n",
    "\n",
    "for scenario_path, result in results.items():\n",
    "    counts[\"conversions_total\"] += 1\n",
    "    if result[0] and not isinstance(result[1], EFailureReason):\n",
    "        scenario, planning_problem_set, statistics = result[1]\n",
    "        counts[\"conversion_successful\"] += 1\n",
    "        counts[\"total_obstacles\"] += len(scenario.dynamic_obstacles)\n",
    "        counts[\"failed_obstacles\"] += len(statistics.failed_obstacle_conversions)\n",
    "        if statistics.cr_monitor_analysis is not None:\n",
    "            any_values_not_none = False\n",
    "            all_values_not_none = True\n",
    "            for values in statistics.cr_monitor_analysis.values():\n",
    "                if values is None:\n",
    "                    all_values_not_none = False\n",
    "                else:\n",
    "                    any_values_not_none = True\n",
    "                    counts[\"compliance_checks\"] += 1\n",
    "                    if all([value >= 0.0 for value in values[\"R_G1\"]]):\n",
    "                        counts[\"compliant_monitor_R_G1\"] += 1\n",
    "                    if all([value >= 0.0 for value in values[\"R_G2\"]]):\n",
    "                        counts[\"compliant_monitor_R_G2\"] += 1\n",
    "                    if all([value >= 0.0 for value in values[\"R_G3\"]]):\n",
    "                        counts[\"compliant_monitor_R_G3\"] += 1\n",
    "            if all_values_not_none:\n",
    "                counts[\"monitor_success\"] += 1\n",
    "            elif any_values_not_none:\n",
    "                counts[\"monitor_success_partially\"] += 1\n",
    "\n",
    "    elif result[0]:\n",
    "        counts[\"conversion_failed\"] += 1\n",
    "    else:\n",
    "        counts[\"conversion_errored\"] += 1\n",
    "\n",
    "\n",
    "def percentage(description: str, count_part: Union[str, List[str]], count_total: str, invert: bool = False):\n",
    "    part_sum = counts[count_part] if isinstance(count_part, str) else sum([counts[part] for part in count_part])\n",
    "    res = 100.0 * part_sum / counts[count_total]\n",
    "    print(\"{:30s} {:5.1f} %\".format(description + \":\", 100 - res if invert else res))\n",
    "\n",
    "\n",
    "print(\"{:30s} {:5d}\".format(\"Total num scenarios:\", counts[\"conversions_total\"]))\n",
    "percentage(\"Conversion success rate\", \"conversion_successful\", \"conversions_total\")\n",
    "percentage(\"Conversion failure rate\", \"conversion_failed\", \"conversions_total\")\n",
    "percentage(\"Conversion error rate\", \"conversion_errored\", \"conversions_total\")\n",
    "percentage(\"Obstacle conversion rate\", \"failed_obstacles\", \"total_obstacles\", invert=True)\n",
    "percentage(\"CR monitor full success rate\", \"monitor_success\", \"conversion_successful\")\n",
    "percentage(\"        partial success rate\", \"monitor_success_partially\", \"conversion_successful\")\n",
    "percentage(\" full + partial success rate\", [\"monitor_success\", \"monitor_success_partially\"], \"conversion_successful\")\n",
    "percentage(\"      R_G1 compliance\", \"compliant_monitor_R_G1\", \"compliance_checks\")\n",
    "percentage(\"      R_G2 compliance\", \"compliant_monitor_R_G2\", \"compliance_checks\")\n",
    "percentage(\"      R_G3 compliance\", \"compliant_monitor_R_G3\", \"compliance_checks\")"
   ],
   "metadata": {
    "collapsed": false,
    "pycharm": {
     "name": "#%%\n"
    }
   }
  },
  {
   "cell_type": "code",
   "execution_count": null,
   "outputs": [],
   "source": [
    "for filepath in results.keys():\n",
    "    print(filepath)"
   ],
   "metadata": {
    "collapsed": false,
    "pycharm": {
     "name": "#%%\n"
    }
   }
  },
  {
   "cell_type": "code",
   "execution_count": null,
   "outputs": [],
   "source": [
    "for filepath, result in results.items():\n",
    "    if result[0] is True and isinstance(result[1], EFailureReason):\n",
    "        print(result[1].name, filepath)\n",
    "    elif not result[0]:\n",
    "        continue\n",
    "        print(filepath, result[1][0])"
   ],
   "metadata": {
    "collapsed": false,
    "pycharm": {
     "name": "#%%\n"
    }
   }
  }
 ],
 "metadata": {
  "kernelspec": {
   "display_name": "Python 3",
   "language": "python",
   "name": "python3"
  },
  "language_info": {
   "codemirror_mode": {
    "name": "ipython",
    "version": 2
   },
   "file_extension": ".py",
   "mimetype": "text/x-python",
   "name": "python",
   "nbconvert_exporter": "python",
   "pygments_lexer": "ipython2",
   "version": "2.7.6"
  }
 },
 "nbformat": 4,
 "nbformat_minor": 0
}